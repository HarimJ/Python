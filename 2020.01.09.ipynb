{
 "cells": [
  {
   "cell_type": "code",
   "execution_count": null,
   "metadata": {},
   "outputs": [],
   "source": [
    "# 2020.01.09"
   ]
  },
  {
   "cell_type": "code",
   "execution_count": null,
   "metadata": {},
   "outputs": [],
   "source": [
    "# python : 문자열 처리\n",
    "- 검색, 분리(split), 추출, 대체, 결합, 공백처리\n",
    "- 문자열의 기본자료구조는 배열 \n",
    "1,2 4바이트 : "
   ]
  },
  {
   "cell_type": "code",
   "execution_count": null,
   "metadata": {},
   "outputs": [],
   "source": [
    "# 정규표현식(regular expression) : re => 똑같은 방식으로 처리\n",
    "- 패턴으로 처리\n"
   ]
  },
  {
   "cell_type": "code",
   "execution_count": 3,
   "metadata": {},
   "outputs": [
    {
     "name": "stdout",
     "output_type": "stream",
     "text": [
      "C\n",
      "(\n",
      "0\n",
      "(=N)\n",
      "C(=0)\n"
     ]
    }
   ],
   "source": [
    "smiles = \"C(=N)(N)N,C(=0)(0)0\"   # 1차원\n",
    "print(smiles[0])\n",
    "print(smiles[1])\n",
    "print(smiles[-1])\n",
    "print(smiles[1:5])\n",
    "print(smiles[10:-4])"
   ]
  },
  {
   "cell_type": "code",
   "execution_count": 22,
   "metadata": {},
   "outputs": [
    {
     "name": "stdout",
     "output_type": "stream",
     "text": [
      "7\n",
      "4\n",
      "that that is is that that is\n"
     ]
    },
    {
     "data": {
      "text/plain": [
       "0"
      ]
     },
     "execution_count": 22,
     "metadata": {},
     "output_type": "execute_result"
    }
   ],
   "source": [
    "s = \"That that is is that that is\"   # 문자열에서 대소문자 구분\n",
    "print(s.count(\"t\"))\n",
    "s = s.lower()   # 소문자로 바꿔줌\n",
    "print(s.count(\"that\"))\n",
    "print(s)\n",
    "s.find(\"that\")# 단어별 찾기"
   ]
  },
  {
   "cell_type": "code",
   "execution_count": null,
   "metadata": {},
   "outputs": [],
   "source": [
    "다시보기"
   ]
  },
  {
   "cell_type": "code",
   "execution_count": 7,
   "metadata": {},
   "outputs": [
    {
     "name": "stdout",
     "output_type": "stream",
     "text": [
      "C:\\nowhere\n",
      "C:\\\\nowhere\n",
      "Hello, world\n"
     ]
    }
   ],
   "source": [
    "# ASCII code 95 = a\n",
    "print('C:\\\\nowhere')\n",
    "print(r'C:\\\\nowhere')  # 정규표현식  #3버전은 기본적으로 유니코드\n",
    "print(u'Hello, world')"
   ]
  },
  {
   "cell_type": "code",
   "execution_count": 11,
   "metadata": {},
   "outputs": [],
   "source": [
    "# pandas도 문자열 함수 지원\n",
    "import pandas as pd\n",
    "monte = pd.Series(['Graham Chapman', 'John Cleese', 'Terry Gilliam',\n",
    "                   'Eric Idle', 'Terry Jones', 'Michael Palin']) "
   ]
  },
  {
   "cell_type": "code",
   "execution_count": 13,
   "metadata": {},
   "outputs": [
    {
     "data": {
      "text/plain": [
       "0    graham chapman\n",
       "1       john cleese\n",
       "2     terry gilliam\n",
       "3         eric idle\n",
       "4       terry jones\n",
       "5     michael palin\n",
       "dtype: object"
      ]
     },
     "execution_count": 13,
     "metadata": {},
     "output_type": "execute_result"
    }
   ],
   "source": [
    "monte.str.lower()"
   ]
  },
  {
   "cell_type": "code",
   "execution_count": 15,
   "metadata": {},
   "outputs": [
    {
     "data": {
      "text/plain": [
       "0    14\n",
       "1    11\n",
       "2    13\n",
       "3     9\n",
       "4    11\n",
       "5    13\n",
       "dtype: int64"
      ]
     },
     "execution_count": 15,
     "metadata": {},
     "output_type": "execute_result"
    }
   ],
   "source": [
    "monte.str.len()"
   ]
  },
  {
   "cell_type": "code",
   "execution_count": 18,
   "metadata": {},
   "outputs": [
    {
     "data": {
      "text/plain": [
       "0    False\n",
       "1    False\n",
       "2     True\n",
       "3    False\n",
       "4     True\n",
       "5    False\n",
       "dtype: bool"
      ]
     },
     "execution_count": 18,
     "metadata": {},
     "output_type": "execute_result"
    }
   ],
   "source": [
    "monte.str.startswith('T')"
   ]
  },
  {
   "cell_type": "code",
   "execution_count": 19,
   "metadata": {},
   "outputs": [
    {
     "data": {
      "text/plain": [
       "0    [Graham, Chapman]\n",
       "1       [John, Cleese]\n",
       "2     [Terry, Gilliam]\n",
       "3         [Eric, Idle]\n",
       "4       [Terry, Jones]\n",
       "5     [Michael, Palin]\n",
       "dtype: object"
      ]
     },
     "execution_count": 19,
     "metadata": {},
     "output_type": "execute_result"
    }
   ],
   "source": [
    "monte.str.split()"
   ]
  },
  {
   "cell_type": "code",
   "execution_count": 20,
   "metadata": {},
   "outputs": [
    {
     "data": {
      "text/plain": [
       "0     Graham\n",
       "1       John\n",
       "2      Terry\n",
       "3       Eric\n",
       "4      Terry\n",
       "5    Michael\n",
       "dtype: object"
      ]
     },
     "execution_count": 20,
     "metadata": {},
     "output_type": "execute_result"
    }
   ],
   "source": [
    "# 정규표현식\n",
    "# [] : 선택 + 여러개\n",
    "# 추출\n",
    "monte.str.extract('([A-Za-z]+)', expand = False )"
   ]
  },
  {
   "cell_type": "code",
   "execution_count": 24,
   "metadata": {},
   "outputs": [
    {
     "data": {
      "text/plain": [
       "0    [Graham Chapman]\n",
       "1                  []\n",
       "2     [Terry Gilliam]\n",
       "3                  []\n",
       "4       [Terry Jones]\n",
       "5     [Michael Palin]\n",
       "dtype: object"
      ]
     },
     "execution_count": 24,
     "metadata": {},
     "output_type": "execute_result"
    }
   ],
   "source": [
    "# ^: 처음부터 , [^] : 부정\n",
    "monte.str.findall(r'^[^AEIOU].*[^aeiou]$')"
   ]
  },
  {
   "cell_type": "code",
   "execution_count": 25,
   "metadata": {},
   "outputs": [
    {
     "name": "stdout",
     "output_type": "stream",
     "text": [
      "032-232-3245\n"
     ]
    }
   ],
   "source": [
    "import re\n",
    "text = \"문의사항이 있으면 '032-232-3245' 으로 연락주시기 바랍니다.\"\n",
    "\n",
    "# \\d : 숫자한개\n",
    "# {}는 개수\n",
    "# 패턴을 컴파일\n",
    "regex = re.compile(r'\\d\\d\\d-\\d\\d\\d\\d-\\d\\d\\d\\d')\n",
    "regex = re.compile(r'(\\d{3})-(\\d{3}-\\d{4})')  # 하나의 단위로 {}\n",
    "matchobj = regex.search(text)\n",
    "phonenumber = matchobj.group()  # 여러개가 나오는 상황\n",
    "print(phonenumber)\n"
   ]
  },
  {
   "cell_type": "code",
   "execution_count": null,
   "metadata": {},
   "outputs": [],
   "source": [
    "??"
   ]
  },
  {
   "cell_type": "code",
   "execution_count": 37,
   "metadata": {},
   "outputs": [
    {
     "data": {
      "text/plain": [
       "0     True\n",
       "1    False\n",
       "2    False\n",
       "3     True\n",
       "4    False\n",
       "5    False\n",
       "6     True\n",
       "7    False\n",
       "8    False\n",
       "dtype: bool"
      ]
     },
     "execution_count": 37,
     "metadata": {},
     "output_type": "execute_result"
    }
   ],
   "source": [
    "import numpy as np\n",
    "s4 = pd.Series(['A','B','C','Aaba','Baca', np.nan, 'CABA','dog','cat'])\n",
    "s4.str.contains('A', na = False)"
   ]
  },
  {
   "cell_type": "code",
   "execution_count": 28,
   "metadata": {},
   "outputs": [
    {
     "name": "stdout",
     "output_type": "stream",
     "text": [
      "Dave     iadslba@naver.com\n",
      "Steve      steve@gmail.com\n",
      "Rob                    rob\n",
      "Wes                    NaN\n",
      "dtype: object\n"
     ]
    }
   ],
   "source": [
    "from pandas import Series, DataFrame\n",
    "import pandas as pd\n",
    "import numpy as np\n",
    "\n",
    "import re\n",
    "\n",
    "data={'Dave':'iadslba@naver.com', 'Steve':'steve@gmail.com', 'Rob':'rob', 'Wes':np.nan}\n",
    "data=Series(data)\n",
    "print(data)"
   ]
  },
  {
   "cell_type": "code",
   "execution_count": 32,
   "metadata": {},
   "outputs": [
    {
     "name": "stdout",
     "output_type": "stream",
     "text": [
      "Dave     False\n",
      "Steve    False\n",
      "Rob      False\n",
      "Wes       True\n",
      "dtype: bool\n",
      "\n",
      "네이버 Dave      True\n",
      "Steve    False\n",
      "Rob      False\n",
      "Wes        NaN\n",
      "dtype: object\n"
     ]
    }
   ],
   "source": [
    "print(data.isnull())\n",
    "print()\n",
    "print('네이버', data.str.contains('naver'))"
   ]
  },
  {
   "cell_type": "code",
   "execution_count": null,
   "metadata": {},
   "outputs": [],
   "source": [
    "마저쓰기"
   ]
  },
  {
   "cell_type": "code",
   "execution_count": 35,
   "metadata": {},
   "outputs": [
    {
     "name": "stdout",
     "output_type": "stream",
     "text": [
      "match 결과:  Dave      True\n",
      "Steve     True\n",
      "Rob      False\n",
      "Wes        NaN\n",
      "dtype: object\n"
     ]
    }
   ],
   "source": [
    "# r : regular expression 으로 분석\n",
    "# 정규표현식에서이 .은 한개 \n",
    "pattern = r'[a-z0-9._%+-]+@[a-z0-9.-]+\\.[a-z]'\n",
    "matches = data.str.match(pattern, flags = re.IGNORECASE)\n",
    "print('match 결과: ', matches)\n",
    "\n",
    "mat"
   ]
  },
  {
   "cell_type": "code",
   "execution_count": 40,
   "metadata": {},
   "outputs": [
    {
     "name": "stdout",
     "output_type": "stream",
     "text": [
      "0      a\n",
      "1    alb\n",
      "2    NaN\n",
      "3    alc\n",
      "dtype: object\n"
     ]
    },
    {
     "data": {
      "text/html": [
       "<div>\n",
       "<style scoped>\n",
       "    .dataframe tbody tr th:only-of-type {\n",
       "        vertical-align: middle;\n",
       "    }\n",
       "\n",
       "    .dataframe tbody tr th {\n",
       "        vertical-align: top;\n",
       "    }\n",
       "\n",
       "    .dataframe thead th {\n",
       "        text-align: right;\n",
       "    }\n",
       "</style>\n",
       "<table border=\"1\" class=\"dataframe\">\n",
       "  <thead>\n",
       "    <tr style=\"text-align: right;\">\n",
       "      <th></th>\n",
       "      <th>a</th>\n",
       "      <th>b</th>\n",
       "      <th>c</th>\n",
       "    </tr>\n",
       "  </thead>\n",
       "  <tbody>\n",
       "    <tr>\n",
       "      <td>0</td>\n",
       "      <td>1</td>\n",
       "      <td>0</td>\n",
       "      <td>0</td>\n",
       "    </tr>\n",
       "    <tr>\n",
       "      <td>1</td>\n",
       "      <td>1</td>\n",
       "      <td>1</td>\n",
       "      <td>0</td>\n",
       "    </tr>\n",
       "    <tr>\n",
       "      <td>2</td>\n",
       "      <td>0</td>\n",
       "      <td>0</td>\n",
       "      <td>0</td>\n",
       "    </tr>\n",
       "    <tr>\n",
       "      <td>3</td>\n",
       "      <td>1</td>\n",
       "      <td>0</td>\n",
       "      <td>1</td>\n",
       "    </tr>\n",
       "  </tbody>\n",
       "</table>\n",
       "</div>"
      ],
      "text/plain": [
       "   a  b  c\n",
       "0  1  0  0\n",
       "1  1  1  0\n",
       "2  0  0  0\n",
       "3  1  0  1"
      ]
     },
     "execution_count": 40,
     "metadata": {},
     "output_type": "execute_result"
    }
   ],
   "source": [
    "# one-hot-encoding  (회귀분석에서는 이걸 반드시 해줘야한다)\n",
    "s = pd.Series(['a','alb', np.nan, 'alc'])\n",
    "# 행은 관측 숫자, 열은 변수\n",
    "print(s)\n",
    "s.str.get_dummies(sep='l')"
   ]
  },
  {
   "cell_type": "code",
   "execution_count": 44,
   "metadata": {},
   "outputs": [
    {
     "name": "stdout",
     "output_type": "stream",
     "text": [
      "  text  text_length\n",
      "0   한글            2\n",
      "1   미국            2\n",
      "2   일본            2\n"
     ]
    }
   ],
   "source": [
    "# 함수를 매개변수로 전달할 때는 함수 실행이 아니고 함수 위치를 전달하는 것\n",
    "df = pd.DataFrame(['한글', '미국','일본'], columns = ['text'])\n",
    "# 파생변수(mutate)\n",
    "df['text_length'] = df['text'].map(len)  # 시리즈에 함수적용\n",
    "print(df)"
   ]
  },
  {
   "cell_type": "code",
   "execution_count": null,
   "metadata": {},
   "outputs": [],
   "source": [
    "# 다시보기"
   ]
  },
  {
   "cell_type": "code",
   "execution_count": 46,
   "metadata": {},
   "outputs": [
    {
     "data": {
      "text/html": [
       "<div>\n",
       "<style scoped>\n",
       "    .dataframe tbody tr th:only-of-type {\n",
       "        vertical-align: middle;\n",
       "    }\n",
       "\n",
       "    .dataframe tbody tr th {\n",
       "        vertical-align: top;\n",
       "    }\n",
       "\n",
       "    .dataframe thead th {\n",
       "        text-align: right;\n",
       "    }\n",
       "</style>\n",
       "<table border=\"1\" class=\"dataframe\">\n",
       "  <thead>\n",
       "    <tr style=\"text-align: right;\">\n",
       "      <th></th>\n",
       "      <th>name</th>\n",
       "      <th>age</th>\n",
       "      <th>preScore</th>\n",
       "      <th>postScore</th>\n",
       "    </tr>\n",
       "  </thead>\n",
       "  <tbody>\n",
       "    <tr>\n",
       "      <td>0</td>\n",
       "      <td>하늘이</td>\n",
       "      <td>40</td>\n",
       "      <td>14</td>\n",
       "      <td>20</td>\n",
       "    </tr>\n",
       "    <tr>\n",
       "      <td>1</td>\n",
       "      <td>찬호박</td>\n",
       "      <td>50</td>\n",
       "      <td>28</td>\n",
       "      <td>90</td>\n",
       "    </tr>\n",
       "    <tr>\n",
       "      <td>2</td>\n",
       "      <td>우리야</td>\n",
       "      <td>30</td>\n",
       "      <td>39</td>\n",
       "      <td>55</td>\n",
       "    </tr>\n",
       "    <tr>\n",
       "      <td>3</td>\n",
       "      <td>함께가</td>\n",
       "      <td>20</td>\n",
       "      <td>25</td>\n",
       "      <td>65</td>\n",
       "    </tr>\n",
       "    <tr>\n",
       "      <td>4</td>\n",
       "      <td>하성공</td>\n",
       "      <td>70</td>\n",
       "      <td>32</td>\n",
       "      <td>79</td>\n",
       "    </tr>\n",
       "  </tbody>\n",
       "</table>\n",
       "</div>"
      ],
      "text/plain": [
       "  name  age  preScore  postScore\n",
       "0  하늘이   40        14         20\n",
       "1  찬호박   50        28         90\n",
       "2  우리야   30        39         55\n",
       "3  함께가   20        25         65\n",
       "4  하성공   70        32         79"
      ]
     },
     "execution_count": 46,
     "metadata": {},
     "output_type": "execute_result"
    }
   ],
   "source": [
    "data = {'name':['하늘이','찬호박', '우리야', '함께가','하성공'], 'age':[40,50,30,20,70], 'preScore':[14,28,39,25,32],\n",
    "       'postScore':[20,90,55,65,79]}\n",
    "df = pd.DataFrame(data,columns = ['name','age','preScore','postScore'])\n",
    "df\n",
    "\n",
    "print(df['age'])"
   ]
  },
  {
   "cell_type": "code",
   "execution_count": null,
   "metadata": {},
   "outputs": [],
   "source": []
  },
  {
   "cell_type": "code",
   "execution_count": 47,
   "metadata": {},
   "outputs": [
    {
     "name": "stdout",
     "output_type": "stream",
     "text": [
      "        two       one     three\n",
      "a  0.462980 -0.013610       NaN\n",
      "b  0.210407  1.012052  0.763313\n",
      "c -1.945657 -1.427210 -1.329497\n",
      "d       NaN -0.738180  0.286078\n",
      "two      0.210407\n",
      "one      1.012052\n",
      "three    0.763313\n",
      "Name: b, dtype: float64\n",
      "a    0.462980\n",
      "b    0.210407\n",
      "c   -1.945657\n",
      "d         NaN\n",
      "Name: two, dtype: float64\n"
     ]
    }
   ],
   "source": [
    "df = pd.DataFrame({'two' : pd.Series(np.random.randn(3),   index=['c', 'b', 'a']),\n",
    "                   'one' : pd.Series(np.random.randn(4),   index=['d', 'b', 'c', 'a']),\n",
    "                   'three' : pd.Series(np.random.randn(3), index=['b', 'c', 'd'])})\n",
    "print(df)\n",
    "row = df.iloc[1]\n",
    "print(row)\n",
    "column = df['two']\n",
    "print(column)"
   ]
  }
 ],
 "metadata": {
  "kernelspec": {
   "display_name": "Python 3",
   "language": "python",
   "name": "python3"
  },
  "language_info": {
   "codemirror_mode": {
    "name": "ipython",
    "version": 3
   },
   "file_extension": ".py",
   "mimetype": "text/x-python",
   "name": "python",
   "nbconvert_exporter": "python",
   "pygments_lexer": "ipython3",
   "version": "3.7.4"
  }
 },
 "nbformat": 4,
 "nbformat_minor": 2
}
