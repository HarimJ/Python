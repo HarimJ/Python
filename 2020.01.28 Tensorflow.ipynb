{
 "cells": [
  {
   "cell_type": "markdown",
   "metadata": {},
   "source": [
    "# 2020.01.18"
   ]
  },
  {
   "cell_type": "markdown",
   "metadata": {},
   "source": [
    "# 딥러닝(신경망)  Tensorfow"
   ]
  },
  {
   "cell_type": "code",
   "execution_count": 6,
   "metadata": {},
   "outputs": [
    {
     "name": "stdout",
     "output_type": "stream",
     "text": [
      "1.14.0\n"
     ]
    }
   ],
   "source": [
    "# Anaconda cmd에 conda install tensorflow=1.14.0 입력 후\n",
    "\n",
    "import tensorflow as tf\n",
    "print(tf.__version__)"
   ]
  },
  {
   "cell_type": "markdown",
   "metadata": {},
   "source": [
    "# 분산처리\n",
    "\n",
    "constant - 상수\n",
    "varialbe - 변수 (가중치 저장\n",
    "placehold - 주입변수 (외부에서 데이터 넘겨준다 - 예측한다)  : \n",
    "               \n",
    "\n",
    "feeding 할때는 f o r문으로 한다 (반복해야해서)\n",
    "               \n",
    "미니배치사이즈로 로 작은 데이터를 계속해서 넣어서 큰 데이터를 만든다                \n",
    "Q ....를 만들어서 파일을 만들어서 Q에 집어넣는다. (데이터가 많을 때) \n",
    "Q는 fifo 으로 데이터를 넣고 빼고 사용\n",
    "               \n",
    "Graph - 노드(계산하는 연산) 와 엣지(노드와 노드에서 데이터를 주고받는것 - 텐서가 처리한다)\n",
    "               \n",
    "텐서 : 다차원 배열    / 분산처리 가능\n",
    "     : 대용량 데이터 사용하기          \n",
    "               \n",
    "모든 노드의 계산이 다 완료되어서 도착해야 텐서에 도착한다...               \n",
    "\n",
    "분산처리 : 동기화 문제가 제일 중요. \n",
    "               \n",
    "sesion : 연결처리"
   ]
  },
  {
   "cell_type": "code",
   "execution_count": 7,
   "metadata": {},
   "outputs": [
    {
     "name": "stdout",
     "output_type": "stream",
     "text": [
      "b'Hello. Tensorflow!'\n",
      "Tensor(\"Const:0\", shape=(), dtype=string)\n"
     ]
    }
   ],
   "source": [
    "# 데이터 타입\n",
    "import tensorflow as tf\n",
    "hello = tf.constant('Hello. Tensorflow!')\n",
    "sess = tf.Session()\n",
    "print(sess.run(hello))\n",
    "print(hello)"
   ]
  },
  {
   "cell_type": "code",
   "execution_count": null,
   "metadata": {},
   "outputs": [],
   "source": [
    "# 가상환경\n",
    "\n",
    "conda create --name tf_test python anaconda\n",
    "activate tf_test\n",
    "\n",
    "conda update conda\n",
    "conda update pip\n",
    "\n",
    "그다음은 conda install ~~ 내가 할것들 ( 확인하는거 )\n",
    "\n",
    "그 다음 conda install tensorflow=1.14.0\n",
    "\n",
    "jupyter kernel install \n",
    "\n"
   ]
  },
  {
   "cell_type": "code",
   "execution_count": null,
   "metadata": {},
   "outputs": [],
   "source": []
  },
  {
   "cell_type": "code",
   "execution_count": null,
   "metadata": {},
   "outputs": [],
   "source": []
  },
  {
   "cell_type": "code",
   "execution_count": null,
   "metadata": {},
   "outputs": [],
   "source": []
  },
  {
   "cell_type": "code",
   "execution_count": null,
   "metadata": {},
   "outputs": [],
   "source": []
  },
  {
   "cell_type": "code",
   "execution_count": null,
   "metadata": {},
   "outputs": [],
   "source": []
  },
  {
   "cell_type": "code",
   "execution_count": null,
   "metadata": {},
   "outputs": [],
   "source": []
  }
 ],
 "metadata": {
  "kernelspec": {
   "display_name": "Python 3",
   "language": "python",
   "name": "python3"
  },
  "language_info": {
   "codemirror_mode": {
    "name": "ipython",
    "version": 3
   },
   "file_extension": ".py",
   "mimetype": "text/x-python",
   "name": "python",
   "nbconvert_exporter": "python",
   "pygments_lexer": "ipython3",
   "version": "3.7.6"
  },
  "toc": {
   "base_numbering": 1,
   "nav_menu": {},
   "number_sections": true,
   "sideBar": true,
   "skip_h1_title": false,
   "title_cell": "Table of Contents",
   "title_sidebar": "Contents",
   "toc_cell": false,
   "toc_position": {},
   "toc_section_display": true,
   "toc_window_display": false
  }
 },
 "nbformat": 4,
 "nbformat_minor": 2
}
