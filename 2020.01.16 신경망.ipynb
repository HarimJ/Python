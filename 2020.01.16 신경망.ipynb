{
 "cells": [
  {
   "cell_type": "markdown",
   "metadata": {},
   "source": [
    "# 2020.01.16"
   ]
  },
  {
   "cell_type": "markdown",
   "metadata": {},
   "source": [
    "# Hidden_layer"
   ]
  },
  {
   "cell_type": "code",
   "execution_count": 1,
   "metadata": {
    "scrolled": true
   },
   "outputs": [
    {
     "name": "stderr",
     "output_type": "stream",
     "text": [
      "C:\\Users\\ICT01_01\\Anaconda3\\lib\\site-packages\\sklearn\\externals\\six.py:31: DeprecationWarning: The module is deprecated in version 0.21 and will be removed in version 0.23 since we've dropped support for Python 2.7. Please rely on the official version of six (https://pypi.org/project/six/).\n",
      "  \"(https://pypi.org/project/six/).\", DeprecationWarning)\n",
      "C:\\Users\\ICT01_01\\Anaconda3\\lib\\site-packages\\sklearn\\externals\\joblib\\__init__.py:15: DeprecationWarning: sklearn.externals.joblib is deprecated in 0.21 and will be removed in 0.23. Please import this functionality directly from joblib, which can be installed with: pip install joblib. If this warning is raised when loading pickled models, you may need to re-serialize those models with scikit-learn 0.21+.\n",
      "  warnings.warn(msg, category=DeprecationWarning)\n"
     ]
    }
   ],
   "source": [
    "%matplotlib inline   \n",
    "# 쥬피터에서만 사용\n",
    "import matplotlib.pyplot as plt   # 시각화 할때 사용\n",
    "import mglearn    # 학습도움을 위한 패키지 \n",
    "\n",
    "# 랜덤 사이즈를 채운 후 행렬제곱을 하면 => 정방, 대칭행렬\n",
    "# 고유값분해 => 고유치, 고유벡더 (이 벡터의 정직교하는 벡터를 만들어낸는것 )\n",
    "# MDS 행렬곱 ( 직교하는 2,3차원을 곱하면 변환된다 ) : 2차원이나 3차원 특징추출\n",
    "# forward propagation 순전파 : 예측분류 과정\n",
    "# backward propagation 역전파 : 가중치 학습과정 (cost functin 기울기, learning rate)\n",
    "# MLP : multi layer perceptron : FFNN (Feed forward neural network)\n",
    "# solver : 미분, learning-rate 조절 => 가중치를 조절\n",
    "# estimator, transformer ..? \n",
    "\n",
    "\n",
    "from sklearn.neural_network import MLPClassifier    # MPLClassifier는 분류,  MLPRegressor는 회귀\n",
    "from sklearn.datasets import make_moons\n",
    "from sklearn.model_selection import train_test_split\n",
    "X,y = make_moons(n_samples=100, noise=0.25, random_state=3)"
   ]
  },
  {
   "cell_type": "code",
   "execution_count": 3,
   "metadata": {
    "scrolled": true
   },
   "outputs": [
    {
     "name": "stderr",
     "output_type": "stream",
     "text": [
      "C:\\Users\\ICT01_01\\Anaconda3\\lib\\site-packages\\sklearn\\neural_network\\multilayer_perceptron.py:566: ConvergenceWarning: Stochastic Optimizer: Maximum iterations (200) reached and the optimization hasn't converged yet.\n",
      "  % self.max_iter, ConvergenceWarning)\n"
     ]
    },
    {
     "data": {
      "text/plain": [
       "Text(0, 0.5, '특성 1')"
      ]
     },
     "execution_count": 3,
     "metadata": {},
     "output_type": "execute_result"
    },
    {
     "name": "stderr",
     "output_type": "stream",
     "text": [
      "C:\\Users\\ICT01_01\\Anaconda3\\lib\\site-packages\\matplotlib\\backends\\backend_agg.py:211: RuntimeWarning: Glyph 53945 missing from current font.\n",
      "  font.set_text(s, 0.0, flags=flags)\n",
      "C:\\Users\\ICT01_01\\Anaconda3\\lib\\site-packages\\matplotlib\\backends\\backend_agg.py:211: RuntimeWarning: Glyph 49457 missing from current font.\n",
      "  font.set_text(s, 0.0, flags=flags)\n",
      "C:\\Users\\ICT01_01\\Anaconda3\\lib\\site-packages\\matplotlib\\backends\\backend_agg.py:180: RuntimeWarning: Glyph 53945 missing from current font.\n",
      "  font.set_text(s, 0, flags=flags)\n",
      "C:\\Users\\ICT01_01\\Anaconda3\\lib\\site-packages\\matplotlib\\backends\\backend_agg.py:180: RuntimeWarning: Glyph 49457 missing from current font.\n",
      "  font.set_text(s, 0, flags=flags)\n"
     ]
    },
    {
     "data": {
      "image/png": "[encoded data removed]",
      "text/plain": [
       "<Figure size 432x288 with 1 Axes>"
      ]
     },
     "metadata": {},
     "output_type": "display_data"
    }
   ],
   "source": [
    "X_train, X_test, y_train, y_test = train_test_split(X,y, stratify = y, random_state = 42)\n",
    "# stratfy : 층화 변수 선택법 ( 무작위가 아니라  y값의 비율을 0.75 :0.25 비율로 나누는 것. 이 비율로 나눠지고 또 나누고 해서 층화 )\n",
    "\n",
    "# Multi layer => XOR 문제 해결, 레이어가 많으면 정밀도가 자동으로 높아진다 (특징추출할때 데이터 손실방지)\n",
    "mlp = MLPClassifier(random_state=0).fit(X_train, y_train)\n",
    "# 가중치가 완성 (fit하면서) - 레이어 지정 : 자동으로 MLPClassifier가 가중레이어 사이즈 결정\n",
    "\n",
    "\n",
    "mglearn.plots.plot_2d_separator(mlp, X_train, fill=True, alpha = 0.3)\n",
    "mglearn.discrete_scatter(X_train[:,0], X_train[:,1],y_train)\n",
    "plt.xlabel(\"특성 0\")\n",
    "plt.ylabel(\"특성 1\")"
   ]
  },
  {
   "cell_type": "code",
   "execution_count": 4,
   "metadata": {},
   "outputs": [
    {
     "data": {
      "text/plain": [
       "{'activation': 'relu',\n",
       " 'alpha': 0.0001,\n",
       " 'batch_size': 'auto',\n",
       " 'beta_1': 0.9,\n",
       " 'beta_2': 0.999,\n",
       " 'early_stopping': False,\n",
       " 'epsilon': 1e-08,\n",
       " 'hidden_layer_sizes': (100,),\n",
       " 'learning_rate': 'constant',\n",
       " 'learning_rate_init': 0.001,\n",
       " 'max_iter': 200,\n",
       " 'momentum': 0.9,\n",
       " 'n_iter_no_change': 10,\n",
       " 'nesterovs_momentum': True,\n",
       " 'power_t': 0.5,\n",
       " 'random_state': 0,\n",
       " 'shuffle': True,\n",
       " 'solver': 'adam',\n",
       " 'tol': 0.0001,\n",
       " 'validation_fraction': 0.1,\n",
       " 'verbose': False,\n",
       " 'warm_start': False}"
      ]
     },
     "execution_count": 4,
     "metadata": {},
     "output_type": "execute_result"
    }
   ],
   "source": [
    "mlp.get_params()  # 디폴트 매개변수 확인\n",
    "\n",
    "# 위에서\n",
    "# mlp = MLPClassifier(random_state=0):random_state만 0으로 지정해줘서 나머지는 디폴트\n",
    "\n",
    "# relu : 0 이하를 제거한 활성화 함수 (activation function) - 속도가 빨라짐\n",
    "# 'max_iter' : 반복횟수   -> (epoch 1회반복)\n",
    "#'solver': 'adam' => adam : learning-rate를 조절하고 Momentum을 사용하는 optimizer(최적화기) (라고도 함- tensorflow에서)"
   ]
  },
  {
   "cell_type": "code",
   "execution_count": 9,
   "metadata": {},
   "outputs": [
    {
     "data": {
      "text/plain": [
       "3"
      ]
     },
     "execution_count": 9,
     "metadata": {},
     "output_type": "execute_result"
    }
   ],
   "source": [
    "mlp.n_layers_"
   ]
  },
  {
   "cell_type": "code",
   "execution_count": 10,
   "metadata": {},
   "outputs": [
    {
     "data": {
      "text/plain": [
       "[array([[ 1.96423650e-01,  1.86414048e-01,  2.73074871e-02,\n",
       "          1.32154297e-01, -9.48047217e-05,  2.82807555e-03,\n",
       "         -7.29479240e-02,  1.45878653e-01,  2.97837159e-01,\n",
       "         -1.12611776e-01,  2.34714552e-01,  1.30702586e-01,\n",
       "         -2.85623212e-02,  1.12399918e-01, -1.71442282e-01,\n",
       "         -3.24829063e-01, -3.85153290e-01,  2.38832765e-01,\n",
       "          2.13193712e-01,  2.63746115e-01,  1.70653255e-01,\n",
       "          7.41106685e-02,  1.04573476e-01,  6.73150355e-02,\n",
       "         -3.77696555e-01,  1.10071889e-01,  4.88102808e-03,\n",
       "          3.03409150e-01, -6.64267214e-02, -1.08723630e-01,\n",
       "         -2.67443736e-01,  2.19702964e-01, -9.77933350e-02,\n",
       "          3.95350833e-05, -1.67873856e-01,  1.32818304e-01,\n",
       "          2.23922646e-02, -1.13671191e-02,  2.94106612e-01,\n",
       "          3.48486041e-02, -1.28573692e-01, -1.62111791e-05,\n",
       "          1.34093216e-01, -3.48957410e-01,  1.73951614e-01,\n",
       "          2.50280090e-02, -3.77490782e-01, -3.22208104e-01,\n",
       "         -8.09493846e-02, -4.14861544e-02,  1.76672050e-01,\n",
       "         -9.21001914e-02,  2.21774574e-01, -1.48112358e-01,\n",
       "          5.77944904e-03, -1.30543710e-01,  1.44098820e-02,\n",
       "         -2.49587499e-01, -7.93067419e-02, -6.79805570e-02,\n",
       "         -3.06594354e-01, -1.65532265e-01,  3.73325038e-03,\n",
       "         -1.57036829e-01, -1.06700038e-01, -1.21604912e-01,\n",
       "          2.64529903e-01, -3.64314761e-01,  2.61796638e-01,\n",
       "         -1.32786078e-01,  3.19718175e-01, -7.28975836e-02,\n",
       "          3.12328622e-01,  1.47669323e-01,  8.71731889e-02,\n",
       "         -3.41836388e-01,  6.73800845e-04, -1.60403151e-01,\n",
       "         -6.93240437e-02, -2.07438408e-02, -5.32717961e-02,\n",
       "         -1.03671704e-01, -1.00347616e-01,  8.04972189e-03,\n",
       "          7.16681013e-02, -1.53493682e-02,  1.05625531e-01,\n",
       "         -3.39522477e-01,  9.38858858e-02,  1.67392956e-01,\n",
       "         -2.51517884e-01,  6.74628420e-02, -2.98746672e-01,\n",
       "          2.10531162e-01, -4.01824728e-02, -1.23725711e-01,\n",
       "          2.15077228e-04, -3.64948438e-01,  8.37942720e-02,\n",
       "         -2.07215780e-01],\n",
       "        [-7.60539476e-02, -2.94113409e-01,  2.95912661e-01,\n",
       "          3.81733181e-01, -1.88516163e-02,  9.31453472e-05,\n",
       "          1.90915690e-01,  1.64374879e-01, -3.21044672e-01,\n",
       "          3.59057766e-01, -1.75883158e-01,  3.36985074e-01,\n",
       "          2.38562896e-01, -7.41039697e-02,  1.21119451e-01,\n",
       "          4.48507925e-02,  3.27708543e-01, -1.72943309e-01,\n",
       "          3.92953787e-02, -5.83962499e-02,  2.34262388e-01,\n",
       "          1.18204938e-01,  3.66152864e-01,  1.96128084e-01,\n",
       "          9.11923320e-02, -9.44989334e-02, -4.19878499e-01,\n",
       "         -3.04406806e-01,  2.38341421e-01, -3.52504596e-02,\n",
       "          1.88539119e-01, -2.18020378e-01, -1.20597429e-01,\n",
       "         -9.44812099e-03, -4.38742952e-03, -1.40422272e-01,\n",
       "          4.70957982e-02,  2.67191856e-01, -1.22919932e-01,\n",
       "          9.79228414e-02,  3.59360073e-01, -1.87784860e-03,\n",
       "         -2.36103204e-01,  3.01733991e-01, -4.60232845e-03,\n",
       "          2.69774043e-01, -2.80988596e-02,  3.31646014e-01,\n",
       "          9.70500593e-02,  1.46960722e-01, -3.98052539e-01,\n",
       "          3.16938676e-01, -2.93138299e-01,  2.66617882e-01,\n",
       "         -4.06271226e-01,  1.35316544e-01,  3.10334096e-01,\n",
       "          1.50706351e-01,  9.78145556e-02, -1.49034964e-01,\n",
       "          2.14822173e-01, -2.52503624e-02,  1.29310519e-02,\n",
       "          3.64123844e-01,  1.40525858e-01,  3.67848240e-01,\n",
       "         -4.68457522e-01,  5.36433351e-02, -5.62770750e-02,\n",
       "         -2.03098399e-01, -1.44080018e-01, -1.49548247e-01,\n",
       "         -3.45496464e-01, -4.15441633e-01,  3.31472567e-01,\n",
       "         -5.77972896e-02, -2.35968440e-01,  1.06031806e-01,\n",
       "          2.92250921e-01, -4.48263171e-01, -1.27481305e-01,\n",
       "          2.50881503e-01, -4.43559616e-02, -2.13114804e-02,\n",
       "          1.24201092e-01,  9.43739998e-04, -1.35507487e-01,\n",
       "          1.43875434e-01,  3.72651794e-02, -1.07007386e-01,\n",
       "          9.51395014e-02, -1.27514829e-01, -5.78077511e-02,\n",
       "          1.03959368e-01,  2.67122378e-01, -2.31526542e-02,\n",
       "         -2.38078100e-02, -2.37528836e-02, -7.90028156e-02,\n",
       "          1.23066570e-01]]), array([[ 4.41575952e-01],\n",
       "        [ 2.66608399e-01],\n",
       "        [-2.76700384e-01],\n",
       "        [-4.05660754e-01],\n",
       "        [-3.32450597e-04],\n",
       "        [-2.29615593e-02],\n",
       "        [-3.26467959e-01],\n",
       "        [-2.29331081e-01],\n",
       "        [ 2.31425537e-01],\n",
       "        [-3.69746219e-01],\n",
       "        [ 2.53856284e-01],\n",
       "        [-3.92523291e-01],\n",
       "        [-3.79664677e-01],\n",
       "        [-1.39381376e-01],\n",
       "        [ 5.62828712e-02],\n",
       "        [-2.47033750e-01],\n",
       "        [-1.71740481e-01],\n",
       "        [ 1.57089463e-01],\n",
       "        [ 2.74675250e-01],\n",
       "        [ 2.22545222e-01],\n",
       "        [-1.29959120e-01],\n",
       "        [-1.39412677e-01],\n",
       "        [-3.95189254e-01],\n",
       "        [-1.20065288e-01],\n",
       "        [-3.43362933e-01],\n",
       "        [ 9.10878252e-02],\n",
       "        [ 3.15286222e-01],\n",
       "        [ 2.24732992e-01],\n",
       "        [-2.62541719e-01],\n",
       "        [-5.60671656e-02],\n",
       "        [-3.51639334e-01],\n",
       "        [ 2.93838917e-01],\n",
       "        [-2.42306707e-01],\n",
       "        [ 8.86709456e-03],\n",
       "        [ 8.76170170e-02],\n",
       "        [ 3.19110689e-01],\n",
       "        [-9.05925150e-02],\n",
       "        [-2.53440881e-01],\n",
       "        [ 1.40733958e-01],\n",
       "        [-9.72914750e-02],\n",
       "        [-1.94457378e-01],\n",
       "        [-3.20809942e-02],\n",
       "        [ 1.35759858e-01],\n",
       "        [-3.73912440e-01],\n",
       "        [ 3.09381023e-01],\n",
       "        [-3.98889384e-01],\n",
       "        [-2.41205448e-01],\n",
       "        [-2.43275657e-01],\n",
       "        [ 2.51438990e-02],\n",
       "        [ 1.55003367e-01],\n",
       "        [ 2.88381464e-01],\n",
       "        [-3.68229530e-01],\n",
       "        [ 7.10936743e-02],\n",
       "        [-1.21347044e-01],\n",
       "        [ 2.28784997e-01],\n",
       "        [ 6.05716984e-02],\n",
       "        [-2.94266659e-01],\n",
       "        [-2.99448969e-01],\n",
       "        [-8.14959761e-02],\n",
       "        [ 1.79729484e-01],\n",
       "        [-3.21411274e-01],\n",
       "        [ 1.77387667e-01],\n",
       "        [-7.78041328e-06],\n",
       "        [-1.41014825e-01],\n",
       "        [ 1.01592630e-01],\n",
       "        [-1.55086605e-01],\n",
       "        [ 2.65392807e-01],\n",
       "        [-1.87093754e-01],\n",
       "        [ 3.55609539e-01],\n",
       "        [-6.08484859e-03],\n",
       "        [ 2.08029492e-01],\n",
       "        [ 1.78467676e-02],\n",
       "        [ 2.49438320e-01],\n",
       "        [ 2.04514362e-01],\n",
       "        [-3.25745924e-01],\n",
       "        [-3.07162242e-01],\n",
       "        [ 3.59134895e-01],\n",
       "        [ 1.44709429e-01],\n",
       "        [-1.60470805e-01],\n",
       "        [ 2.75007372e-01],\n",
       "        [ 1.47135667e-01],\n",
       "        [-1.72259603e-01],\n",
       "        [ 1.37875288e-01],\n",
       "        [ 9.28637396e-05],\n",
       "        [ 1.03707204e-01],\n",
       "        [ 6.55948635e-02],\n",
       "        [ 3.19398224e-01],\n",
       "        [-2.94485057e-01],\n",
       "        [ 6.88057971e-02],\n",
       "        [ 2.83915088e-02],\n",
       "        [-4.16221834e-01],\n",
       "        [-2.47831958e-02],\n",
       "        [-2.79461085e-01],\n",
       "        [ 2.97709709e-01],\n",
       "        [-3.70726216e-01],\n",
       "        [ 2.00252889e-01],\n",
       "        [-2.78460984e-03],\n",
       "        [-2.01823875e-01],\n",
       "        [-1.45803911e-01],\n",
       "        [-2.40875639e-01]])]"
      ]
     },
     "execution_count": 10,
     "metadata": {},
     "output_type": "execute_result"
    }
   ],
   "source": [
    "mlp.coefs_   # coefficient\n",
    "# bias : 계수들이 0으로 가는 것을 방지해서 처음에 1로 세팅\n",
    "\n",
    "# 편향 (Bias)\n",
    "#  통계적 추정결과가 체계적으로 한 쪽으로 치우치는 경향을 보임으로써 발생하는 오차. \n",
    "#  추정결과가 크거나 작아짐에 따라 발생하는 변동오차와는 달리, 추정결과가 한 쪽 방향으로 치우침에 따라 나타나는 오차임"
   ]
  },
  {
   "cell_type": "code",
   "execution_count": 11,
   "metadata": {},
   "outputs": [
    {
     "data": {
      "text/plain": [
       "array([0, 1], dtype=int64)"
      ]
     },
     "execution_count": 11,
     "metadata": {},
     "output_type": "execute_result"
    }
   ],
   "source": [
    "mlp.classes_"
   ]
  },
  {
   "cell_type": "code",
   "execution_count": 13,
   "metadata": {},
   "outputs": [
    {
     "data": {
      "text/plain": [
       "1"
      ]
     },
     "execution_count": 13,
     "metadata": {},
     "output_type": "execute_result"
    }
   ],
   "source": [
    "mlp.n_outputs_"
   ]
  },
  {
   "cell_type": "code",
   "execution_count": 21,
   "metadata": {},
   "outputs": [
    {
     "data": {
      "text/plain": [
       "Text(0, 0.5, '특성 1')"
      ]
     },
     "execution_count": 21,
     "metadata": {},
     "output_type": "execute_result"
    },
    {
     "name": "stderr",
     "output_type": "stream",
     "text": [
      "C:\\Users\\ICT01_01\\Anaconda3\\lib\\site-packages\\matplotlib\\backends\\backend_agg.py:211: RuntimeWarning: Glyph 53945 missing from current font.\n",
      "  font.set_text(s, 0.0, flags=flags)\n",
      "C:\\Users\\ICT01_01\\Anaconda3\\lib\\site-packages\\matplotlib\\backends\\backend_agg.py:211: RuntimeWarning: Glyph 49457 missing from current font.\n",
      "  font.set_text(s, 0.0, flags=flags)\n",
      "C:\\Users\\ICT01_01\\Anaconda3\\lib\\site-packages\\matplotlib\\backends\\backend_agg.py:180: RuntimeWarning: Glyph 53945 missing from current font.\n",
      "  font.set_text(s, 0, flags=flags)\n",
      "C:\\Users\\ICT01_01\\Anaconda3\\lib\\site-packages\\matplotlib\\backends\\backend_agg.py:180: RuntimeWarning: Glyph 49457 missing from current font.\n",
      "  font.set_text(s, 0, flags=flags)\n"
     ]
    },
    {
     "data": {
      "image/png": "[encoded data removed]",
      "text/plain": [
       "<Figure size 432x288 with 1 Axes>"
      ]
     },
     "metadata": {},
     "output_type": "display_data"
    }
   ],
   "source": [
    "# 레이어가 10개이상 주면 기울기 소실문제\n",
    "# 멀티레이어 : XOR문제 해결, 정확도가 높아지는 것 발견\n",
    "\n",
    "mlp = MLPClassifier(solver = 'lbfgs', random_state = 0, hidden_layer_sizes=[5,10]) # 레이어 갯수가 늘어남 (2개를 준것)   # 10,10에서\n",
    "# hidden_layer : 겹겹이 층을 만들어 더 정밀하게 만들기\n",
    "# 10,10 : 과적합이 됨 (10이었으 때보다)\n",
    "\n",
    "# 히든 레이어 사이즈 지정시 무엇을 지정하는가?\n",
    "#    출력차수만 지정해주면 됨 (추출할 특징수)   (입력차수 (10) 는 지정 안해도 됨)\n",
    "#    2X10, 10X10\n",
    "\n",
    "# SVM의 논리 : 고차원으로 데이터 확대(고차원을 선호하는 모델)\n",
    "# hidden_layer_sizes=[5,10,10,2]\n",
    "#   -정확도가 높아 과적합을 방지\n",
    "#   - SVC(Classifier), SVR(Regressor)\n",
    "\n",
    "mlp.fit(X_train, y_train)\n",
    "\n",
    "mglearn.plots.plot_2d_separator(mlp, X_train, fill=True, alpha = 0.3)\n",
    "mglearn.discrete_scatter(X_train[:,0], X_train[:,1],y_train)\n",
    "plt.xlabel(\"특성 0\")\n",
    "plt.ylabel(\"특성 1\")"
   ]
  },
  {
   "cell_type": "code",
   "execution_count": 22,
   "metadata": {},
   "outputs": [
    {
     "data": {
      "text/plain": [
       "[array([[  9.58312525,   8.01326616,   6.38324831, -13.90108441,\n",
       "          -0.14108705],\n",
       "        [ -0.15831136,   3.390681  ,   2.98670712,  -1.16530986,\n",
       "          -0.21540178]]),\n",
       " array([[-1.02891626, -2.33889475,  2.12972828,  0.52897872,  2.23957507,\n",
       "          1.41874928,  0.148644  ,  0.34437075,  7.28226381, -0.48186345],\n",
       "        [-0.81302935, -0.46973462, -0.01110334, -0.25503688, -0.09567239,\n",
       "          1.07167377,  2.44161204,  0.06323068,  3.11978885, -0.63798754],\n",
       "        [-0.40855756, -1.01425374,  1.89146083,  0.85156843,  2.19939312,\n",
       "          1.2517127 , -2.10707856,  0.65408844,  1.40739894,  0.20930688],\n",
       "        [-0.68852893,  2.66493476, -1.5262621 ,  0.33742273, -3.40176253,\n",
       "         -2.50208501, -0.81709543,  3.96204422,  0.37740612, -0.58969023],\n",
       "        [-0.4275745 ,  0.19328921, -0.31145316, -0.04253044, -0.32264591,\n",
       "         -0.43052851, -0.49187581,  0.19735584, -0.45677027, -0.38304485]]),\n",
       " array([[-0.65227553],\n",
       "        [-3.54750216],\n",
       "        [-3.3272718 ],\n",
       "        [-0.47156222],\n",
       "        [-5.51170552],\n",
       "        [-3.49753811],\n",
       "        [ 3.78846162],\n",
       "        [-8.68304399],\n",
       "        [ 4.77606664],\n",
       "        [-0.69262983]])]"
      ]
     },
     "execution_count": 22,
     "metadata": {},
     "output_type": "execute_result"
    }
   ],
   "source": [
    "# BLACK BOX => 원인규명. ( 출력된 결과 값을 알 수 없다)\n",
    "\n",
    "mlp.coefs_\n",
    "# x,y 좌표로\n",
    "# 2X10, bias 10개  <- 히든레이어가 10 이었을 때\n",
    "# 변수는 2X10, 10X10   10으로 나감 \n",
    "\n",
    "\n",
    "# 입력차수가 5를 해주니까 2X5가 됨 - 첫레이어. 뒤는 5X10이 됨 - 뒤레이어\n",
    "\n",
    "\n",
    "# 레이어의 사이즈를 지정 출력차수만 지정 (5,10): 입력데이터\n",
    "# 2X5 ,5X10 => 5는 자동지정\n"
   ]
  },
  {
   "cell_type": "markdown",
   "metadata": {},
   "source": [
    "n_hidden_nodes 과 alpha "
   ]
  },
  {
   "cell_type": "code",
   "execution_count": 24,
   "metadata": {},
   "outputs": [
    {
     "data": {
      "image/png": "[encoded data removed]",
      "text/plain": [
       "<Figure size 1440x576 with 8 Axes>"
      ]
     },
     "metadata": {},
     "output_type": "display_data"
    }
   ],
   "source": [
    "# 신경망은 비선형회귀이다. (다차방적식을 이용한. ) => 다항회귀 (비선형)\n",
    "# 레이어는 다차방정식의 차수\n",
    "\n",
    "fig, axes = plt.subplots(2,4, figsize=(20,8))\n",
    "for axx, n_hidden_nodes in zip(axes, [10,100]):   # 히든을 10개주거나 100개 주거나\n",
    "    for ax, alpha in zip(axx, [0.1, 0.001,0.0001,0.00001]):   # 규제값(alpha): 규제가 작아질수록 과적합이된다.  규제는 과적합되지 말라고 주는것\n",
    "        mlp = MLPClassifier(solver='lbfgs', random_state=0, activation='tanh', hidden_layer_sizes=[n_hidden_nodes, n_hidden_nodes],\n",
    "                           alpha=alpha)\n",
    "        mlp.fit(X_train, y_train)\n",
    "        mglearn.plots.plot_2d_separator(mlp, X_train, fill = True, alpha=.3, ax=ax)\n",
    "        mglearn.discrete_scatter(X_train[:,0], X_train[:,1], y_train, ax=ax)\n",
    "        ax.set_title(\"n_hidden=[{},{}]\\nalpha={:.4f}\".format(n_hidden_nodes, n_hidden_nodes, alpha))\n",
    "        \n",
    "        \n",
    "# 100개일때 곡선이 심해짐 (다차항(100차원) )"
   ]
  },
  {
   "cell_type": "markdown",
   "metadata": {},
   "source": [
    "# 훈련, 테스트 정확도 차이  (조건에 따라)"
   ]
  },
  {
   "cell_type": "code",
   "execution_count": 25,
   "metadata": {
    "scrolled": true
   },
   "outputs": [
    {
     "name": "stdout",
     "output_type": "stream",
     "text": [
      "유방암 데이터의 최대값:\n",
      "[2.811e+01 3.928e+01 1.885e+02 2.501e+03 1.634e-01 3.454e-01 4.268e-01\n",
      " 2.012e-01 3.040e-01 9.744e-02 2.873e+00 4.885e+00 2.198e+01 5.422e+02\n",
      " 3.113e-02 1.354e-01 3.960e-01 5.279e-02 7.895e-02 2.984e-02 3.604e+01\n",
      " 4.954e+01 2.512e+02 4.254e+03 2.226e-01 1.058e+00 1.252e+00 2.910e-01\n",
      " 6.638e-01 2.075e-01]\n"
     ]
    }
   ],
   "source": [
    "from sklearn.datasets import load_breast_cancer\n",
    "cancer = load_breast_cancer()\n",
    "print(\"유방암 데이터의 최대값:\\n{}\".format(cancer.data.max(axis = 0)))"
   ]
  },
  {
   "cell_type": "code",
   "execution_count": 26,
   "metadata": {},
   "outputs": [
    {
     "name": "stdout",
     "output_type": "stream",
     "text": [
      "훈련세트 정확도:0.94\n",
      "테스트세트 정확도:0.92\n"
     ]
    },
    {
     "data": {
      "text/plain": [
       "MLPClassifier(activation='relu', alpha=0.0001, batch_size='auto', beta_1=0.9,\n",
       "              beta_2=0.999, early_stopping=False, epsilon=1e-08,\n",
       "              hidden_layer_sizes=(100,), learning_rate='constant',\n",
       "              learning_rate_init=0.001, max_iter=200, momentum=0.9,\n",
       "              n_iter_no_change=10, nesterovs_momentum=True, power_t=0.5,\n",
       "              random_state=42, shuffle=True, solver='adam', tol=0.0001,\n",
       "              validation_fraction=0.1, verbose=False, warm_start=False)"
      ]
     },
     "execution_count": 26,
     "metadata": {},
     "output_type": "execute_result"
    }
   ],
   "source": [
    "X_train, X_test, y_train, y_test = train_test_split(cancer.data, cancer.target, random_state=0)\n",
    "mlp=MLPClassifier(random_state=42)  # 나머지 디폴트\n",
    "mlp.fit(X_train, y_train) # 가중치 결정\n",
    "print(\"훈련세트 정확도:{:.2f}\".format(mlp.score(X_train, y_train)))  # 94%\n",
    "print(\"테스트세트 정확도:{:.2f}\".format(mlp.score(X_test, y_test)))  # 92%  => 이정도면 나쁘지 않음\n",
    "mlp\n",
    "\n",
    "# parameter tuning \n",
    "# 과소적합 : 데이터를 늘려주거나 규제를 작게해주거나 가중치 사이즈를 줄이거나?"
   ]
  },
  {
   "cell_type": "markdown",
   "metadata": {},
   "source": [
    " z 점수 표준화"
   ]
  },
  {
   "cell_type": "code",
   "execution_count": 29,
   "metadata": {},
   "outputs": [
    {
     "name": "stdout",
     "output_type": "stream",
     "text": [
      "훈련세트 정확도:0.991\n",
      "테스트세트 정확도:0.965\n"
     ]
    },
    {
     "name": "stderr",
     "output_type": "stream",
     "text": [
      "C:\\Users\\ICT01_01\\Anaconda3\\lib\\site-packages\\sklearn\\neural_network\\multilayer_perceptron.py:566: ConvergenceWarning: Stochastic Optimizer: Maximum iterations (200) reached and the optimization hasn't converged yet.\n",
      "  % self.max_iter, ConvergenceWarning)\n"
     ]
    }
   ],
   "source": [
    "mean_on_train = X_train.mean(axis=0)  # 평균\n",
    "std_on_train = X_train.std(axis=0)   # 표준편차\n",
    "\n",
    "# z점수 표준화 \n",
    "X_train_scaled = (X_train - mean_on_train)/std_on_train\n",
    "X_test_scaled = (X_test - mean_on_train)/std_on_train\n",
    "\n",
    "mlp = MLPClassifier(random_state=0)\n",
    "mlp.fit(X_train_scaled, y_train)\n",
    "\n",
    "print(\"훈련세트 정확도:{:.3f}\".format(mlp.score(X_train_scaled, y_train)))  \n",
    "print(\"테스트세트 정확도:{:.3f}\".format(mlp.score(X_test_scaled, y_test)))"
   ]
  },
  {
   "cell_type": "markdown",
   "metadata": {},
   "source": [
    "max_iter"
   ]
  },
  {
   "cell_type": "code",
   "execution_count": 30,
   "metadata": {
    "scrolled": false
   },
   "outputs": [
    {
     "name": "stdout",
     "output_type": "stream",
     "text": [
      "훈련세트 정확도:1.000\n",
      "테스트세트 정확도:0.972\n"
     ]
    }
   ],
   "source": [
    "# max_iter : 몇번 돌려주나 (돌려주는게 많아지면 가중치가 변하게 되겠지. 가중치가 높아지거나 낮아지는건 컴퓨터가..)\n",
    "\n",
    "mlp = MLPClassifier(max_iter=1000, random_state=0)\n",
    "mlp.fit(X_train_scaled, y_train)\n",
    "\n",
    "print(\"훈련세트 정확도:{:.3f}\".format(mlp.score(X_train_scaled, y_train)))  # 100%\n",
    "print(\"테스트세트 정확도:{:.3f}\".format(mlp.score(X_test_scaled, y_test)))  # 97%"
   ]
  },
  {
   "cell_type": "markdown",
   "metadata": {},
   "source": [
    "alpha"
   ]
  },
  {
   "cell_type": "code",
   "execution_count": 31,
   "metadata": {},
   "outputs": [
    {
     "name": "stdout",
     "output_type": "stream",
     "text": [
      "훈련세트 정확도:0.988\n",
      "테스트세트 정확도:0.972\n"
     ]
    }
   ],
   "source": [
    "# alpha = 1 로 줄때 (규제)\n",
    "\n",
    "mlp = MLPClassifier(max_iter=1000, alpha=1, random_state=0)\n",
    "mlp.fit(X_train_scaled, y_train)\n",
    "\n",
    "print(\"훈련세트 정확도:{:.3f}\".format(mlp.score(X_train_scaled, y_train))) # 98% \n",
    "print(\"테스트세트 정확도:{:.3f}\".format(mlp.score(X_test_scaled, y_test)))  # 97%\n",
    "\n",
    "# 둘이 거의 비슷해지면 => 일반화가 되었다는 뜻!! (나쁜 경우.???)"
   ]
  },
  {
   "cell_type": "code",
   "execution_count": 32,
   "metadata": {},
   "outputs": [
    {
     "data": {
      "text/plain": [
       "[array([[ 1.38710846e-02, -2.50121951e-02,  3.66222579e-02, ...,\n",
       "         -3.47572622e-02, -2.24282383e-03, -1.97638723e-02],\n",
       "        [ 1.26462143e-02, -6.82790623e-02,  3.70303247e-02, ...,\n",
       "         -3.34389785e-02, -1.21200193e-02, -6.54680585e-02],\n",
       "        [ 8.50428302e-03, -2.63297307e-02,  2.95094391e-02, ...,\n",
       "         -1.72355685e-02,  1.05053722e-03, -1.30428184e-02],\n",
       "        ...,\n",
       "        [ 3.01969223e-03, -5.25847578e-02,  6.51799188e-02, ...,\n",
       "         -4.07129917e-02, -3.25647552e-03, -3.30615217e-02],\n",
       "        [-1.19219311e-03, -2.78480036e-02,  2.08436140e-02, ...,\n",
       "         -2.74572097e-02,  5.09456645e-05, -2.03324679e-02],\n",
       "        [-2.15747657e-02, -2.94202234e-02,  3.25639515e-02, ...,\n",
       "         -2.14904553e-02, -4.01600447e-03, -2.92891532e-02]]),\n",
       " array([[-0.09540798],\n",
       "        [ 0.23756701],\n",
       "        [-0.19771946],\n",
       "        [ 0.30384496],\n",
       "        [ 0.16202467],\n",
       "        [-0.00111623],\n",
       "        [ 0.18081763],\n",
       "        [ 0.08990004],\n",
       "        [ 0.2707616 ],\n",
       "        [-0.26194311],\n",
       "        [-0.05209011],\n",
       "        [ 0.20382729],\n",
       "        [-0.18331047],\n",
       "        [ 0.27394575],\n",
       "        [-0.01652826],\n",
       "        [-0.09044238],\n",
       "        [-0.14065305],\n",
       "        [ 0.18250251],\n",
       "        [ 0.19683819],\n",
       "        [-0.18195574],\n",
       "        [ 0.23720224],\n",
       "        [ 0.15746087],\n",
       "        [-0.20103266],\n",
       "        [-0.01751928],\n",
       "        [ 0.01634142],\n",
       "        [-0.23900311],\n",
       "        [-0.03765027],\n",
       "        [-0.11241846],\n",
       "        [-0.35535746],\n",
       "        [-0.20010286],\n",
       "        [-0.13776849],\n",
       "        [-0.00860848],\n",
       "        [ 0.13419139],\n",
       "        [ 0.18900764],\n",
       "        [-0.21106494],\n",
       "        [ 0.14613838],\n",
       "        [ 0.03933234],\n",
       "        [ 0.24927712],\n",
       "        [ 0.35829181],\n",
       "        [-0.15230509],\n",
       "        [-0.16605026],\n",
       "        [ 0.20874943],\n",
       "        [-0.3036428 ],\n",
       "        [-0.07467641],\n",
       "        [ 0.23188861],\n",
       "        [ 0.23620018],\n",
       "        [-0.17854493],\n",
       "        [ 0.22343896],\n",
       "        [ 0.0454169 ],\n",
       "        [ 0.14008441],\n",
       "        [ 0.00172307],\n",
       "        [ 0.13886504],\n",
       "        [-0.22051553],\n",
       "        [ 0.14909446],\n",
       "        [-0.23292065],\n",
       "        [-0.08241512],\n",
       "        [-0.08422326],\n",
       "        [ 0.18277938],\n",
       "        [ 0.03457711],\n",
       "        [ 0.30085067],\n",
       "        [ 0.11130794],\n",
       "        [-0.2654791 ],\n",
       "        [-0.12111639],\n",
       "        [-0.15866821],\n",
       "        [-0.31118166],\n",
       "        [-0.00937106],\n",
       "        [ 0.21855607],\n",
       "        [ 0.27409064],\n",
       "        [-0.14964196],\n",
       "        [ 0.14128948],\n",
       "        [ 0.17804569],\n",
       "        [-0.18619982],\n",
       "        [ 0.15170124],\n",
       "        [-0.07942989],\n",
       "        [ 0.08225573],\n",
       "        [-0.11482814],\n",
       "        [-0.09635392],\n",
       "        [-0.15785392],\n",
       "        [-0.15279882],\n",
       "        [-0.22801415],\n",
       "        [-0.11766693],\n",
       "        [-0.0267861 ],\n",
       "        [-0.27060303],\n",
       "        [ 0.19140944],\n",
       "        [ 0.20069192],\n",
       "        [ 0.00156441],\n",
       "        [-0.24046826],\n",
       "        [ 0.13195541],\n",
       "        [-0.31435476],\n",
       "        [-0.15406926],\n",
       "        [-0.18134032],\n",
       "        [-0.0764512 ],\n",
       "        [-0.0205179 ],\n",
       "        [ 0.17301128],\n",
       "        [ 0.19272225],\n",
       "        [ 0.08030601],\n",
       "        [ 0.31360355],\n",
       "        [ 0.17414058],\n",
       "        [ 0.02295324],\n",
       "        [ 0.17066523]])]"
      ]
     },
     "execution_count": 32,
     "metadata": {},
     "output_type": "execute_result"
    }
   ],
   "source": [
    "mlp.coefs_"
   ]
  },
  {
   "cell_type": "markdown",
   "metadata": {},
   "source": [
    "시각화"
   ]
  },
  {
   "cell_type": "code",
   "execution_count": 33,
   "metadata": {
    "scrolled": true
   },
   "outputs": [
    {
     "data": {
      "text/plain": [
       "<matplotlib.colorbar.Colorbar at 0x19e053f3a48>"
      ]
     },
     "execution_count": 33,
     "metadata": {},
     "output_type": "execute_result"
    },
    {
     "name": "stderr",
     "output_type": "stream",
     "text": [
      "C:\\Users\\ICT01_01\\Anaconda3\\lib\\site-packages\\matplotlib\\backends\\backend_agg.py:211: RuntimeWarning: Glyph 51008 missing from current font.\n",
      "  font.set_text(s, 0.0, flags=flags)\n",
      "C:\\Users\\ICT01_01\\Anaconda3\\lib\\site-packages\\matplotlib\\backends\\backend_agg.py:211: RuntimeWarning: Glyph 45769 missing from current font.\n",
      "  font.set_text(s, 0.0, flags=flags)\n",
      "C:\\Users\\ICT01_01\\Anaconda3\\lib\\site-packages\\matplotlib\\backends\\backend_agg.py:211: RuntimeWarning: Glyph 50976 missing from current font.\n",
      "  font.set_text(s, 0.0, flags=flags)\n",
      "C:\\Users\\ICT01_01\\Anaconda3\\lib\\site-packages\\matplotlib\\backends\\backend_agg.py:211: RuntimeWarning: Glyph 45787 missing from current font.\n",
      "  font.set_text(s, 0.0, flags=flags)\n",
      "C:\\Users\\ICT01_01\\Anaconda3\\lib\\site-packages\\matplotlib\\backends\\backend_agg.py:180: RuntimeWarning: Glyph 51008 missing from current font.\n",
      "  font.set_text(s, 0, flags=flags)\n",
      "C:\\Users\\ICT01_01\\Anaconda3\\lib\\site-packages\\matplotlib\\backends\\backend_agg.py:180: RuntimeWarning: Glyph 45769 missing from current font.\n",
      "  font.set_text(s, 0, flags=flags)\n",
      "C:\\Users\\ICT01_01\\Anaconda3\\lib\\site-packages\\matplotlib\\backends\\backend_agg.py:180: RuntimeWarning: Glyph 50976 missing from current font.\n",
      "  font.set_text(s, 0, flags=flags)\n",
      "C:\\Users\\ICT01_01\\Anaconda3\\lib\\site-packages\\matplotlib\\backends\\backend_agg.py:180: RuntimeWarning: Glyph 45787 missing from current font.\n",
      "  font.set_text(s, 0, flags=flags)\n",
      "C:\\Users\\ICT01_01\\Anaconda3\\lib\\site-packages\\matplotlib\\backends\\backend_agg.py:211: RuntimeWarning: Glyph 51077 missing from current font.\n",
      "  font.set_text(s, 0.0, flags=flags)\n",
      "C:\\Users\\ICT01_01\\Anaconda3\\lib\\site-packages\\matplotlib\\backends\\backend_agg.py:211: RuntimeWarning: Glyph 47141 missing from current font.\n",
      "  font.set_text(s, 0.0, flags=flags)\n",
      "C:\\Users\\ICT01_01\\Anaconda3\\lib\\site-packages\\matplotlib\\backends\\backend_agg.py:211: RuntimeWarning: Glyph 53945 missing from current font.\n",
      "  font.set_text(s, 0.0, flags=flags)\n",
      "C:\\Users\\ICT01_01\\Anaconda3\\lib\\site-packages\\matplotlib\\backends\\backend_agg.py:211: RuntimeWarning: Glyph 49457 missing from current font.\n",
      "  font.set_text(s, 0.0, flags=flags)\n",
      "C:\\Users\\ICT01_01\\Anaconda3\\lib\\site-packages\\matplotlib\\backends\\backend_agg.py:180: RuntimeWarning: Glyph 51077 missing from current font.\n",
      "  font.set_text(s, 0, flags=flags)\n",
      "C:\\Users\\ICT01_01\\Anaconda3\\lib\\site-packages\\matplotlib\\backends\\backend_agg.py:180: RuntimeWarning: Glyph 47141 missing from current font.\n",
      "  font.set_text(s, 0, flags=flags)\n",
      "C:\\Users\\ICT01_01\\Anaconda3\\lib\\site-packages\\matplotlib\\backends\\backend_agg.py:180: RuntimeWarning: Glyph 53945 missing from current font.\n",
      "  font.set_text(s, 0, flags=flags)\n",
      "C:\\Users\\ICT01_01\\Anaconda3\\lib\\site-packages\\matplotlib\\backends\\backend_agg.py:180: RuntimeWarning: Glyph 49457 missing from current font.\n",
      "  font.set_text(s, 0, flags=flags)\n"
     ]
    },
    {
     "data": {
      "image/png": "[encoded data removed]",
      "text/plain": [
       "<Figure size 1440x360 with 2 Axes>"
      ]
     },
     "metadata": {
      "needs_background": "light"
     },
     "output_type": "display_data"
    }
   ],
   "source": [
    "# 시각화하기\n",
    "plt.figure(figsize = (20,5))\n",
    "plt.imshow(mlp.coefs_[0], interpolation='none', cmap='viridis')\n",
    "plt.yticks(range(30), cancer.feature_names)\n",
    "plt.xlabel(\"은닉 유닛\")\n",
    "plt.ylabel(\"입력 특성\")\n",
    "plt.colorbar()"
   ]
  },
  {
   "cell_type": "markdown",
   "metadata": {},
   "source": [
    "wine 데이터로 해보기"
   ]
  },
  {
   "cell_type": "code",
   "execution_count": 97,
   "metadata": {},
   "outputs": [
    {
     "data": {
      "text/html": [
       "<div>\n",
       "<style scoped>\n",
       "    .dataframe tbody tr th:only-of-type {\n",
       "        vertical-align: middle;\n",
       "    }\n",
       "\n",
       "    .dataframe tbody tr th {\n",
       "        vertical-align: top;\n",
       "    }\n",
       "\n",
       "    .dataframe thead th {\n",
       "        text-align: right;\n",
       "    }\n",
       "</style>\n",
       "<table border=\"1\" class=\"dataframe\">\n",
       "  <thead>\n",
       "    <tr style=\"text-align: right;\">\n",
       "      <th></th>\n",
       "      <th>Cultivator</th>\n",
       "      <th>Alchol</th>\n",
       "      <th>Malic_Acid</th>\n",
       "      <th>Ash</th>\n",
       "      <th>Alcalinity_of_Ash</th>\n",
       "      <th>Magnesium</th>\n",
       "      <th>Total_phenols</th>\n",
       "      <th>Falvanoids</th>\n",
       "      <th>Nonflavanoid_phenols</th>\n",
       "      <th>Proanthocyanins</th>\n",
       "      <th>Color_intensity</th>\n",
       "      <th>Hue</th>\n",
       "      <th>OD280</th>\n",
       "      <th>Proline</th>\n",
       "    </tr>\n",
       "  </thead>\n",
       "  <tbody>\n",
       "    <tr>\n",
       "      <td>0</td>\n",
       "      <td>1</td>\n",
       "      <td>14.23</td>\n",
       "      <td>1.71</td>\n",
       "      <td>2.43</td>\n",
       "      <td>15.6</td>\n",
       "      <td>127</td>\n",
       "      <td>2.80</td>\n",
       "      <td>3.06</td>\n",
       "      <td>0.28</td>\n",
       "      <td>2.29</td>\n",
       "      <td>5.64</td>\n",
       "      <td>1.04</td>\n",
       "      <td>3.92</td>\n",
       "      <td>1065</td>\n",
       "    </tr>\n",
       "    <tr>\n",
       "      <td>1</td>\n",
       "      <td>1</td>\n",
       "      <td>13.20</td>\n",
       "      <td>1.78</td>\n",
       "      <td>2.14</td>\n",
       "      <td>11.2</td>\n",
       "      <td>100</td>\n",
       "      <td>2.65</td>\n",
       "      <td>2.76</td>\n",
       "      <td>0.26</td>\n",
       "      <td>1.28</td>\n",
       "      <td>4.38</td>\n",
       "      <td>1.05</td>\n",
       "      <td>3.40</td>\n",
       "      <td>1050</td>\n",
       "    </tr>\n",
       "    <tr>\n",
       "      <td>2</td>\n",
       "      <td>1</td>\n",
       "      <td>13.16</td>\n",
       "      <td>2.36</td>\n",
       "      <td>2.67</td>\n",
       "      <td>18.6</td>\n",
       "      <td>101</td>\n",
       "      <td>2.80</td>\n",
       "      <td>3.24</td>\n",
       "      <td>0.30</td>\n",
       "      <td>2.81</td>\n",
       "      <td>5.68</td>\n",
       "      <td>1.03</td>\n",
       "      <td>3.17</td>\n",
       "      <td>1185</td>\n",
       "    </tr>\n",
       "    <tr>\n",
       "      <td>3</td>\n",
       "      <td>1</td>\n",
       "      <td>14.37</td>\n",
       "      <td>1.95</td>\n",
       "      <td>2.50</td>\n",
       "      <td>16.8</td>\n",
       "      <td>113</td>\n",
       "      <td>3.85</td>\n",
       "      <td>3.49</td>\n",
       "      <td>0.24</td>\n",
       "      <td>2.18</td>\n",
       "      <td>7.80</td>\n",
       "      <td>0.86</td>\n",
       "      <td>3.45</td>\n",
       "      <td>1480</td>\n",
       "    </tr>\n",
       "    <tr>\n",
       "      <td>4</td>\n",
       "      <td>1</td>\n",
       "      <td>13.24</td>\n",
       "      <td>2.59</td>\n",
       "      <td>2.87</td>\n",
       "      <td>21.0</td>\n",
       "      <td>118</td>\n",
       "      <td>2.80</td>\n",
       "      <td>2.69</td>\n",
       "      <td>0.39</td>\n",
       "      <td>1.82</td>\n",
       "      <td>4.32</td>\n",
       "      <td>1.04</td>\n",
       "      <td>2.93</td>\n",
       "      <td>735</td>\n",
       "    </tr>\n",
       "    <tr>\n",
       "      <td>...</td>\n",
       "      <td>...</td>\n",
       "      <td>...</td>\n",
       "      <td>...</td>\n",
       "      <td>...</td>\n",
       "      <td>...</td>\n",
       "      <td>...</td>\n",
       "      <td>...</td>\n",
       "      <td>...</td>\n",
       "      <td>...</td>\n",
       "      <td>...</td>\n",
       "      <td>...</td>\n",
       "      <td>...</td>\n",
       "      <td>...</td>\n",
       "      <td>...</td>\n",
       "    </tr>\n",
       "    <tr>\n",
       "      <td>173</td>\n",
       "      <td>3</td>\n",
       "      <td>13.71</td>\n",
       "      <td>5.65</td>\n",
       "      <td>2.45</td>\n",
       "      <td>20.5</td>\n",
       "      <td>95</td>\n",
       "      <td>1.68</td>\n",
       "      <td>0.61</td>\n",
       "      <td>0.52</td>\n",
       "      <td>1.06</td>\n",
       "      <td>7.70</td>\n",
       "      <td>0.64</td>\n",
       "      <td>1.74</td>\n",
       "      <td>740</td>\n",
       "    </tr>\n",
       "    <tr>\n",
       "      <td>174</td>\n",
       "      <td>3</td>\n",
       "      <td>13.40</td>\n",
       "      <td>3.91</td>\n",
       "      <td>2.48</td>\n",
       "      <td>23.0</td>\n",
       "      <td>102</td>\n",
       "      <td>1.80</td>\n",
       "      <td>0.75</td>\n",
       "      <td>0.43</td>\n",
       "      <td>1.41</td>\n",
       "      <td>7.30</td>\n",
       "      <td>0.70</td>\n",
       "      <td>1.56</td>\n",
       "      <td>750</td>\n",
       "    </tr>\n",
       "    <tr>\n",
       "      <td>175</td>\n",
       "      <td>3</td>\n",
       "      <td>13.27</td>\n",
       "      <td>4.28</td>\n",
       "      <td>2.26</td>\n",
       "      <td>20.0</td>\n",
       "      <td>120</td>\n",
       "      <td>1.59</td>\n",
       "      <td>0.69</td>\n",
       "      <td>0.43</td>\n",
       "      <td>1.35</td>\n",
       "      <td>10.20</td>\n",
       "      <td>0.59</td>\n",
       "      <td>1.56</td>\n",
       "      <td>835</td>\n",
       "    </tr>\n",
       "    <tr>\n",
       "      <td>176</td>\n",
       "      <td>3</td>\n",
       "      <td>13.17</td>\n",
       "      <td>2.59</td>\n",
       "      <td>2.37</td>\n",
       "      <td>20.0</td>\n",
       "      <td>120</td>\n",
       "      <td>1.65</td>\n",
       "      <td>0.68</td>\n",
       "      <td>0.53</td>\n",
       "      <td>1.46</td>\n",
       "      <td>9.30</td>\n",
       "      <td>0.60</td>\n",
       "      <td>1.62</td>\n",
       "      <td>840</td>\n",
       "    </tr>\n",
       "    <tr>\n",
       "      <td>177</td>\n",
       "      <td>3</td>\n",
       "      <td>14.13</td>\n",
       "      <td>4.10</td>\n",
       "      <td>2.74</td>\n",
       "      <td>24.5</td>\n",
       "      <td>96</td>\n",
       "      <td>2.05</td>\n",
       "      <td>0.76</td>\n",
       "      <td>0.56</td>\n",
       "      <td>1.35</td>\n",
       "      <td>9.20</td>\n",
       "      <td>0.61</td>\n",
       "      <td>1.60</td>\n",
       "      <td>560</td>\n",
       "    </tr>\n",
       "  </tbody>\n",
       "</table>\n",
       "<p>178 rows × 14 columns</p>\n",
       "</div>"
      ],
      "text/plain": [
       "     Cultivator  Alchol  Malic_Acid   Ash  Alcalinity_of_Ash  Magnesium  \\\n",
       "0             1   14.23        1.71  2.43               15.6        127   \n",
       "1             1   13.20        1.78  2.14               11.2        100   \n",
       "2             1   13.16        2.36  2.67               18.6        101   \n",
       "3             1   14.37        1.95  2.50               16.8        113   \n",
       "4             1   13.24        2.59  2.87               21.0        118   \n",
       "..          ...     ...         ...   ...                ...        ...   \n",
       "173           3   13.71        5.65  2.45               20.5         95   \n",
       "174           3   13.40        3.91  2.48               23.0        102   \n",
       "175           3   13.27        4.28  2.26               20.0        120   \n",
       "176           3   13.17        2.59  2.37               20.0        120   \n",
       "177           3   14.13        4.10  2.74               24.5         96   \n",
       "\n",
       "     Total_phenols  Falvanoids  Nonflavanoid_phenols  Proanthocyanins  \\\n",
       "0             2.80        3.06                  0.28             2.29   \n",
       "1             2.65        2.76                  0.26             1.28   \n",
       "2             2.80        3.24                  0.30             2.81   \n",
       "3             3.85        3.49                  0.24             2.18   \n",
       "4             2.80        2.69                  0.39             1.82   \n",
       "..             ...         ...                   ...              ...   \n",
       "173           1.68        0.61                  0.52             1.06   \n",
       "174           1.80        0.75                  0.43             1.41   \n",
       "175           1.59        0.69                  0.43             1.35   \n",
       "176           1.65        0.68                  0.53             1.46   \n",
       "177           2.05        0.76                  0.56             1.35   \n",
       "\n",
       "     Color_intensity   Hue  OD280  Proline  \n",
       "0               5.64  1.04   3.92     1065  \n",
       "1               4.38  1.05   3.40     1050  \n",
       "2               5.68  1.03   3.17     1185  \n",
       "3               7.80  0.86   3.45     1480  \n",
       "4               4.32  1.04   2.93      735  \n",
       "..               ...   ...    ...      ...  \n",
       "173             7.70  0.64   1.74      740  \n",
       "174             7.30  0.70   1.56      750  \n",
       "175            10.20  0.59   1.56      835  \n",
       "176             9.30  0.60   1.62      840  \n",
       "177             9.20  0.61   1.60      560  \n",
       "\n",
       "[178 rows x 14 columns]"
      ]
     },
     "execution_count": 97,
     "metadata": {},
     "output_type": "execute_result"
    }
   ],
   "source": [
    "import pandas as pd   # csv파일 읽어들일때 pandas로 \n",
    "\n",
    "wine = pd.read_csv('./wine_data.csv', names = [\"Cultivator\", \"Alchol\", \"Malic_Acid\", \"Ash\",\n",
    "                                             \"Alcalinity_of_Ash\", \"Magnesium\", \"Total_phenols\",\n",
    "                                             \"Falvanoids\", \"Nonflavanoid_phenols\",\n",
    "                                             \"Proanthocyanins\", \"Color_intensity\", \"Hue\",\n",
    "                                             \"OD280\", \"Proline\"], encoding=\"utf-8\")\n",
    "wine"
   ]
  },
  {
   "cell_type": "code",
   "execution_count": 68,
   "metadata": {},
   "outputs": [
    {
     "name": "stdout",
     "output_type": "stream",
     "text": [
      "훈련세트 정확도:0.99\n",
      "테스트세트 정확도:0.96\n"
     ]
    },
    {
     "name": "stderr",
     "output_type": "stream",
     "text": [
      "C:\\Users\\ICT01_01\\Anaconda3\\lib\\site-packages\\sklearn\\neural_network\\multilayer_perceptron.py:566: ConvergenceWarning: Stochastic Optimizer: Maximum iterations (1000) reached and the optimization hasn't converged yet.\n",
      "  % self.max_iter, ConvergenceWarning)\n"
     ]
    }
   ],
   "source": [
    "# 데이터 지정\n",
    "wine.data = wine.iloc[:,1:]\n",
    "wine.target = wine.iloc[:,0]\n",
    "\n",
    "# 데이터 나누기(test, train)\n",
    "X_train, X_test, y_train, y_test = train_test_split(wine.data, wine.target, random_state=42)  # random_state : 난수정할때 (seed같은)\n",
    "mlp=MLPClassifier(max_iter=1000, alpha=1)                                                     # 42가 가장 안정적인 수\n",
    "mlp.fit(X_train, y_train)\n",
    "\n",
    "# 학습\n",
    "print(\"훈련세트 정확도:{:.2f}\".format(mlp.score(X_train, y_train)))\n",
    "print(\"테스트세트 정확도:{:.2f}\".format(mlp.score(X_test, y_test)))"
   ]
  },
  {
   "cell_type": "code",
   "execution_count": 61,
   "metadata": {},
   "outputs": [
    {
     "name": "stdout",
     "output_type": "stream",
     "text": [
      "훈련세트 정확도:1.000\n",
      "테스트세트 정확도:0.978\n"
     ]
    },
    {
     "name": "stderr",
     "output_type": "stream",
     "text": [
      "C:\\Users\\ICT01_01\\Anaconda3\\lib\\site-packages\\sklearn\\neural_network\\multilayer_perceptron.py:566: ConvergenceWarning: Stochastic Optimizer: Maximum iterations (200) reached and the optimization hasn't converged yet.\n",
      "  % self.max_iter, ConvergenceWarning)\n"
     ]
    }
   ],
   "source": [
    "# z점수 학습\n",
    "mean_train = X_train.mean(axis=0)\n",
    "std_train = X_train.std(axis=0)\n",
    "\n",
    "x_train_scaled = (X_train - mean_train)/std_train\n",
    "x_test_scaled = (X_test - mean_train)/std_train\n",
    "\n",
    "mlp = MLPClassifier(random_state=0)\n",
    "mlp.fit(x_train_scaled, y_train)\n",
    "\n",
    "print(\"z훈련세트 정확도:{:.3f}\".format(mlp.score(x_train_scaled, y_train)))  \n",
    "print(\"z테스트세트 정확도:{:.3f}\".format(mlp.score(x_test_scaled, y_test)))"
   ]
  },
  {
   "cell_type": "markdown",
   "metadata": {},
   "source": [
    "# wine 실전"
   ]
  },
  {
   "cell_type": "code",
   "execution_count": 98,
   "metadata": {},
   "outputs": [
    {
     "data": {
      "text/plain": [
       "(178, 14)"
      ]
     },
     "execution_count": 98,
     "metadata": {},
     "output_type": "execute_result"
    }
   ],
   "source": [
    "wine.shape # 178 관측치, 14변수  # 분류 :독립변수와  종속변수"
   ]
  },
  {
   "cell_type": "code",
   "execution_count": 121,
   "metadata": {},
   "outputs": [
    {
     "data": {
      "text/html": [
       "<div>\n",
       "<style scoped>\n",
       "    .dataframe tbody tr th:only-of-type {\n",
       "        vertical-align: middle;\n",
       "    }\n",
       "\n",
       "    .dataframe tbody tr th {\n",
       "        vertical-align: top;\n",
       "    }\n",
       "\n",
       "    .dataframe thead th {\n",
       "        text-align: right;\n",
       "    }\n",
       "</style>\n",
       "<table border=\"1\" class=\"dataframe\">\n",
       "  <thead>\n",
       "    <tr style=\"text-align: right;\">\n",
       "      <th></th>\n",
       "      <th>Alchol</th>\n",
       "      <th>Malic_Acid</th>\n",
       "      <th>Ash</th>\n",
       "      <th>Alcalinity_of_Ash</th>\n",
       "      <th>Magnesium</th>\n",
       "      <th>Total_phenols</th>\n",
       "      <th>Falvanoids</th>\n",
       "      <th>Nonflavanoid_phenols</th>\n",
       "      <th>Proanthocyanins</th>\n",
       "      <th>Color_intensity</th>\n",
       "      <th>Hue</th>\n",
       "      <th>OD280</th>\n",
       "      <th>Proline</th>\n",
       "    </tr>\n",
       "  </thead>\n",
       "  <tbody>\n",
       "    <tr>\n",
       "      <td>0</td>\n",
       "      <td>14.23</td>\n",
       "      <td>1.71</td>\n",
       "      <td>2.43</td>\n",
       "      <td>15.6</td>\n",
       "      <td>127</td>\n",
       "      <td>2.80</td>\n",
       "      <td>3.06</td>\n",
       "      <td>0.28</td>\n",
       "      <td>2.29</td>\n",
       "      <td>5.64</td>\n",
       "      <td>1.04</td>\n",
       "      <td>3.92</td>\n",
       "      <td>1065</td>\n",
       "    </tr>\n",
       "    <tr>\n",
       "      <td>1</td>\n",
       "      <td>13.20</td>\n",
       "      <td>1.78</td>\n",
       "      <td>2.14</td>\n",
       "      <td>11.2</td>\n",
       "      <td>100</td>\n",
       "      <td>2.65</td>\n",
       "      <td>2.76</td>\n",
       "      <td>0.26</td>\n",
       "      <td>1.28</td>\n",
       "      <td>4.38</td>\n",
       "      <td>1.05</td>\n",
       "      <td>3.40</td>\n",
       "      <td>1050</td>\n",
       "    </tr>\n",
       "    <tr>\n",
       "      <td>2</td>\n",
       "      <td>13.16</td>\n",
       "      <td>2.36</td>\n",
       "      <td>2.67</td>\n",
       "      <td>18.6</td>\n",
       "      <td>101</td>\n",
       "      <td>2.80</td>\n",
       "      <td>3.24</td>\n",
       "      <td>0.30</td>\n",
       "      <td>2.81</td>\n",
       "      <td>5.68</td>\n",
       "      <td>1.03</td>\n",
       "      <td>3.17</td>\n",
       "      <td>1185</td>\n",
       "    </tr>\n",
       "    <tr>\n",
       "      <td>3</td>\n",
       "      <td>14.37</td>\n",
       "      <td>1.95</td>\n",
       "      <td>2.50</td>\n",
       "      <td>16.8</td>\n",
       "      <td>113</td>\n",
       "      <td>3.85</td>\n",
       "      <td>3.49</td>\n",
       "      <td>0.24</td>\n",
       "      <td>2.18</td>\n",
       "      <td>7.80</td>\n",
       "      <td>0.86</td>\n",
       "      <td>3.45</td>\n",
       "      <td>1480</td>\n",
       "    </tr>\n",
       "    <tr>\n",
       "      <td>4</td>\n",
       "      <td>13.24</td>\n",
       "      <td>2.59</td>\n",
       "      <td>2.87</td>\n",
       "      <td>21.0</td>\n",
       "      <td>118</td>\n",
       "      <td>2.80</td>\n",
       "      <td>2.69</td>\n",
       "      <td>0.39</td>\n",
       "      <td>1.82</td>\n",
       "      <td>4.32</td>\n",
       "      <td>1.04</td>\n",
       "      <td>2.93</td>\n",
       "      <td>735</td>\n",
       "    </tr>\n",
       "    <tr>\n",
       "      <td>...</td>\n",
       "      <td>...</td>\n",
       "      <td>...</td>\n",
       "      <td>...</td>\n",
       "      <td>...</td>\n",
       "      <td>...</td>\n",
       "      <td>...</td>\n",
       "      <td>...</td>\n",
       "      <td>...</td>\n",
       "      <td>...</td>\n",
       "      <td>...</td>\n",
       "      <td>...</td>\n",
       "      <td>...</td>\n",
       "      <td>...</td>\n",
       "    </tr>\n",
       "    <tr>\n",
       "      <td>173</td>\n",
       "      <td>13.71</td>\n",
       "      <td>5.65</td>\n",
       "      <td>2.45</td>\n",
       "      <td>20.5</td>\n",
       "      <td>95</td>\n",
       "      <td>1.68</td>\n",
       "      <td>0.61</td>\n",
       "      <td>0.52</td>\n",
       "      <td>1.06</td>\n",
       "      <td>7.70</td>\n",
       "      <td>0.64</td>\n",
       "      <td>1.74</td>\n",
       "      <td>740</td>\n",
       "    </tr>\n",
       "    <tr>\n",
       "      <td>174</td>\n",
       "      <td>13.40</td>\n",
       "      <td>3.91</td>\n",
       "      <td>2.48</td>\n",
       "      <td>23.0</td>\n",
       "      <td>102</td>\n",
       "      <td>1.80</td>\n",
       "      <td>0.75</td>\n",
       "      <td>0.43</td>\n",
       "      <td>1.41</td>\n",
       "      <td>7.30</td>\n",
       "      <td>0.70</td>\n",
       "      <td>1.56</td>\n",
       "      <td>750</td>\n",
       "    </tr>\n",
       "    <tr>\n",
       "      <td>175</td>\n",
       "      <td>13.27</td>\n",
       "      <td>4.28</td>\n",
       "      <td>2.26</td>\n",
       "      <td>20.0</td>\n",
       "      <td>120</td>\n",
       "      <td>1.59</td>\n",
       "      <td>0.69</td>\n",
       "      <td>0.43</td>\n",
       "      <td>1.35</td>\n",
       "      <td>10.20</td>\n",
       "      <td>0.59</td>\n",
       "      <td>1.56</td>\n",
       "      <td>835</td>\n",
       "    </tr>\n",
       "    <tr>\n",
       "      <td>176</td>\n",
       "      <td>13.17</td>\n",
       "      <td>2.59</td>\n",
       "      <td>2.37</td>\n",
       "      <td>20.0</td>\n",
       "      <td>120</td>\n",
       "      <td>1.65</td>\n",
       "      <td>0.68</td>\n",
       "      <td>0.53</td>\n",
       "      <td>1.46</td>\n",
       "      <td>9.30</td>\n",
       "      <td>0.60</td>\n",
       "      <td>1.62</td>\n",
       "      <td>840</td>\n",
       "    </tr>\n",
       "    <tr>\n",
       "      <td>177</td>\n",
       "      <td>14.13</td>\n",
       "      <td>4.10</td>\n",
       "      <td>2.74</td>\n",
       "      <td>24.5</td>\n",
       "      <td>96</td>\n",
       "      <td>2.05</td>\n",
       "      <td>0.76</td>\n",
       "      <td>0.56</td>\n",
       "      <td>1.35</td>\n",
       "      <td>9.20</td>\n",
       "      <td>0.61</td>\n",
       "      <td>1.60</td>\n",
       "      <td>560</td>\n",
       "    </tr>\n",
       "  </tbody>\n",
       "</table>\n",
       "<p>178 rows × 13 columns</p>\n",
       "</div>"
      ],
      "text/plain": [
       "     Alchol  Malic_Acid   Ash  Alcalinity_of_Ash  Magnesium  Total_phenols  \\\n",
       "0     14.23        1.71  2.43               15.6        127           2.80   \n",
       "1     13.20        1.78  2.14               11.2        100           2.65   \n",
       "2     13.16        2.36  2.67               18.6        101           2.80   \n",
       "3     14.37        1.95  2.50               16.8        113           3.85   \n",
       "4     13.24        2.59  2.87               21.0        118           2.80   \n",
       "..      ...         ...   ...                ...        ...            ...   \n",
       "173   13.71        5.65  2.45               20.5         95           1.68   \n",
       "174   13.40        3.91  2.48               23.0        102           1.80   \n",
       "175   13.27        4.28  2.26               20.0        120           1.59   \n",
       "176   13.17        2.59  2.37               20.0        120           1.65   \n",
       "177   14.13        4.10  2.74               24.5         96           2.05   \n",
       "\n",
       "     Falvanoids  Nonflavanoid_phenols  Proanthocyanins  Color_intensity   Hue  \\\n",
       "0          3.06                  0.28             2.29             5.64  1.04   \n",
       "1          2.76                  0.26             1.28             4.38  1.05   \n",
       "2          3.24                  0.30             2.81             5.68  1.03   \n",
       "3          3.49                  0.24             2.18             7.80  0.86   \n",
       "4          2.69                  0.39             1.82             4.32  1.04   \n",
       "..          ...                   ...              ...              ...   ...   \n",
       "173        0.61                  0.52             1.06             7.70  0.64   \n",
       "174        0.75                  0.43             1.41             7.30  0.70   \n",
       "175        0.69                  0.43             1.35            10.20  0.59   \n",
       "176        0.68                  0.53             1.46             9.30  0.60   \n",
       "177        0.76                  0.56             1.35             9.20  0.61   \n",
       "\n",
       "     OD280  Proline  \n",
       "0     3.92     1065  \n",
       "1     3.40     1050  \n",
       "2     3.17     1185  \n",
       "3     3.45     1480  \n",
       "4     2.93      735  \n",
       "..     ...      ...  \n",
       "173   1.74      740  \n",
       "174   1.56      750  \n",
       "175   1.56      835  \n",
       "176   1.62      840  \n",
       "177   1.60      560  \n",
       "\n",
       "[178 rows x 13 columns]"
      ]
     },
     "execution_count": 121,
     "metadata": {},
     "output_type": "execute_result"
    }
   ],
   "source": [
    "# 데이터 지정\n",
    "X = wine.drop('Cultivator', axis = 1)\n",
    "y = wine['Cultivator']\n",
    "X\n"
   ]
  },
  {
   "cell_type": "code",
   "execution_count": 122,
   "metadata": {},
   "outputs": [],
   "source": [
    "# 데이터 나누기\n",
    "from sklearn.model_selection import train_test_split\n",
    "X_train, X_test, y_train, y_test = train_test_split(X,y)  # 75 : 25"
   ]
  },
  {
   "cell_type": "code",
   "execution_count": 123,
   "metadata": {},
   "outputs": [
    {
     "name": "stdout",
     "output_type": "stream",
     "text": [
      "[1 2 3]\n"
     ]
    }
   ],
   "source": [
    "print(y.unique())  # 종속변수 3개"
   ]
  },
  {
   "cell_type": "code",
   "execution_count": 124,
   "metadata": {},
   "outputs": [],
   "source": [
    "# 전처리\n",
    "from sklearn.preprocessing import StandardScaler\n",
    "scaler = StandardScaler()\n",
    "# StandardScaler (copy = True, with_mean=True), with_std=True)  # copy=T면 원본은 수정하지 마라\n",
    "\n",
    "scaler.fit(X_train)\n",
    "\n",
    "X_train = scaler.transform(X_train)\n",
    "X_test = scaler.transform(X_test)"
   ]
  },
  {
   "cell_type": "code",
   "execution_count": 125,
   "metadata": {},
   "outputs": [
    {
     "data": {
      "text/plain": [
       "MLPClassifier(activation='relu', alpha=0.0001, batch_size='auto', beta_1=0.9,\n",
       "              beta_2=0.999, early_stopping=False, epsilon=1e-08,\n",
       "              hidden_layer_sizes=(30, 30, 30), learning_rate='constant',\n",
       "              learning_rate_init=0.001, max_iter=200, momentum=0.9,\n",
       "              n_iter_no_change=10, nesterovs_momentum=True, power_t=0.5,\n",
       "              random_state=None, shuffle=True, solver='adam', tol=0.0001,\n",
       "              validation_fraction=0.1, verbose=False, warm_start=False)"
      ]
     },
     "execution_count": 125,
     "metadata": {},
     "output_type": "execute_result"
    }
   ],
   "source": [
    "# 모델만들기\n",
    "from sklearn.neural_network import MLPClassifier\n",
    "\n",
    "# 디폴트 hidden_layer_sizes(100, )  e디폴트 100\n",
    "mlp = MLPClassifier(hidden_layer_sizes = (30,30,30))\n",
    "mlp.fit(X_train, y_train)"
   ]
  },
  {
   "cell_type": "code",
   "execution_count": 126,
   "metadata": {},
   "outputs": [
    {
     "name": "stdout",
     "output_type": "stream",
     "text": [
      "[[16  0  0]\n",
      " [ 0 16  0]\n",
      " [ 0  0 13]]\n",
      "              precision    recall  f1-score   support\n",
      "\n",
      "           1       1.00      1.00      1.00        16\n",
      "           2       1.00      1.00      1.00        16\n",
      "           3       1.00      1.00      1.00        13\n",
      "\n",
      "    accuracy                           1.00        45\n",
      "   macro avg       1.00      1.00      1.00        45\n",
      "weighted avg       1.00      1.00      1.00        45\n",
      "\n"
     ]
    }
   ],
   "source": [
    "# 평가하기\n",
    "\n",
    "from sklearn.metrics import classification_report\n",
    "from sklearn.metrics import confusion_matrix\n",
    "# classification_report\n",
    "# precision 정밀도 = TP / (TP+FP) : 예측을 중심으로 생각\n",
    "# recall 재현율 = TP/(TP+TN) : 실제값을 중심으로 생각\n",
    "# f1_score :(2*(presicion*recall)) / (precision + recall)\n",
    "\n",
    "predictions = mlp.predict(X_test)\n",
    "\n",
    "print(confusion_matrix(y_test, predictions))\n",
    "print(classification_report(y_test, predictions))\n",
    "\n",
    "# 1,2,3의 의미 : y_unique\n",
    "# macro avg : 평균\n",
    "# weighted avg : 가중평균\n",
    "# support = 맞은 갯수"
   ]
  },
  {
   "cell_type": "code",
   "execution_count": 127,
   "metadata": {},
   "outputs": [
    {
     "name": "stdout",
     "output_type": "stream",
     "text": [
      "(13, 30)\n",
      "(30, 30)\n",
      "(30, 30)\n"
     ]
    },
    {
     "data": {
      "text/plain": [
       "Text(0, 0.5, 'input feature')"
      ]
     },
     "execution_count": 127,
     "metadata": {},
     "output_type": "execute_result"
    },
    {
     "data": {
      "image/png": "[encoded data removed]",
      "text/plain": [
       "<Figure size 1440x360 with 1 Axes>"
      ]
     },
     "metadata": {
      "needs_background": "light"
     },
     "output_type": "display_data"
    }
   ],
   "source": [
    "print(mlp.coefs_[0].shape) # 13X30\n",
    "print(mlp.coefs_[1].shape) # 30X30\n",
    "print(mlp.coefs_[2].shape) # 30X30\n",
    "plt.figure(figsize = (20,5))\n",
    "plt.imshow(mlp.coefs_[0], interpolation = 'none',cmap = 'viridis')\n",
    "plt.xlabel(\"hidden unit\")\n",
    "plt.ylabel(\"input feature\")\n",
    "\n",
    "# plt.colorbar()"
   ]
  },
  {
   "cell_type": "markdown",
   "metadata": {},
   "source": [
    "# NMF ( Non-negative matrix factorization ) : 비음수 행렬 분해\n",
    " - PCA는 음수와 양수의 차이를 상계해서 처리\n",
    " - 양수인 데이터에 적용: 음성데이터, signal "
   ]
  },
  {
   "cell_type": "code",
   "execution_count": 129,
   "metadata": {},
   "outputs": [
    {
     "data": {
      "image/png": "[encoded data removed]",
      "text/plain": [
       "<Figure size 432x72 with 1 Axes>"
      ]
     },
     "metadata": {
      "needs_background": "light"
     },
     "output_type": "display_data"
    }
   ],
   "source": [
    "S = mglearn.datasets.make_signals()\n",
    "plt.figure(figsize = (6,1))\n",
    "plt.plot(S, '-')\n",
    "plt.xlabel(\"time\")\n",
    "plt.ylabel(\"signal\")\n",
    "plt.margins(0)"
   ]
  },
  {
   "cell_type": "code",
   "execution_count": 133,
   "metadata": {},
   "outputs": [
    {
     "name": "stdout",
     "output_type": "stream",
     "text": [
      "측정 데이터 형태 : (2000, 100)\n"
     ]
    }
   ],
   "source": [
    "# 노이즈 : 전송 데이터\n",
    "import numpy as np\n",
    "A = np.random.RandomState(0).uniform(size = (100,3))\n",
    "X = np.dot(S, A.T)\n",
    "print(\"측정 데이터 형태 : {}\".format(X.shape))"
   ]
  },
  {
   "cell_type": "code",
   "execution_count": 135,
   "metadata": {},
   "outputs": [
    {
     "name": "stdout",
     "output_type": "stream",
     "text": [
      "복원한 신호 데이터 형태:(2000, 3)\n"
     ]
    }
   ],
   "source": [
    "from sklearn.decomposition import NMF, PCA    # nmf, pca는 decomposition 에 있음\n",
    "nmf = NMF(n_components = 3, random_state = 42)\n",
    "S_ = nmf.fit_transform(X)\n",
    "print(\"복원한 신호 데이터 형태:{}\".format(S_.shape))"
   ]
  },
  {
   "cell_type": "code",
   "execution_count": 136,
   "metadata": {},
   "outputs": [],
   "source": [
    "pca = PCA(n_components=3)\n",
    "H = pca.fit_transform(X)"
   ]
  },
  {
   "cell_type": "markdown",
   "metadata": {},
   "source": [
    "폰트바꾸기"
   ]
  },
  {
   "cell_type": "code",
   "execution_count": 143,
   "metadata": {},
   "outputs": [],
   "source": [
    "#폰트바꾸기\n",
    "from matplotlib import font_manager, rc\n",
    "font_name = font_manager.FontProperties(fname = \"c:/Windows/Fonts/malgun.ttf\").get_name()\n",
    "rc('font', family = font_name)"
   ]
  },
  {
   "cell_type": "code",
   "execution_count": 148,
   "metadata": {},
   "outputs": [
    {
     "data": {
      "image/png": "[encoded data removed]",
      "text/plain": [
       "<Figure size 576x288 with 4 Axes>"
      ]
     },
     "metadata": {},
     "output_type": "display_data"
    }
   ],
   "source": [
    "         # 원본, 노이즈 ,NMF, PCA\n",
    "models = [S, X, S_, H]   # 노이즈 : 양수데이터는 노이즈를 제거 못함\n",
    "names = ['측정 신호 (처음 3개)', '원본 신호','NMF로 복원한 신호', 'PCA로 복원한 신호']  \n",
    "fig, axes = plt.subplots(4, figsize=(8,4), gridspec_kw = {'hspace':.5}, subplot_kw = {'xticks':(), 'yticks':()})\n",
    "for model, name, ax in zip(models, names, axes):\n",
    "    ax.set_title(name)\n",
    "    ax.plot(model[:, :3], '-')\n",
    "    ax.margins(0)"
   ]
  },
  {
   "cell_type": "markdown",
   "metadata": {},
   "source": [
    "# 군집분석 시각화 "
   ]
  },
  {
   "cell_type": "code",
   "execution_count": null,
   "metadata": {},
   "outputs": [],
   "source": []
  },
  {
   "cell_type": "code",
   "execution_count": null,
   "metadata": {},
   "outputs": [],
   "source": []
  },
  {
   "cell_type": "code",
   "execution_count": null,
   "metadata": {},
   "outputs": [],
   "source": []
  },
  {
   "cell_type": "code",
   "execution_count": null,
   "metadata": {},
   "outputs": [],
   "source": []
  },
  {
   "cell_type": "code",
   "execution_count": null,
   "metadata": {},
   "outputs": [],
   "source": []
  }
 ],
 "metadata": {
  "kernelspec": {
   "display_name": "Python 3",
   "language": "python",
   "name": "python3"
  },
  "language_info": {
   "codemirror_mode": {
    "name": "ipython",
    "version": 3
   },
   "file_extension": ".py",
   "mimetype": "text/x-python",
   "name": "python",
   "nbconvert_exporter": "python",
   "pygments_lexer": "ipython3",
   "version": "3.7.4"
  }
 },
 "nbformat": 4,
 "nbformat_minor": 2
}
