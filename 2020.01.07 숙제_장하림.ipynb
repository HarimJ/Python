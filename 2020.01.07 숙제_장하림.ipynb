{
 "cells": [
  {
   "cell_type": "markdown",
   "metadata": {},
   "source": [
    "# HW : 서울 소재 10개 대학의 좌표를 출력해 보시오"
   ]
  },
  {
   "cell_type": "code",
   "execution_count": null,
   "metadata": {},
   "outputs": [],
   "source": [
    "서울대 37.460031, 126.951911\n",
    "한양대 37.566461, 127.044850\n",
    "성균관대 37.588457, 126.993595\n",
    "서강대 37.551225, 126.941013\n",
    "연세대 37.565997, 126.938175\n",
    "고려대 37.591046, 127.027885\n",
    "중앙대 37.505318, 126.957112\n",
    "이화여대 37.560003, 126.945469\n",
    "경희대 37.596391, 127.052587\n",
    "숙명대 37.546560, 126.964831"
   ]
  },
  {
   "cell_type": "code",
   "execution_count": 1,
   "metadata": {},
   "outputs": [
    {
     "data": {
      "text/html": [
       "<div style=\"width:100%;\"><div style=\"position:relative;width:100%;height:0;padding-bottom:60%;\"><iframe src=\"data:text/html;charset=utf-8;base64,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\" style=\"position:absolute;width:100%;height:100%;left:0;top:0;border:none !important;\" allowfullscreen webkitallowfullscreen mozallowfullscreen></iframe></div></div>"
      ],
      "text/plain": [
       "<folium.folium.Map at 0x22bb0b7c908>"
      ]
     },
     "execution_count": 1,
     "metadata": {},
     "output_type": "execute_result"
    }
   ],
   "source": [
    "import folium\n",
    "map_1 = folium.Map(location = [37.565711, 126.97809], zoom_start = 10) # 중심점\n",
    "#                   titles = 'Stamen Terrain')\n",
    "folium.Marker([37.460031, 126.951911], popup = '서울대').add_to(map_1)\n",
    "folium.Marker([37.546560, 126.964831], popup = '숙명대').add_to(map_1)\n",
    "folium.Marker([37.596391, 127.052587], popup = '경희대').add_to(map_1)\n",
    "folium.Marker([37.560003, 126.945469], popup = '이화여대').add_to(map_1)\n",
    "folium.Marker([37.505318, 126.957112], popup = '중앙대').add_to(map_1)\n",
    "folium.Marker([37.591046, 127.027885], popup = '고려대').add_to(map_1)\n",
    "folium.Marker([37.565997, 126.938175], popup = '연세대').add_to(map_1)\n",
    "folium.Marker([37.551225, 126.941013], popup = '서강대').add_to(map_1)\n",
    "folium.Marker([37.588457, 126.993595], popup = '성균관대').add_to(map_1)\n",
    "folium.Marker([37.566461, 127.044850], popup = '한양대').add_to(map_1)\n",
    "#folium.Marker([37.565711, 126.97809], popup = '서울시청및', icon = folium.Icon(icon = 'cloud')).add_to(map_1)\n",
    "map_1"
   ]
  },
  {
   "cell_type": "code",
   "execution_count": null,
   "metadata": {},
   "outputs": [],
   "source": [
    "# 문제 다음 데이터를 데이터프레임에 저장하시요\n",
    "#         지역  2018     2017 2016 2015 2015-2018 증가율\n",
    "# 서울 수도권  9904312 9631482 9762546 9853972    0.0283\n",
    "# 부산 경상권  3448737 3393191 3512547 3655437    0.0163\n",
    "# 인천 수도권  2890451 2632035 2517680 2466338    0.0982\n",
    "# 대구 경상권  2466052 2431774 2456016 2473990    0.0141 \n",
    "\n",
    "\n",
    "#columns = ['지역', '2018', '2017','2016','2015','2015-2018 증가율']\n",
    "#index = ['서울', '부산', '인천', '대구']"
   ]
  },
  {
   "cell_type": "markdown",
   "metadata": {},
   "source": [
    "# 문제"
   ]
  },
  {
   "cell_type": "code",
   "execution_count": 3,
   "metadata": {},
   "outputs": [
    {
     "data": {
      "text/html": [
       "<div>\n",
       "<style scoped>\n",
       "    .dataframe tbody tr th:only-of-type {\n",
       "        vertical-align: middle;\n",
       "    }\n",
       "\n",
       "    .dataframe tbody tr th {\n",
       "        vertical-align: top;\n",
       "    }\n",
       "\n",
       "    .dataframe thead th {\n",
       "        text-align: right;\n",
       "    }\n",
       "</style>\n",
       "<table border=\"1\" class=\"dataframe\">\n",
       "  <thead>\n",
       "    <tr style=\"text-align: right;\">\n",
       "      <th></th>\n",
       "      <th>지역</th>\n",
       "      <th>2018</th>\n",
       "      <th>2017</th>\n",
       "      <th>2016</th>\n",
       "      <th>2015</th>\n",
       "      <th>2015-2018 증가율</th>\n",
       "    </tr>\n",
       "  </thead>\n",
       "  <tbody>\n",
       "    <tr>\n",
       "      <td>서울</td>\n",
       "      <td>수도권</td>\n",
       "      <td>9904312</td>\n",
       "      <td>9631482</td>\n",
       "      <td>9762546</td>\n",
       "      <td>9853972</td>\n",
       "      <td>0.0283</td>\n",
       "    </tr>\n",
       "    <tr>\n",
       "      <td>부산</td>\n",
       "      <td>경상권</td>\n",
       "      <td>3448737</td>\n",
       "      <td>3393191</td>\n",
       "      <td>3512547</td>\n",
       "      <td>3655437</td>\n",
       "      <td>0.0163</td>\n",
       "    </tr>\n",
       "    <tr>\n",
       "      <td>인천</td>\n",
       "      <td>수도권</td>\n",
       "      <td>2890451</td>\n",
       "      <td>2632035</td>\n",
       "      <td>2517680</td>\n",
       "      <td>2466338</td>\n",
       "      <td>0.0982</td>\n",
       "    </tr>\n",
       "    <tr>\n",
       "      <td>대구</td>\n",
       "      <td>경상권</td>\n",
       "      <td>2466052</td>\n",
       "      <td>2431774</td>\n",
       "      <td>2456016</td>\n",
       "      <td>2473990</td>\n",
       "      <td>0.0141</td>\n",
       "    </tr>\n",
       "  </tbody>\n",
       "</table>\n",
       "</div>"
      ],
      "text/plain": [
       "     지역     2018     2017     2016     2015  2015-2018 증가율\n",
       "서울  수도권  9904312  9631482  9762546  9853972         0.0283\n",
       "부산  경상권  3448737  3393191  3512547  3655437         0.0163\n",
       "인천  수도권  2890451  2632035  2517680  2466338         0.0982\n",
       "대구  경상권  2466052  2431774  2456016  2473990         0.0141"
      ]
     },
     "execution_count": 3,
     "metadata": {},
     "output_type": "execute_result"
    }
   ],
   "source": [
    "import pandas as pd\n",
    "data = {'지역':['수도권', '경상권','수도권','경상권'], '2018':[9904312 , 3448737, 2890451, 2466052], \n",
    "        '2017': [9631482, 3393191, 2632035, 2431774], '2016':[9762546, 3512547, 2517680, 2456016], \n",
    "        '2015':[9853972, 3655437, 2466338, 2473990,], '2015-2018 증가율': [0.0283, 0.0163, 0.0982, 0.0141]}\n",
    "df = pd.DataFrame(data, columns =['지역', '2018', '2017','2016','2015','2015-2018 증가율'], \n",
    "                  index = ['서울', '부산', '인천', '대구'] )\n",
    "df"
   ]
  },
  {
   "cell_type": "code",
   "execution_count": 4,
   "metadata": {},
   "outputs": [
    {
     "data": {
      "text/html": [
       "<div>\n",
       "<style scoped>\n",
       "    .dataframe tbody tr th:only-of-type {\n",
       "        vertical-align: middle;\n",
       "    }\n",
       "\n",
       "    .dataframe tbody tr th {\n",
       "        vertical-align: top;\n",
       "    }\n",
       "\n",
       "    .dataframe thead th {\n",
       "        text-align: right;\n",
       "    }\n",
       "</style>\n",
       "<table border=\"1\" class=\"dataframe\">\n",
       "  <thead>\n",
       "    <tr style=\"text-align: right;\">\n",
       "      <th></th>\n",
       "      <th>지역</th>\n",
       "      <th>2018</th>\n",
       "      <th>2017</th>\n",
       "      <th>2016</th>\n",
       "      <th>2015</th>\n",
       "      <th>2015-2018 증가율</th>\n",
       "    </tr>\n",
       "  </thead>\n",
       "  <tbody>\n",
       "    <tr>\n",
       "      <td>서울</td>\n",
       "      <td>수도권</td>\n",
       "      <td>9904312</td>\n",
       "      <td>9631482</td>\n",
       "      <td>9762546</td>\n",
       "      <td>9853972</td>\n",
       "      <td>2.83</td>\n",
       "    </tr>\n",
       "    <tr>\n",
       "      <td>부산</td>\n",
       "      <td>경상권</td>\n",
       "      <td>3448737</td>\n",
       "      <td>3393191</td>\n",
       "      <td>3512547</td>\n",
       "      <td>3655437</td>\n",
       "      <td>1.63</td>\n",
       "    </tr>\n",
       "    <tr>\n",
       "      <td>인천</td>\n",
       "      <td>수도권</td>\n",
       "      <td>2890451</td>\n",
       "      <td>2632035</td>\n",
       "      <td>2517680</td>\n",
       "      <td>2466338</td>\n",
       "      <td>9.82</td>\n",
       "    </tr>\n",
       "    <tr>\n",
       "      <td>대구</td>\n",
       "      <td>경상권</td>\n",
       "      <td>2466052</td>\n",
       "      <td>2431774</td>\n",
       "      <td>2456016</td>\n",
       "      <td>2473990</td>\n",
       "      <td>1.41</td>\n",
       "    </tr>\n",
       "  </tbody>\n",
       "</table>\n",
       "</div>"
      ],
      "text/plain": [
       "     지역     2018     2017     2016     2015  2015-2018 증가율\n",
       "서울  수도권  9904312  9631482  9762546  9853972           2.83\n",
       "부산  경상권  3448737  3393191  3512547  3655437           1.63\n",
       "인천  수도권  2890451  2632035  2517680  2466338           9.82\n",
       "대구  경상권  2466052  2431774  2456016  2473990           1.41"
      ]
     },
     "execution_count": 4,
     "metadata": {},
     "output_type": "execute_result"
    }
   ],
   "source": [
    "# 문제 : '2015-2018 증가율' 을 %로 변경하시오\n",
    "df['2015-2018 증가율'] = df['2015-2018 증가율'] * 100\n",
    "df"
   ]
  },
  {
   "cell_type": "code",
   "execution_count": 5,
   "metadata": {},
   "outputs": [
    {
     "data": {
      "text/html": [
       "<div>\n",
       "<style scoped>\n",
       "    .dataframe tbody tr th:only-of-type {\n",
       "        vertical-align: middle;\n",
       "    }\n",
       "\n",
       "    .dataframe tbody tr th {\n",
       "        vertical-align: top;\n",
       "    }\n",
       "\n",
       "    .dataframe thead th {\n",
       "        text-align: right;\n",
       "    }\n",
       "</style>\n",
       "<table border=\"1\" class=\"dataframe\">\n",
       "  <thead>\n",
       "    <tr style=\"text-align: right;\">\n",
       "      <th></th>\n",
       "      <th>지역</th>\n",
       "      <th>2018</th>\n",
       "      <th>2017</th>\n",
       "      <th>2016</th>\n",
       "      <th>2015</th>\n",
       "      <th>2015-2018 증가율</th>\n",
       "      <th>2015-2017 증가율</th>\n",
       "    </tr>\n",
       "  </thead>\n",
       "  <tbody>\n",
       "    <tr>\n",
       "      <td>서울</td>\n",
       "      <td>수도권</td>\n",
       "      <td>9904312</td>\n",
       "      <td>9631482</td>\n",
       "      <td>9762546</td>\n",
       "      <td>9853972</td>\n",
       "      <td>2.83</td>\n",
       "      <td>-0.022579</td>\n",
       "    </tr>\n",
       "    <tr>\n",
       "      <td>부산</td>\n",
       "      <td>경상권</td>\n",
       "      <td>3448737</td>\n",
       "      <td>3393191</td>\n",
       "      <td>3512547</td>\n",
       "      <td>3655437</td>\n",
       "      <td>1.63</td>\n",
       "      <td>-0.071741</td>\n",
       "    </tr>\n",
       "    <tr>\n",
       "      <td>인천</td>\n",
       "      <td>수도권</td>\n",
       "      <td>2890451</td>\n",
       "      <td>2632035</td>\n",
       "      <td>2517680</td>\n",
       "      <td>2466338</td>\n",
       "      <td>9.82</td>\n",
       "      <td>0.067183</td>\n",
       "    </tr>\n",
       "    <tr>\n",
       "      <td>대구</td>\n",
       "      <td>경상권</td>\n",
       "      <td>2466052</td>\n",
       "      <td>2431774</td>\n",
       "      <td>2456016</td>\n",
       "      <td>2473990</td>\n",
       "      <td>1.41</td>\n",
       "      <td>-0.017064</td>\n",
       "    </tr>\n",
       "  </tbody>\n",
       "</table>\n",
       "</div>"
      ],
      "text/plain": [
       "     지역     2018     2017     2016     2015  2015-2018 증가율  2015-2017 증가율\n",
       "서울  수도권  9904312  9631482  9762546  9853972           2.83      -0.022579\n",
       "부산  경상권  3448737  3393191  3512547  3655437           1.63      -0.071741\n",
       "인천  수도권  2890451  2632035  2517680  2466338           9.82       0.067183\n",
       "대구  경상권  2466052  2431774  2456016  2473990           1.41      -0.017064"
      ]
     },
     "execution_count": 5,
     "metadata": {},
     "output_type": "execute_result"
    }
   ],
   "source": [
    "# 문제 : 2015 - 2017의 증가율을 구해서 변수를 추가하시오\n",
    "# (열이름 : \"2015 - 2018 증가율\")\n",
    "df['2015-2017 증가율'] = (df['2017']- df['2015']) / df['2015']\n",
    "df"
   ]
  }
 ],
 "metadata": {
  "kernelspec": {
   "display_name": "Python 3",
   "language": "python",
   "name": "python3"
  },
  "language_info": {
   "codemirror_mode": {
    "name": "ipython",
    "version": 3
   },
   "file_extension": ".py",
   "mimetype": "text/x-python",
   "name": "python",
   "nbconvert_exporter": "python",
   "pygments_lexer": "ipython3",
   "version": "3.7.4"
  }
 },
 "nbformat": 4,
 "nbformat_minor": 2
}
