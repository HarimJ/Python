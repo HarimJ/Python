{
 "cells": [
  {
   "cell_type": "code",
   "execution_count": 1,
   "metadata": {
    "colab": {
     "base_uri": "https://localhost:8080/",
     "height": 35
    },
    "colab_type": "code",
    "id": "rA8CBvu7VTUZ",
    "outputId": "2ae8fb90-c6e7-4439-f931-fb32b73c0f67"
   },
   "outputs": [],
   "source": [
    "# colab에서 이 코드로 버전 바꿔가면서 사용할수 있는것\n",
    "\n",
    "try:\n",
    "  # %tensorflow_version only exists in Colab.\n",
    "  %tensorflow_version 2.x\n",
    "except Exception:\n",
    "  pass\n",
    "import tensorflow as tf"
   ]
  },
  {
   "cell_type": "code",
   "execution_count": 2,
   "metadata": {
    "colab": {},
    "colab_type": "code",
    "id": "C2saaSpvyzaA"
   },
   "outputs": [],
   "source": [
    "import numpy as np\n",
    "import tensorflow as tf"
   ]
  },
  {
   "cell_type": "code",
   "execution_count": 3,
   "metadata": {
    "colab": {
     "base_uri": "https://localhost:8080/",
     "height": 35
    },
    "colab_type": "code",
    "id": "ZzJO-3IsyzaC",
    "outputId": "ffeed1f6-2250-4496-dc38-6bf77820590a"
   },
   "outputs": [
    {
     "name": "stdout",
     "output_type": "stream",
     "text": [
      "2.0.0\n"
     ]
    }
   ],
   "source": [
    "print (tf.__version__)"
   ]
  },
  {
   "cell_type": "code",
   "execution_count": 4,
   "metadata": {
    "colab": {
     "base_uri": "https://localhost:8080/",
     "height": 35
    },
    "colab_type": "code",
    "id": "lL6BQmBF2rym",
    "outputId": "0c8d9f97-440f-438d-fc02-cfe4aea7554e"
   },
   "outputs": [
    {
     "data": {
      "text/plain": [
       "True"
      ]
     },
     "execution_count": 4,
     "metadata": {},
     "output_type": "execute_result"
    }
   ],
   "source": [
    "tf.executing_eagerly()"
   ]
  },
  {
   "cell_type": "markdown",
   "metadata": {
    "colab_type": "text",
    "id": "Xow12zZgyzaE"
   },
   "source": [
    "## Defining Tensors"
   ]
  },
  {
   "cell_type": "code",
   "execution_count": 5,
   "metadata": {
    "colab": {},
    "colab_type": "code",
    "id": "naQ5OGBuyzaE"
   },
   "outputs": [],
   "source": [
    "m1 = [[1.0, 2.0], \n",
    "      [3.0, 4.0]]\n",
    "m2 = np.array([[1.0, 2.0],\n",
    "              [3.0, 4.0]], dtype=np.float32)\n",
    "m3 = tf.constant([[1.0, 2.0],\n",
    "                 [3.0, 4.0]])"
   ]
  },
  {
   "cell_type": "code",
   "execution_count": 6,
   "metadata": {
    "colab": {
     "base_uri": "https://localhost:8080/",
     "height": 73
    },
    "colab_type": "code",
    "id": "7TWZmsTLyzaG",
    "outputId": "5ff3550d-8c84-4838-ca38-b3d4f70148f9"
   },
   "outputs": [
    {
     "name": "stdout",
     "output_type": "stream",
     "text": [
      "<class 'list'>\n",
      "<class 'numpy.ndarray'>\n",
      "<class 'tensorflow.python.framework.ops.EagerTensor'>\n"
     ]
    }
   ],
   "source": [
    "print(type(m1))\n",
    "print(type(m2))\n",
    "print(type(m3))"
   ]
  },
  {
   "cell_type": "code",
   "execution_count": 7,
   "metadata": {
    "colab": {},
    "colab_type": "code",
    "id": "42nKive3yzaH"
   },
   "outputs": [],
   "source": [
    "t1 = tf.convert_to_tensor(m1, dtype=tf.float32)\n",
    "t2 = tf.convert_to_tensor(m2, dtype=tf.float32)\n",
    "t3 = tf.convert_to_tensor(m3, dtype=tf.float32)"
   ]
  },
  {
   "cell_type": "code",
   "execution_count": 8,
   "metadata": {
    "colab": {
     "base_uri": "https://localhost:8080/",
     "height": 73
    },
    "colab_type": "code",
    "id": "o4WISlbbyzaJ",
    "outputId": "819c86e8-24f0-4307-9113-7569a952d077"
   },
   "outputs": [
    {
     "name": "stdout",
     "output_type": "stream",
     "text": [
      "<class 'tensorflow.python.framework.ops.EagerTensor'>\n",
      "<class 'tensorflow.python.framework.ops.EagerTensor'>\n",
      "<class 'tensorflow.python.framework.ops.EagerTensor'>\n"
     ]
    }
   ],
   "source": [
    "print(type(t1))\n",
    "print(type(t2))\n",
    "print(type(t3))"
   ]
  },
  {
   "cell_type": "markdown",
   "metadata": {
    "colab_type": "text",
    "id": "m_BM8Swh569z"
   },
   "source": []
  },
  {
   "cell_type": "code",
   "execution_count": 9,
   "metadata": {
    "colab": {
     "base_uri": "https://localhost:8080/",
     "height": 73
    },
    "colab_type": "code",
    "id": "zBzDUDPm57lV",
    "outputId": "7cdbcb9e-7945-4b5f-983c-254da1e3894f"
   },
   "outputs": [
    {
     "name": "stdout",
     "output_type": "stream",
     "text": [
      "tf.Tensor(\n",
      "[[1. 2.]\n",
      " [3. 4.]], shape=(2, 2), dtype=float32)\n"
     ]
    }
   ],
   "source": [
    "print(t1)"
   ]
  },
  {
   "cell_type": "markdown",
   "metadata": {
    "colab_type": "text",
    "id": "hqzI1h7p3nbz"
   },
   "source": [
    "## Numpy Compatibility"
   ]
  },
  {
   "cell_type": "code",
   "execution_count": 10,
   "metadata": {
    "colab": {
     "base_uri": "https://localhost:8080/",
     "height": 318
    },
    "colab_type": "code",
    "id": "vt-JnM9U3mnc",
    "outputId": "72a39d27-0414-4034-d205-54bc2a490ede"
   },
   "outputs": [
    {
     "name": "stdout",
     "output_type": "stream",
     "text": [
      "TensorFlow operations convert numpy arrays to Tensors automatically\n",
      "tf.Tensor(\n",
      "[[42. 42. 42.]\n",
      " [42. 42. 42.]\n",
      " [42. 42. 42.]], shape=(3, 3), dtype=float64)\n",
      "And NumPy operations convert Tensors to numpy arrays automatically\n",
      "[[43. 43. 43.]\n",
      " [43. 43. 43.]\n",
      " [43. 43. 43.]]\n",
      "The .numpy() method explicitly converts a Tensor to a numpy array\n",
      "[[42. 42. 42.]\n",
      " [42. 42. 42.]\n",
      " [42. 42. 42.]]\n"
     ]
    },
    {
     "data": {
      "text/plain": [
       "array([[1., 1., 1.],\n",
       "       [1., 1., 1.],\n",
       "       [1., 1., 1.]])"
      ]
     },
     "execution_count": 10,
     "metadata": {},
     "output_type": "execute_result"
    }
   ],
   "source": [
    "ndarray = np.ones([3, 3])\n",
    "\n",
    "print(\"TensorFlow operations convert numpy arrays to Tensors automatically\")\n",
    "tensor = tf.multiply(ndarray, 42)\n",
    "print(tensor)\n",
    "\n",
    "\n",
    "print(\"And NumPy operations convert Tensors to numpy arrays automatically\")\n",
    "print(np.add(tensor, 1))\n",
    "\n",
    "print(\"The .numpy() method explicitly converts a Tensor to a numpy array\")\n",
    "print(tensor.numpy())\n",
    "ndarray"
   ]
  },
  {
   "cell_type": "markdown",
   "metadata": {
    "colab_type": "text",
    "id": "QsfRucolyzaP"
   },
   "source": [
    "## Constants"
   ]
  },
  {
   "cell_type": "code",
   "execution_count": 11,
   "metadata": {
    "colab": {
     "base_uri": "https://localhost:8080/",
     "height": 35
    },
    "colab_type": "code",
    "id": "Z4SlWvgUyzaP",
    "outputId": "80d96b26-2580-4975-b152-3aa83d6db017"
   },
   "outputs": [
    {
     "name": "stdout",
     "output_type": "stream",
     "text": [
      "tf.Tensor(b'Hello World!', shape=(), dtype=string)\n"
     ]
    }
   ],
   "source": [
    "hello = tf.constant(\"Hello World!\")\n",
    "print(hello)"
   ]
  },
  {
   "cell_type": "code",
   "execution_count": 12,
   "metadata": {
    "colab": {
     "base_uri": "https://localhost:8080/",
     "height": 54
    },
    "colab_type": "code",
    "id": "d2CkpJfXyzaU",
    "outputId": "c0822f0f-dc13-457a-9c42-8d81b06785ce"
   },
   "outputs": [
    {
     "name": "stdout",
     "output_type": "stream",
     "text": [
      "1.5\n",
      "tf.Tensor(2.5, shape=(), dtype=float32)\n"
     ]
    }
   ],
   "source": [
    "a = tf.constant(1.5)\n",
    "b = tf.constant(2.5)\n",
    "print(a.numpy())  # numpy를 붙이면 숫자만 나오고\n",
    "print(b)    # 그냥 출력시키면 정보와 같이 나온다"
   ]
  },
  {
   "cell_type": "markdown",
   "metadata": {
    "colab_type": "text",
    "id": "8p-9WIcjyzaX"
   },
   "source": [
    "## Operations\n"
   ]
  },
  {
   "cell_type": "code",
   "execution_count": 13,
   "metadata": {
    "colab": {
     "base_uri": "https://localhost:8080/",
     "height": 35
    },
    "colab_type": "code",
    "id": "1vSgQmhHyzaY",
    "outputId": "5a3bf525-415f-485c-86c1-9b06a433c768"
   },
   "outputs": [
    {
     "name": "stdout",
     "output_type": "stream",
     "text": [
      "tf.Tensor(4.0, shape=(), dtype=float32)\n"
     ]
    }
   ],
   "source": [
    "a_plus_b = tf.add(a, b)\n",
    "print(a_plus_b)"
   ]
  },
  {
   "cell_type": "code",
   "execution_count": 14,
   "metadata": {
    "colab": {
     "base_uri": "https://localhost:8080/",
     "height": 35
    },
    "colab_type": "code",
    "id": "7VnPHySzyzac",
    "outputId": "566124fd-cc4a-4b27-8a8d-1662a77c5ebb"
   },
   "outputs": [
    {
     "name": "stdout",
     "output_type": "stream",
     "text": [
      "tf.Tensor(3.75, shape=(), dtype=float32)\n"
     ]
    }
   ],
   "source": [
    "a_mul_b = tf.multiply(a, b)\n",
    "print(a_mul_b)"
   ]
  },
  {
   "cell_type": "markdown",
   "metadata": {
    "colab_type": "text",
    "id": "mAq50wFvzkj_"
   },
   "source": [
    "## Variables"
   ]
  },
  {
   "cell_type": "code",
   "execution_count": 15,
   "metadata": {
    "colab": {
     "base_uri": "https://localhost:8080/",
     "height": 130
    },
    "colab_type": "code",
    "id": "QkvusA5vzkj9",
    "outputId": "2cb62620-9392-4720-c5c2-6b4b74f9e96f"
   },
   "outputs": [
    {
     "name": "stdout",
     "output_type": "stream",
     "text": [
      "<tf.Variable 'Variable:0' shape=(5, 2) dtype=float32, numpy=\n",
      "array([[ 0.00062101, -0.1820244 ],\n",
      "       [-0.10126316,  0.08947258],\n",
      "       [-0.12483281, -0.03198363],\n",
      "       [ 0.08153451, -0.08219332],\n",
      "       [-0.08862903, -0.09852479]], dtype=float32)>\n"
     ]
    }
   ],
   "source": [
    "weight = tf.Variable(tf.random_normal_initializer(stddev=0.1)([5, 2]))\n",
    "print(weight)\n",
    "\n",
    "# placeholder에 따로 넣지 않고, initializer도 따로 안해줘도 됨"
   ]
  },
  {
   "cell_type": "markdown",
   "metadata": {
    "colab_type": "text",
    "id": "5EQcz9OM34VC"
   },
   "source": [
    "## Create a Dataset"
   ]
  },
  {
   "cell_type": "code",
   "execution_count": 16,
   "metadata": {
    "colab": {
     "base_uri": "https://localhost:8080/",
     "height": 35
    },
    "colab_type": "code",
    "id": "4LhNqxUj34wZ",
    "outputId": "e6fb35d4-526c-4712-99e3-0e0ec7453a20"
   },
   "outputs": [
    {
     "name": "stdout",
     "output_type": "stream",
     "text": [
      "[0 1 2 3 4 5 6 7 8 9]\n"
     ]
    }
   ],
   "source": [
    "a = np.arange(10)\n",
    "print(a)\n",
    "ds_tensors = tf.data.Dataset.from_tensor_slices(a)"
   ]
  },
  {
   "cell_type": "markdown",
   "metadata": {
    "colab_type": "text",
    "id": "TIAhx5Qa4A_S"
   },
   "source": [
    "## Apply Transformations"
   ]
  },
  {
   "cell_type": "code",
   "execution_count": 17,
   "metadata": {
    "colab": {},
    "colab_type": "code",
    "id": "DsB2bHVb34_b"
   },
   "outputs": [],
   "source": [
    "ds_tensors = ds_tensors.map(tf.square).shuffle(20).batch(2)\n",
    "\n",
    "# (square)의 자리에는 인자의 수를 맞추어 넣어야 한다.\n",
    "# 예를 들어 a안에 인자는 10개. 그 열개를 맞춰야 한다.\n",
    "# preprocessing 할때 많이 사용된다. "
   ]
  },
  {
   "cell_type": "markdown",
   "metadata": {
    "colab_type": "text",
    "id": "gt4rGl-d4Uby"
   },
   "source": [
    "## Iterate"
   ]
  },
  {
   "cell_type": "code",
   "execution_count": 19,
   "metadata": {
    "colab": {
     "base_uri": "https://localhost:8080/",
     "height": 318
    },
    "colab_type": "code",
    "id": "yPmUEpoG4Tf8",
    "outputId": "0b1a6f2c-25cc-4efa-cc9f-aeff753bbc96"
   },
   "outputs": [
    {
     "name": "stdout",
     "output_type": "stream",
     "text": [
      "Elements of ds_tensors:\n",
      "tf.Tensor([4 0], shape=(2,), dtype=int32)\n",
      "tf.Tensor([49 25], shape=(2,), dtype=int32)\n",
      "tf.Tensor([9 1], shape=(2,), dtype=int32)\n",
      "tf.Tensor([64 49], shape=(2,), dtype=int32)\n",
      "tf.Tensor([25  0], shape=(2,), dtype=int32)\n",
      "tf.Tensor([4 9], shape=(2,), dtype=int32)\n"
     ]
    }
   ],
   "source": [
    "print('Elements of ds_tensors:')\n",
    "for _ in range(3):  # 밖은 epoch  (전체데이터 돌아가기)\n",
    "  for x in ds_tensors.take(2):   # 안은 batch   # take : 2번만 가져와라\n",
    "    print(x)"
   ]
  },
  {
   "cell_type": "code",
   "execution_count": 0,
   "metadata": {
    "colab": {},
    "colab_type": "code",
    "id": "Psv7hnHz4YUn"
   },
   "outputs": [],
   "source": []
  }
 ],
 "metadata": {
  "accelerator": "GPU",
  "colab": {
   "collapsed_sections": [],
   "name": "1_2.TensorFlow_Basics_2.0.ipynb의 사본",
   "provenance": []
  },
  "kernelspec": {
   "display_name": "Python 3",
   "language": "python",
   "name": "python3"
  },
  "language_info": {
   "codemirror_mode": {
    "name": "ipython",
    "version": 3
   },
   "file_extension": ".py",
   "mimetype": "text/x-python",
   "name": "python",
   "nbconvert_exporter": "python",
   "pygments_lexer": "ipython3",
   "version": "3.7.4"
  },
  "toc": {
   "base_numbering": 1,
   "nav_menu": {},
   "number_sections": true,
   "sideBar": true,
   "skip_h1_title": false,
   "title_cell": "Table of Contents",
   "title_sidebar": "Contents",
   "toc_cell": false,
   "toc_position": {},
   "toc_section_display": true,
   "toc_window_display": false
  }
 },
 "nbformat": 4,
 "nbformat_minor": 1
}
