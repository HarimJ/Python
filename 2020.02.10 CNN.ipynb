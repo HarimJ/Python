{
 "cells": [
  {
   "cell_type": "markdown",
   "metadata": {},
   "source": [
    "# 2020.02.10  CNN"
   ]
  },
  {
   "cell_type": "code",
   "execution_count": null,
   "metadata": {},
   "outputs": [],
   "source": [
    "# CNN\n",
    "[cnn에서 중요한것은 망의 깊이 ]- 얼마나 깊게하는지 - 어떻게 깊게하는지 \n",
    "[cnn에서  중요한것은 이미지를 어떻게 늘릴것인지]\n",
    "\n",
    "\n",
    "[FILTER]\n",
    "- 필터사이즈가 크면 큰특징 작으면 작은특징\n",
    "    - 크게하면 손실이 크다 작게하면 deep하게 할 수 있따 \n",
    "        - 작게한 것 중 deep한것의 대표적인것은 VGG16,19\n",
    "        - identity 시키는 것_ 이전의 것을 고려 _ 깊게하더라도 살아남는다\n",
    "- 인셉션: 망을 깊게하기전에 수평으로한다 . \n",
    "\n",
    "[IMAGE]\n",
    "- image data generator:이미지 증강 \n",
    "    - 이미지 증강을 통해 이미지 구조문제 해결 : 이미지를 다양하게 변화\n",
    "        - pool , scale 등의 방법으로 \n",
    "        - 증강해논애들을 다시 save할 수 있따\n",
    "    - 파일로 많은 데이터를 저장해놨다가 읽어들이면서 fitting\n",
    " \n",
    "[MODEL]\n",
    "- 모델만들기 => compile => fit => evaluATE => PREDICT\n",
    "- 모델만드는 법 3 가지 :\n",
    "    - sequential \n",
    "    - functional : multi => multi\n",
    "        - 이미지가 특성이 다를떄?\n",
    "    - model:class 베이스로 모델을 구성하고 싶을때\n",
    "    \n",
    "- STATIC MODE:모델만들고 실행해야 결과알수있음:\n",
    "    - 속도가 아주빠르다\n",
    "- DIRECT MODE\n",
    "    - 효율성이 높다 \n",
    "    \n",
    "    \n",
    "    \n",
    "#현재 effcient net 에서 transfer learning으로 대세가 바뀌고 있따\n",
    "\n",
    "\n",
    "#http://incredible.ai/artificial-intelligence/2017/05/13/Transfer-Learning/\n",
    "- application : transfer learning: \n",
    "    - 기존의 만들어진 모델을 사용하여 새로운 모델을 만들시 학습을 빠르게 하며,\n",
    "      예측을 더 높이는 방법입니다.\n",
    "    - a를 b에 맵핑해준다?\n",
    "    - 데이터 부족문제 해결\n",
    "    ↓↓↓↓↓↓↓↓↓↓↓↓↓\n",
    "    얘랑 의미가 비슷하다\n",
    "    cf)준지도학습: 라벨이 있는애와 없는애가 있따 : 라벨이 있는애를 기반으로 없는애한테 라벨을 달아준다 \n",
    "    - vert에도 적용 : pre training을 이용해 목적에 맞게 fine tuning한다 \n",
    "    \n",
    "- global average(maximum) pooling : \n",
    "    - covolution 연산이 끝난 후 flatten 해줄때 이미지의 특성을 잃지않게하는것?\n",
    "\n",
    "    \n",
    "- efficient net: 이미지를 잘처리하는 방법 : 동영상 처리에 부적합\n",
    "    - 1 filter의 사이즈 \n",
    "    - 2 depth:layer의 깊이\n",
    "    - 3 원본의 resolution: 원본의 해상도를 어떻게하느냐\n",
    "    \n",
    "    "
   ]
  },
  {
   "cell_type": "code",
   "execution_count": 2,
   "metadata": {},
   "outputs": [
    {
     "name": "stderr",
     "output_type": "stream",
     "text": [
      "Using TensorFlow backend.\n",
      "C:\\Users\\ICT01_09\\Anaconda3\\envs\\tf_test\\lib\\site-packages\\tensorflow\\python\\framework\\dtypes.py:516: FutureWarning: Passing (type, 1) or '1type' as a synonym of type is deprecated; in a future version of numpy, it will be understood as (type, (1,)) / '(1,)type'.\n",
      "  _np_qint8 = np.dtype([(\"qint8\", np.int8, 1)])\n",
      "C:\\Users\\ICT01_09\\Anaconda3\\envs\\tf_test\\lib\\site-packages\\tensorflow\\python\\framework\\dtypes.py:517: FutureWarning: Passing (type, 1) or '1type' as a synonym of type is deprecated; in a future version of numpy, it will be understood as (type, (1,)) / '(1,)type'.\n",
      "  _np_quint8 = np.dtype([(\"quint8\", np.uint8, 1)])\n",
      "C:\\Users\\ICT01_09\\Anaconda3\\envs\\tf_test\\lib\\site-packages\\tensorflow\\python\\framework\\dtypes.py:518: FutureWarning: Passing (type, 1) or '1type' as a synonym of type is deprecated; in a future version of numpy, it will be understood as (type, (1,)) / '(1,)type'.\n",
      "  _np_qint16 = np.dtype([(\"qint16\", np.int16, 1)])\n",
      "C:\\Users\\ICT01_09\\Anaconda3\\envs\\tf_test\\lib\\site-packages\\tensorflow\\python\\framework\\dtypes.py:519: FutureWarning: Passing (type, 1) or '1type' as a synonym of type is deprecated; in a future version of numpy, it will be understood as (type, (1,)) / '(1,)type'.\n",
      "  _np_quint16 = np.dtype([(\"quint16\", np.uint16, 1)])\n",
      "C:\\Users\\ICT01_09\\Anaconda3\\envs\\tf_test\\lib\\site-packages\\tensorflow\\python\\framework\\dtypes.py:520: FutureWarning: Passing (type, 1) or '1type' as a synonym of type is deprecated; in a future version of numpy, it will be understood as (type, (1,)) / '(1,)type'.\n",
      "  _np_qint32 = np.dtype([(\"qint32\", np.int32, 1)])\n",
      "C:\\Users\\ICT01_09\\Anaconda3\\envs\\tf_test\\lib\\site-packages\\tensorflow\\python\\framework\\dtypes.py:525: FutureWarning: Passing (type, 1) or '1type' as a synonym of type is deprecated; in a future version of numpy, it will be understood as (type, (1,)) / '(1,)type'.\n",
      "  np_resource = np.dtype([(\"resource\", np.ubyte, 1)])\n",
      "C:\\Users\\ICT01_09\\Anaconda3\\envs\\tf_test\\lib\\site-packages\\tensorboard\\compat\\tensorflow_stub\\dtypes.py:541: FutureWarning: Passing (type, 1) or '1type' as a synonym of type is deprecated; in a future version of numpy, it will be understood as (type, (1,)) / '(1,)type'.\n",
      "  _np_qint8 = np.dtype([(\"qint8\", np.int8, 1)])\n",
      "C:\\Users\\ICT01_09\\Anaconda3\\envs\\tf_test\\lib\\site-packages\\tensorboard\\compat\\tensorflow_stub\\dtypes.py:542: FutureWarning: Passing (type, 1) or '1type' as a synonym of type is deprecated; in a future version of numpy, it will be understood as (type, (1,)) / '(1,)type'.\n",
      "  _np_quint8 = np.dtype([(\"quint8\", np.uint8, 1)])\n",
      "C:\\Users\\ICT01_09\\Anaconda3\\envs\\tf_test\\lib\\site-packages\\tensorboard\\compat\\tensorflow_stub\\dtypes.py:543: FutureWarning: Passing (type, 1) or '1type' as a synonym of type is deprecated; in a future version of numpy, it will be understood as (type, (1,)) / '(1,)type'.\n",
      "  _np_qint16 = np.dtype([(\"qint16\", np.int16, 1)])\n",
      "C:\\Users\\ICT01_09\\Anaconda3\\envs\\tf_test\\lib\\site-packages\\tensorboard\\compat\\tensorflow_stub\\dtypes.py:544: FutureWarning: Passing (type, 1) or '1type' as a synonym of type is deprecated; in a future version of numpy, it will be understood as (type, (1,)) / '(1,)type'.\n",
      "  _np_quint16 = np.dtype([(\"quint16\", np.uint16, 1)])\n",
      "C:\\Users\\ICT01_09\\Anaconda3\\envs\\tf_test\\lib\\site-packages\\tensorboard\\compat\\tensorflow_stub\\dtypes.py:545: FutureWarning: Passing (type, 1) or '1type' as a synonym of type is deprecated; in a future version of numpy, it will be understood as (type, (1,)) / '(1,)type'.\n",
      "  _np_qint32 = np.dtype([(\"qint32\", np.int32, 1)])\n",
      "C:\\Users\\ICT01_09\\Anaconda3\\envs\\tf_test\\lib\\site-packages\\tensorboard\\compat\\tensorflow_stub\\dtypes.py:550: FutureWarning: Passing (type, 1) or '1type' as a synonym of type is deprecated; in a future version of numpy, it will be understood as (type, (1,)) / '(1,)type'.\n",
      "  np_resource = np.dtype([(\"resource\", np.ubyte, 1)])\n"
     ]
    }
   ],
   "source": [
    "import keras\n",
    "from keras.datasets import mnist\n",
    "from keras.models import Sequential\n",
    "from keras.layers import Dense, Dropout, Flatten\n",
    "from keras.layers import Conv2D, MaxPooling2D\n",
    "from keras import backend as K\n",
    "\n",
    "batch_size = 128\n",
    "num_classes = 10\n",
    "epochs = 12\n",
    "img_rows, img_cols = 28, 28\n",
    "(x_train, y_train), (x_test, y_test) = mnist.load_data()"
   ]
  },
  {
   "cell_type": "code",
   "execution_count": 21,
   "metadata": {},
   "outputs": [
    {
     "name": "stdout",
     "output_type": "stream",
     "text": [
      "x_train shape:  (60000, 28, 28, 1)\n",
      "60000 train samples\n",
      "10000 test samples\n"
     ]
    }
   ],
   "source": [
    "# channel_first, channel_last\n",
    "\n",
    "# x_train = x_train.reshape(x_train.shape[0],1, 28,28,)   <- channel first\n",
    "# x_test = x_test.reshape(x_test.shape[0], 1,  28,28)\n",
    "\n",
    "x_train = x_train.reshape(x_train.shape[0], 28,28,1 )    # <- channel last\n",
    "x_test = x_test.reshape(x_test.shape[0],  28,28, 1)\n",
    "\n",
    "x_train = x_train.astype('float32')\n",
    "x_test = x_test.astype('float32')\n",
    "x_train /= 255\n",
    "x_test /= 255\n",
    "\n",
    "print('x_train shape: ', x_train.shape)\n",
    "print(x_train.shape[0], 'train samples')   #\n",
    "print(x_test.shape[0], 'test samples')    # \n",
    "\n",
    "y_train = keras.utils.to_categorical(y_train, num_classes)\n",
    "y_test = keras.utils.to_categorical(y_test, num_classes)"
   ]
  },
  {
   "cell_type": "code",
   "execution_count": 22,
   "metadata": {},
   "outputs": [
    {
     "name": "stderr",
     "output_type": "stream",
     "text": [
      "C:\\Users\\ICT01_09\\Anaconda3\\envs\\tf_test\\lib\\site-packages\\ipykernel_launcher.py:6: UserWarning: Update your `Conv2D` call to the Keras 2 API: `Conv2D(32, (3, 3), activation=\"relu\", input_shape=(28, 28, 1...)`\n",
      "  \n",
      "C:\\Users\\ICT01_09\\Anaconda3\\envs\\tf_test\\lib\\site-packages\\ipykernel_launcher.py:9: UserWarning: Update your `Conv2D` call to the Keras 2 API: `Conv2D(64, (3, 3), activation=\"relu\")`\n",
      "  if __name__ == '__main__':\n"
     ]
    }
   ],
   "source": [
    "model = Sequential()\n",
    "\n",
    "# 아웃풋 필터 개수(32), 필터 사이즈(3x3)\n",
    "# 입력데이터 (28x28) , 나가는 데이터 (128(batch) x 26(28-3+1)x26(28-3+1)x 32(아웃풋 32))\n",
    "# valid(줄어드는것) <- 모서리 특징 노캐어, same(28x28) <- 모서리 특징이 산다\n",
    "model.add(Conv2D(32, 3,3, activation = 'relu', input_shape = (28,28,1)))  # channel이 뭐지에 따라 맞춰줘야한다(last를 써서 뒤에 1)\n",
    "\n",
    "# 128 x 24(26-3+1) x 24(26-3+1) x 64\n",
    "model.add(Conv2D(64, 3,3, activation = 'relu'))\n",
    "\n",
    "# 128,12,12,64\n",
    "model.add(MaxPooling2D(pool_size = (2,2)))\n",
    "\n",
    "model.add(Dropout(0.25))\n",
    "\n",
    "# 12,12,64 => 1차원 9216( 3수를 다 곱함)\n",
    "model.add(Flatten())\n",
    "\n",
    "# FFNN , FC(fully - connected)\n",
    "# dense (나가는 차수만 지정 : 128)\n",
    "model.add(Dense(128, activation = 'relu'))  # <- 가중치 :9216x128 \n",
    "# 128 x 128\n",
    "model.add(Dropout(0.5)) # 계산 회로만 생략 (차수는 그대로)\n",
    "\n",
    "model.add(Dense(10, activation = 'softmax')) # 128x10\n",
    "\n",
    "# 128x10"
   ]
  },
  {
   "cell_type": "code",
   "execution_count": 23,
   "metadata": {
    "scrolled": true
   },
   "outputs": [
    {
     "name": "stdout",
     "output_type": "stream",
     "text": [
      "Train on 60000 samples, validate on 10000 samples\n",
      "Epoch 1/12\n",
      "60000/60000 [==============================] - 56s 926us/step - loss: 0.2684 - accuracy: 0.9174 - val_loss: 0.0537 - val_accuracy: 0.9833\n",
      "Epoch 2/12\n",
      "60000/60000 [==============================] - 55s 909us/step - loss: 0.0866 - accuracy: 0.9742 - val_loss: 0.0499 - val_accuracy: 0.9846\n",
      "Epoch 3/12\n",
      "60000/60000 [==============================] - 54s 898us/step - loss: 0.0663 - accuracy: 0.9803 - val_loss: 0.0333 - val_accuracy: 0.9895\n",
      "Epoch 4/12\n",
      "60000/60000 [==============================] - 54s 897us/step - loss: 0.0521 - accuracy: 0.9842 - val_loss: 0.0330 - val_accuracy: 0.9890\n",
      "Epoch 5/12\n",
      "60000/60000 [==============================] - 54s 900us/step - loss: 0.0466 - accuracy: 0.9866 - val_loss: 0.0329 - val_accuracy: 0.9896\n",
      "Epoch 6/12\n",
      "60000/60000 [==============================] - 54s 900us/step - loss: 0.0412 - accuracy: 0.9877 - val_loss: 0.0282 - val_accuracy: 0.9911\n",
      "Epoch 7/12\n",
      "60000/60000 [==============================] - 54s 902us/step - loss: 0.0369 - accuracy: 0.9887 - val_loss: 0.0272 - val_accuracy: 0.9912\n",
      "Epoch 8/12\n",
      "60000/60000 [==============================] - 54s 898us/step - loss: 0.0336 - accuracy: 0.9896 - val_loss: 0.0270 - val_accuracy: 0.9912\n",
      "Epoch 9/12\n",
      "60000/60000 [==============================] - 54s 898us/step - loss: 0.0312 - accuracy: 0.9906 - val_loss: 0.0269 - val_accuracy: 0.9917\n",
      "Epoch 10/12\n",
      "60000/60000 [==============================] - 54s 898us/step - loss: 0.0306 - accuracy: 0.9901 - val_loss: 0.0331 - val_accuracy: 0.9905\n",
      "Epoch 11/12\n",
      "60000/60000 [==============================] - 54s 901us/step - loss: 0.0302 - accuracy: 0.9910 - val_loss: 0.0329 - val_accuracy: 0.9896\n",
      "Epoch 12/12\n",
      "60000/60000 [==============================] - 54s 898us/step - loss: 0.0263 - accuracy: 0.9920 - val_loss: 0.0261 - val_accuracy: 0.9917\n"
     ]
    }
   ],
   "source": [
    "model.compile(loss = keras.losses.categorical_crossentropy, \n",
    "              optimizer = keras.optimizers.Adadelta(), metrics = ['accuracy'])\n",
    "\n",
    "# train, test 만 하니까 test도 fitting 되는걸 방지하기 위해서\n",
    "# train, test, validation으로 나눠준다\n",
    "model.fit(x_train, y_train, batch_size = batch_size, epochs = epochs, verbose = 1, validation_data = (x_test, y_test))\n",
    "\n",
    "score = model.evaluate(x_test, y_test, verbose=0)\n"
   ]
  },
  {
   "cell_type": "code",
   "execution_count": 26,
   "metadata": {},
   "outputs": [
    {
     "name": "stdout",
     "output_type": "stream",
     "text": [
      "loss: \t 0.02610298545975238\n",
      "accuracy : \t 0.991599977016449\n"
     ]
    }
   ],
   "source": [
    "print('loss:', '\\t',score[0])  # loss\n",
    "print('accuracy :', '\\t',score[1])  # accuracy"
   ]
  },
  {
   "cell_type": "code",
   "execution_count": null,
   "metadata": {},
   "outputs": [],
   "source": []
  },
  {
   "cell_type": "code",
   "execution_count": null,
   "metadata": {},
   "outputs": [],
   "source": []
  },
  {
   "cell_type": "code",
   "execution_count": null,
   "metadata": {},
   "outputs": [],
   "source": []
  },
  {
   "cell_type": "markdown",
   "metadata": {},
   "source": [
    "# CNN"
   ]
  },
  {
   "cell_type": "code",
   "execution_count": 15,
   "metadata": {},
   "outputs": [],
   "source": [
    "%matplotlib inline\n",
    "import matplotlib.pyplot as plt\n",
    "\n",
    "import keras\n",
    "from keras.datasets import mnist\n",
    "from keras.models import Sequential\n",
    "from keras.layers import Dense, Dropout, Flatten\n",
    "from keras.layers import Conv2D, MaxPooling2D\n",
    "from keras import backend as K\n",
    "\n",
    "batch_size = 128\n",
    "num_classes = 10\n",
    "epochs = 12\n",
    "img_rows, img_cols = 28, 28\n",
    "\n",
    "(x_train, y_train), (x_test, y_test) = mnist.load_data()"
   ]
  },
  {
   "cell_type": "code",
   "execution_count": 40,
   "metadata": {},
   "outputs": [
    {
     "data": {
      "image/png": "[encoded data removed]",
      "text/plain": [
       "<Figure size 432x288 with 1 Axes>"
      ]
     },
     "metadata": {
      "needs_background": "light"
     },
     "output_type": "display_data"
    }
   ],
   "source": [
    "first_image = x_train[0, :, :]\n",
    "plt.imshow(first_image, cmap = plt.cm.Greys);"
   ]
  },
  {
   "cell_type": "code",
   "execution_count": 41,
   "metadata": {},
   "outputs": [
    {
     "name": "stdout",
     "output_type": "stream",
     "text": [
      "x_train shape:  (60000, 28, 28, 1)\n",
      "60000 train samples\n",
      "10000 test samples\n"
     ]
    },
    {
     "name": "stderr",
     "output_type": "stream",
     "text": [
      "C:\\Users\\ICT01_09\\Anaconda3\\lib\\site-packages\\ipykernel_launcher.py:22: UserWarning: Update your `Conv2D` call to the Keras 2 API: `Conv2D(32, (3, 3), activation=\"relu\", input_shape=(28, 28, 1...)`\n",
      "C:\\Users\\ICT01_09\\Anaconda3\\lib\\site-packages\\ipykernel_launcher.py:25: UserWarning: Update your `Conv2D` call to the Keras 2 API: `Conv2D(64, (3, 3), activation=\"relu\")`\n"
     ]
    }
   ],
   "source": [
    "x_train = x_train.reshape(x_train.shape[0], 28,28,1 )    # <- channel last\n",
    "x_test = x_test.reshape(x_test.shape[0],  28,28, 1)\n",
    "\n",
    "x_train = x_train.astype('float32')\n",
    "x_test = x_test.astype('float32')\n",
    "x_train /= 255\n",
    "x_test /= 255\n",
    "\n",
    "print('x_train shape: ', x_train.shape)\n",
    "print(x_train.shape[0], 'train samples')   #\n",
    "print(x_test.shape[0], 'test samples')    # \n",
    "\n",
    "y_train = keras.utils.to_categorical(y_train, num_classes)\n",
    "y_test = keras.utils.to_categorical(y_test, num_classes)\n",
    "\n",
    "\n",
    "model = Sequential()\n",
    "\n",
    "# 아웃풋 필터 개수(32), 필터 사이즈(3x3)\n",
    "# 입력데이터 (28x28) , 나가는 데이터 (128(batch) x 26(28-3+1)x26(28-3+1)x 32(아웃풋 32))\n",
    "# valid(줄어드는것) <- 모서리 특징 노캐어, same(28x28) <- 모서리 특징이 산다\n",
    "model.add(Conv2D(32, 3,3, activation = 'relu', input_shape = (28,28,1)))  # channel이 뭐지에 따라 맞춰줘야한다(last를 써서 뒤에 1)\n",
    "\n",
    "# 128 x 24(26-3+1) x 24(26-3+1) x 64\n",
    "model.add(Conv2D(64, 3,3, activation = 'relu'))\n",
    "\n",
    "# 128,12,12,64\n",
    "model.add(MaxPooling2D(pool_size = (2,2)))\n",
    "\n",
    "model.add(Dropout(0.25))\n",
    "\n",
    "# 12,12,64 => 1차원 9216( 3수를 다 곱함)\n",
    "model.add(Flatten())\n",
    "\n",
    "# FFNN , FC(fully - connected)\n",
    "# dense (나가는 차수만 지정 : 128)\n",
    "model.add(Dense(128, activation = 'relu'))  # <- 가중치 :9216x128 \n",
    "# 128 x 128\n",
    "model.add(Dropout(0.5)) # 계산 회로만 생략 (차수는 그대로)\n",
    "\n",
    "model.add(Dense(10, activation = 'softmax')) # 128x10\n",
    "\n",
    "\n",
    "model.compile(loss = keras.losses.categorical_crossentropy, \n",
    "              optimizer = keras.optimizers.Adadelta(), metrics = ['accuracy'])\n"
   ]
  },
  {
   "cell_type": "code",
   "execution_count": null,
   "metadata": {},
   "outputs": [],
   "source": [
    "# key 이름 확인하기\n",
    "model.history.history.keys()"
   ]
  },
  {
   "cell_type": "code",
   "execution_count": 46,
   "metadata": {
    "scrolled": true
   },
   "outputs": [
    {
     "name": "stdout",
     "output_type": "stream",
     "text": [
      "Train on 60000 samples, validate on 10000 samples\n",
      "Epoch 1/12\n",
      "60000/60000 [==============================] - 55s 919us/step - loss: 0.0254 - accuracy: 0.9921 - val_loss: 0.0263 - val_accuracy: 0.9918\n",
      "Epoch 2/12\n",
      "60000/60000 [==============================] - 55s 914us/step - loss: 0.0239 - accuracy: 0.9922 - val_loss: 0.0264 - val_accuracy: 0.9924\n",
      "Epoch 3/12\n",
      "60000/60000 [==============================] - 55s 918us/step - loss: 0.0232 - accuracy: 0.9926 - val_loss: 0.0309 - val_accuracy: 0.9899\n",
      "Epoch 4/12\n",
      "60000/60000 [==============================] - 56s 928us/step - loss: 0.0220 - accuracy: 0.9932 - val_loss: 0.0288 - val_accuracy: 0.9906\n",
      "Epoch 5/12\n",
      "60000/60000 [==============================] - 54s 906us/step - loss: 0.0220 - accuracy: 0.9932 - val_loss: 0.0254 - val_accuracy: 0.9918\n",
      "Epoch 6/12\n",
      "60000/60000 [==============================] - 54s 901us/step - loss: 0.0213 - accuracy: 0.9933 - val_loss: 0.0270 - val_accuracy: 0.9918\n",
      "Epoch 7/12\n",
      "60000/60000 [==============================] - 56s 932us/step - loss: 0.0206 - accuracy: 0.9933 - val_loss: 0.0284 - val_accuracy: 0.9920\n",
      "Epoch 8/12\n",
      "60000/60000 [==============================] - 55s 921us/step - loss: 0.0206 - accuracy: 0.9935 - val_loss: 0.0259 - val_accuracy: 0.9927\n",
      "Epoch 9/12\n",
      "60000/60000 [==============================] - 55s 916us/step - loss: 0.0184 - accuracy: 0.9944 - val_loss: 0.0285 - val_accuracy: 0.9922\n",
      "Epoch 10/12\n",
      "60000/60000 [==============================] - 55s 914us/step - loss: 0.0181 - accuracy: 0.9944 - val_loss: 0.0279 - val_accuracy: 0.9916\n",
      "Epoch 11/12\n",
      "60000/60000 [==============================] - 55s 913us/step - loss: 0.0205 - accuracy: 0.9940 - val_loss: 0.0268 - val_accuracy: 0.9905\n",
      "Epoch 12/12\n",
      "60000/60000 [==============================] - 55s 912us/step - loss: 0.0183 - accuracy: 0.9942 - val_loss: 0.0265 - val_accuracy: 0.9922\n"
     ]
    }
   ],
   "source": [
    "class AccuracyHistory(keras.callbacks.Callback):\n",
    "    # 오버라이딩 (재정의)\n",
    "    def on_train_begin(self, logs={}):  # 훈련시작시 이벤트\n",
    "        self.acc = []\n",
    "    def on_epoch_end(self, batch, logs={}):\n",
    "        self.acc.append(logs.get('accuracy'))\n",
    "        \n",
    "\n",
    "history = AccuracyHistory()\n",
    "history.on_train_begin()\n",
    "# train, test 만 하니까 test도 fitting 되는걸 방지하기 위해서\n",
    "# train, test, validation으로 나눠준다\n",
    "# epoch마다 accuracy를 저장 - 12번 저장된다\n",
    "model.fit(x_train, y_train, batch_size = batch_size, \n",
    "          epochs = epochs, verbose = 1, validation_data = (x_test, y_test), callbacks = [history])\n",
    "\n",
    "score = model.evaluate(x_test, y_test, verbose=0)\n"
   ]
  },
  {
   "cell_type": "code",
   "execution_count": 48,
   "metadata": {},
   "outputs": [
    {
     "name": "stdout",
     "output_type": "stream",
     "text": [
      "loss: \t 0.02646493338981254\n",
      "accuracy : \t 0.9922000169754028\n"
     ]
    },
    {
     "data": {
      "image/png": "[encoded data removed]",
      "text/plain": [
       "<Figure size 432x288 with 1 Axes>"
      ]
     },
     "metadata": {
      "needs_background": "light"
     },
     "output_type": "display_data"
    }
   ],
   "source": [
    "print('loss:', '\\t', score[0])  \n",
    "print('accuracy :', '\\t', score[1])  \n",
    "\n",
    "plt.plot(range(1, 13), history.acc)\n",
    "plt.xlabel('Epochs')\n",
    "plt.ylabel('Accuracy')\n",
    "plt.show()"
   ]
  },
  {
   "cell_type": "code",
   "execution_count": null,
   "metadata": {},
   "outputs": [],
   "source": []
  },
  {
   "cell_type": "code",
   "execution_count": null,
   "metadata": {},
   "outputs": [],
   "source": [
    "# CNN   ----- ?\n",
    "K.set_image_data_format('channels_first')  # channels_last"
   ]
  },
  {
   "cell_type": "code",
   "execution_count": 49,
   "metadata": {},
   "outputs": [],
   "source": []
  },
  {
   "cell_type": "code",
   "execution_count": 50,
   "metadata": {},
   "outputs": [
    {
     "name": "stdout",
     "output_type": "stream",
     "text": [
      "모델이 저장되었습니다.\n",
      "모델이 로딩되었습니다.\n",
      "Model: \"sequential_11\"\n",
      "_________________________________________________________________\n",
      "Layer (type)                 Output Shape              Param #   \n",
      "=================================================================\n",
      "conv2d_15 (Conv2D)           (None, 26, 26, 32)        320       \n",
      "_________________________________________________________________\n",
      "conv2d_16 (Conv2D)           (None, 24, 24, 64)        18496     \n",
      "_________________________________________________________________\n",
      "max_pooling2d_6 (MaxPooling2 (None, 12, 12, 64)        0         \n",
      "_________________________________________________________________\n",
      "dropout_11 (Dropout)         (None, 12, 12, 64)        0         \n",
      "_________________________________________________________________\n",
      "flatten_6 (Flatten)          (None, 9216)              0         \n",
      "_________________________________________________________________\n",
      "dense_11 (Dense)             (None, 128)               1179776   \n",
      "_________________________________________________________________\n",
      "dropout_12 (Dropout)         (None, 128)               0         \n",
      "_________________________________________________________________\n",
      "dense_12 (Dense)             (None, 10)                1290      \n",
      "=================================================================\n",
      "Total params: 1,199,882\n",
      "Trainable params: 1,199,882\n",
      "Non-trainable params: 0\n",
      "_________________________________________________________________\n"
     ]
    }
   ],
   "source": [
    "# HDFS(hadoop file system) : model 구조 전체 저장\n",
    "# 가중치, 구조, optimization state 등이 저장\n",
    "# jason으로 저장가능 : 가중치, 구조를 별도로 저장해야함 => web에서 tensorflow 가능해서\n",
    "# tensorflow.js import\n",
    "model.save(\"model_mnist.h5\")\n",
    "print(\"모델이 저장되었습니다.\")\n",
    "from keras.models import load_model\n",
    "\n",
    "model = load_model('model_mnist.h5')\n",
    "print(\"모델이 로딩되었습니다.\")\n",
    "model.summary()"
   ]
  },
  {
   "cell_type": "code",
   "execution_count": 52,
   "metadata": {},
   "outputs": [
    {
     "name": "stdout",
     "output_type": "stream",
     "text": [
      "conv2d_15\n",
      "(None, 28, 28, 1)\n",
      "<function relu at 0x00000203C7F4B1F8>\n",
      "(None, 26, 26, 32)\n"
     ]
    }
   ],
   "source": [
    "# layer 정보 확인\n",
    "l1 = model.layers[0]\n",
    "l2 = model.layers[1]\n",
    "\n",
    "print(l1.name)\n",
    "print(l1.input_shape)\n",
    "print(l1.activation)\n",
    "print(l1.output_shape)"
   ]
  },
  {
   "cell_type": "markdown",
   "metadata": {},
   "source": [
    "# ImageData Generator"
   ]
  },
  {
   "cell_type": "code",
   "execution_count": 65,
   "metadata": {
    "scrolled": true
   },
   "outputs": [
    {
     "data": {
      "image/png": "[encoded data removed]",
      "text/plain": [
       "<Figure size 432x288 with 9 Axes>"
      ]
     },
     "metadata": {
      "needs_background": "light"
     },
     "output_type": "display_data"
    }
   ],
   "source": [
    "from keras.datasets import mnist\n",
    "from keras.preprocessing.image import ImageDataGenerator\n",
    "from matplotlib import pyplot\n",
    "from keras import backend as K\n",
    "\n",
    "(X_train, y_train), (X_test, y_test) = mnist.load_data()\n",
    "X_train = X_train.reshape(X_train.shape[0], 28, 28,1)\n",
    "X_test = X_test.reshape(X_test.shape[0], 28, 28,1)\n",
    "X_train = X_train.astype('float32')\n",
    "X_test = X_test.astype('float32')\n",
    "\n",
    "# 이미지 조금씩 변화주기\n",
    "#1. 방법# datagen = ImageDataGenerator(horizontal_flip = True, vertical_flip = True)\n",
    "#2. 방법# datagen = ImageDataGenerator(width_shift = True, heigh_shift = True)   \n",
    "\n",
    "#3. 방법# 이미지 백색화 => noise 제거 (변수간 상관도를 없앰 : PCA)\n",
    "datagen = ImageDataGenerator(zca_whitening = True)\n",
    "\n",
    "datagen.fit(X_train)\n",
    "\n",
    "for X_batch, y_batch in datagen.flow(X_train, y_train, batch_size=9,\n",
    "                                     # augment\n",
    "                                     save_to_dir = 'images', save_prefix = 'aug', save_format = 'png'):\n",
    "    \n",
    "    for i in range(0,9):\n",
    "        pyplot.subplot(330 + 1 + i)\n",
    "        pyplot.imshow(X_batch[i].reshape(28, 28), cmap = pyplot.get_cmap('gray'))\n",
    "    \n",
    "    pyplot.show()\n",
    "    break"
   ]
  },
  {
   "cell_type": "code",
   "execution_count": null,
   "metadata": {},
   "outputs": [],
   "source": []
  },
  {
   "cell_type": "code",
   "execution_count": null,
   "metadata": {},
   "outputs": [],
   "source": []
  },
  {
   "cell_type": "code",
   "execution_count": null,
   "metadata": {},
   "outputs": [],
   "source": []
  },
  {
   "cell_type": "code",
   "execution_count": 43,
   "metadata": {},
   "outputs": [
    {
     "name": "stderr",
     "output_type": "stream",
     "text": [
      "Using TensorFlow backend.\n"
     ]
    },
    {
     "ename": "AttributeError",
     "evalue": "module 'tensorflow' has no attribute 'name_scope'",
     "output_type": "error",
     "traceback": [
      "\u001b[1;31m---------------------------------------------------------------------------\u001b[0m",
      "\u001b[1;31mAttributeError\u001b[0m                            Traceback (most recent call last)",
      "\u001b[1;32m<ipython-input-43-07f672058a7b>\u001b[0m in \u001b[0;36m<module>\u001b[1;34m\u001b[0m\n\u001b[1;32m----> 1\u001b[1;33m \u001b[1;32mfrom\u001b[0m \u001b[0mkeras\u001b[0m\u001b[1;33m.\u001b[0m\u001b[0mdatasets\u001b[0m \u001b[1;32mimport\u001b[0m \u001b[0mcifar10\u001b[0m\u001b[1;33m\u001b[0m\u001b[1;33m\u001b[0m\u001b[0m\n\u001b[0m\u001b[0;32m      2\u001b[0m \u001b[1;32mfrom\u001b[0m \u001b[0mkeras\u001b[0m\u001b[1;33m.\u001b[0m\u001b[0moptimizers\u001b[0m \u001b[1;32mimport\u001b[0m \u001b[0mSGD\u001b[0m\u001b[1;33m,\u001b[0m \u001b[0mAdam\u001b[0m\u001b[1;33m,\u001b[0m \u001b[0mRMSprop\u001b[0m\u001b[1;33m\u001b[0m\u001b[1;33m\u001b[0m\u001b[0m\n\u001b[0;32m      3\u001b[0m \u001b[1;32mfrom\u001b[0m \u001b[0mkeras\u001b[0m\u001b[1;33m.\u001b[0m\u001b[0mutils\u001b[0m \u001b[1;32mimport\u001b[0m \u001b[0mnp_utils\u001b[0m\u001b[1;33m\u001b[0m\u001b[1;33m\u001b[0m\u001b[0m\n\u001b[0;32m      4\u001b[0m \u001b[1;33m\u001b[0m\u001b[0m\n\u001b[0;32m      5\u001b[0m \u001b[1;33m(\u001b[0m\u001b[0mX_train\u001b[0m\u001b[1;33m,\u001b[0m \u001b[0mY_train\u001b[0m\u001b[1;33m)\u001b[0m\u001b[1;33m,\u001b[0m \u001b[1;33m(\u001b[0m\u001b[0mX_test\u001b[0m\u001b[1;33m,\u001b[0m \u001b[0mY_test\u001b[0m\u001b[1;33m)\u001b[0m \u001b[1;33m=\u001b[0m \u001b[0mcifar10\u001b[0m\u001b[1;33m.\u001b[0m\u001b[0mload_data\u001b[0m\u001b[1;33m(\u001b[0m\u001b[1;33m)\u001b[0m\u001b[1;33m\u001b[0m\u001b[1;33m\u001b[0m\u001b[0m\n",
      "\u001b[1;32m~\\Anaconda3\\lib\\site-packages\\keras\\__init__.py\u001b[0m in \u001b[0;36m<module>\u001b[1;34m\u001b[0m\n\u001b[0;32m      1\u001b[0m \u001b[1;32mfrom\u001b[0m \u001b[0m__future__\u001b[0m \u001b[1;32mimport\u001b[0m \u001b[0mabsolute_import\u001b[0m\u001b[1;33m\u001b[0m\u001b[1;33m\u001b[0m\u001b[0m\n\u001b[0;32m      2\u001b[0m \u001b[1;33m\u001b[0m\u001b[0m\n\u001b[1;32m----> 3\u001b[1;33m \u001b[1;32mfrom\u001b[0m \u001b[1;33m.\u001b[0m \u001b[1;32mimport\u001b[0m \u001b[0mutils\u001b[0m\u001b[1;33m\u001b[0m\u001b[1;33m\u001b[0m\u001b[0m\n\u001b[0m\u001b[0;32m      4\u001b[0m \u001b[1;32mfrom\u001b[0m \u001b[1;33m.\u001b[0m \u001b[1;32mimport\u001b[0m \u001b[0mactivations\u001b[0m\u001b[1;33m\u001b[0m\u001b[1;33m\u001b[0m\u001b[0m\n\u001b[0;32m      5\u001b[0m \u001b[1;32mfrom\u001b[0m \u001b[1;33m.\u001b[0m \u001b[1;32mimport\u001b[0m \u001b[0mapplications\u001b[0m\u001b[1;33m\u001b[0m\u001b[1;33m\u001b[0m\u001b[0m\n",
      "\u001b[1;32m~\\Anaconda3\\lib\\site-packages\\keras\\utils\\__init__.py\u001b[0m in \u001b[0;36m<module>\u001b[1;34m\u001b[0m\n\u001b[0;32m      4\u001b[0m \u001b[1;32mfrom\u001b[0m \u001b[1;33m.\u001b[0m \u001b[1;32mimport\u001b[0m \u001b[0mdata_utils\u001b[0m\u001b[1;33m\u001b[0m\u001b[1;33m\u001b[0m\u001b[0m\n\u001b[0;32m      5\u001b[0m \u001b[1;32mfrom\u001b[0m \u001b[1;33m.\u001b[0m \u001b[1;32mimport\u001b[0m \u001b[0mio_utils\u001b[0m\u001b[1;33m\u001b[0m\u001b[1;33m\u001b[0m\u001b[0m\n\u001b[1;32m----> 6\u001b[1;33m \u001b[1;32mfrom\u001b[0m \u001b[1;33m.\u001b[0m \u001b[1;32mimport\u001b[0m \u001b[0mconv_utils\u001b[0m\u001b[1;33m\u001b[0m\u001b[1;33m\u001b[0m\u001b[0m\n\u001b[0m\u001b[0;32m      7\u001b[0m \u001b[1;32mfrom\u001b[0m \u001b[1;33m.\u001b[0m \u001b[1;32mimport\u001b[0m \u001b[0mlosses_utils\u001b[0m\u001b[1;33m\u001b[0m\u001b[1;33m\u001b[0m\u001b[0m\n\u001b[0;32m      8\u001b[0m \u001b[1;32mfrom\u001b[0m \u001b[1;33m.\u001b[0m \u001b[1;32mimport\u001b[0m \u001b[0mmetrics_utils\u001b[0m\u001b[1;33m\u001b[0m\u001b[1;33m\u001b[0m\u001b[0m\n",
      "\u001b[1;32m~\\Anaconda3\\lib\\site-packages\\keras\\utils\\conv_utils.py\u001b[0m in \u001b[0;36m<module>\u001b[1;34m\u001b[0m\n\u001b[0;32m      7\u001b[0m \u001b[1;32mfrom\u001b[0m \u001b[0msix\u001b[0m\u001b[1;33m.\u001b[0m\u001b[0mmoves\u001b[0m \u001b[1;32mimport\u001b[0m \u001b[0mrange\u001b[0m\u001b[1;33m\u001b[0m\u001b[1;33m\u001b[0m\u001b[0m\n\u001b[0;32m      8\u001b[0m \u001b[1;32mimport\u001b[0m \u001b[0mnumpy\u001b[0m \u001b[1;32mas\u001b[0m \u001b[0mnp\u001b[0m\u001b[1;33m\u001b[0m\u001b[1;33m\u001b[0m\u001b[0m\n\u001b[1;32m----> 9\u001b[1;33m \u001b[1;32mfrom\u001b[0m \u001b[1;33m.\u001b[0m\u001b[1;33m.\u001b[0m \u001b[1;32mimport\u001b[0m \u001b[0mbackend\u001b[0m \u001b[1;32mas\u001b[0m \u001b[0mK\u001b[0m\u001b[1;33m\u001b[0m\u001b[1;33m\u001b[0m\u001b[0m\n\u001b[0m\u001b[0;32m     10\u001b[0m \u001b[1;33m\u001b[0m\u001b[0m\n\u001b[0;32m     11\u001b[0m \u001b[1;33m\u001b[0m\u001b[0m\n",
      "\u001b[1;32m~\\Anaconda3\\lib\\site-packages\\keras\\backend\\__init__.py\u001b[0m in \u001b[0;36m<module>\u001b[1;34m\u001b[0m\n\u001b[1;32m----> 1\u001b[1;33m \u001b[1;32mfrom\u001b[0m \u001b[1;33m.\u001b[0m\u001b[0mload_backend\u001b[0m \u001b[1;32mimport\u001b[0m \u001b[0mepsilon\u001b[0m\u001b[1;33m\u001b[0m\u001b[1;33m\u001b[0m\u001b[0m\n\u001b[0m\u001b[0;32m      2\u001b[0m \u001b[1;32mfrom\u001b[0m \u001b[1;33m.\u001b[0m\u001b[0mload_backend\u001b[0m \u001b[1;32mimport\u001b[0m \u001b[0mset_epsilon\u001b[0m\u001b[1;33m\u001b[0m\u001b[1;33m\u001b[0m\u001b[0m\n\u001b[0;32m      3\u001b[0m \u001b[1;32mfrom\u001b[0m \u001b[1;33m.\u001b[0m\u001b[0mload_backend\u001b[0m \u001b[1;32mimport\u001b[0m \u001b[0mfloatx\u001b[0m\u001b[1;33m\u001b[0m\u001b[1;33m\u001b[0m\u001b[0m\n\u001b[0;32m      4\u001b[0m \u001b[1;32mfrom\u001b[0m \u001b[1;33m.\u001b[0m\u001b[0mload_backend\u001b[0m \u001b[1;32mimport\u001b[0m \u001b[0mset_floatx\u001b[0m\u001b[1;33m\u001b[0m\u001b[1;33m\u001b[0m\u001b[0m\n\u001b[0;32m      5\u001b[0m \u001b[1;32mfrom\u001b[0m \u001b[1;33m.\u001b[0m\u001b[0mload_backend\u001b[0m \u001b[1;32mimport\u001b[0m \u001b[0mcast_to_floatx\u001b[0m\u001b[1;33m\u001b[0m\u001b[1;33m\u001b[0m\u001b[0m\n",
      "\u001b[1;32m~\\Anaconda3\\lib\\site-packages\\keras\\backend\\load_backend.py\u001b[0m in \u001b[0;36m<module>\u001b[1;34m\u001b[0m\n\u001b[0;32m     88\u001b[0m \u001b[1;32melif\u001b[0m \u001b[0m_BACKEND\u001b[0m \u001b[1;33m==\u001b[0m \u001b[1;34m'tensorflow'\u001b[0m\u001b[1;33m:\u001b[0m\u001b[1;33m\u001b[0m\u001b[1;33m\u001b[0m\u001b[0m\n\u001b[0;32m     89\u001b[0m     \u001b[0msys\u001b[0m\u001b[1;33m.\u001b[0m\u001b[0mstderr\u001b[0m\u001b[1;33m.\u001b[0m\u001b[0mwrite\u001b[0m\u001b[1;33m(\u001b[0m\u001b[1;34m'Using TensorFlow backend.\\n'\u001b[0m\u001b[1;33m)\u001b[0m\u001b[1;33m\u001b[0m\u001b[1;33m\u001b[0m\u001b[0m\n\u001b[1;32m---> 90\u001b[1;33m     \u001b[1;32mfrom\u001b[0m \u001b[1;33m.\u001b[0m\u001b[0mtensorflow_backend\u001b[0m \u001b[1;32mimport\u001b[0m \u001b[1;33m*\u001b[0m\u001b[1;33m\u001b[0m\u001b[1;33m\u001b[0m\u001b[0m\n\u001b[0m\u001b[0;32m     91\u001b[0m \u001b[1;32melse\u001b[0m\u001b[1;33m:\u001b[0m\u001b[1;33m\u001b[0m\u001b[1;33m\u001b[0m\u001b[0m\n\u001b[0;32m     92\u001b[0m     \u001b[1;31m# Try and load external backend.\u001b[0m\u001b[1;33m\u001b[0m\u001b[1;33m\u001b[0m\u001b[1;33m\u001b[0m\u001b[0m\n",
      "\u001b[1;32m~\\Anaconda3\\lib\\site-packages\\keras\\backend\\tensorflow_backend.py\u001b[0m in \u001b[0;36m<module>\u001b[1;34m\u001b[0m\n\u001b[0;32m     54\u001b[0m \u001b[0mget_graph\u001b[0m \u001b[1;33m=\u001b[0m \u001b[0mtf_keras_backend\u001b[0m\u001b[1;33m.\u001b[0m\u001b[0mget_graph\u001b[0m\u001b[1;33m\u001b[0m\u001b[1;33m\u001b[0m\u001b[0m\n\u001b[0;32m     55\u001b[0m \u001b[1;31m# learning_phase_scope = tf_keras_backend.learning_phase_scope  # TODO\u001b[0m\u001b[1;33m\u001b[0m\u001b[1;33m\u001b[0m\u001b[1;33m\u001b[0m\u001b[0m\n\u001b[1;32m---> 56\u001b[1;33m \u001b[0mname_scope\u001b[0m \u001b[1;33m=\u001b[0m \u001b[0mtf\u001b[0m\u001b[1;33m.\u001b[0m\u001b[0mname_scope\u001b[0m\u001b[1;33m\u001b[0m\u001b[1;33m\u001b[0m\u001b[0m\n\u001b[0m\u001b[0;32m     57\u001b[0m \u001b[1;33m\u001b[0m\u001b[0m\n\u001b[0;32m     58\u001b[0m \u001b[1;33m\u001b[0m\u001b[0m\n",
      "\u001b[1;31mAttributeError\u001b[0m: module 'tensorflow' has no attribute 'name_scope'"
     ]
    }
   ],
   "source": [
    "\n",
    "from keras.datasets import cifar10\n",
    "from keras.optimizers import SGD, Adam, RMSprop\n",
    "from keras.utils import np_utils\n",
    "\n",
    "(X_train, Y_train), (X_test, Y_test) = cifar10.load_data()\n",
    "X_train = X_train.reshape(X_train.shape[0], 32, 32, 3 )\n",
    "print('X_train shape:', X_train.shape)\n",
    "print(X_train.shape[0], 'train samples')\n",
    "print(X_test.shape[0], 'test samples')\n",
    "\n",
    "NB_CLASSES = 10\n",
    "Y_train = np_utils.to_categorical(Y_train, NB_CLASSES)\n",
    "Y_test = np_utils.to_categorical(Y_test, NB_CLASSES)\n",
    "\n",
    "X_train = X_train.astype('float32')\n",
    "X_test = X_test.astype('float32')\n",
    "X_train /= 255\n",
    "X_test /= 255\n"
   ]
  },
  {
   "cell_type": "code",
   "execution_count": 39,
   "metadata": {},
   "outputs": [
    {
     "name": "stderr",
     "output_type": "stream",
     "text": [
      "Using TensorFlow backend.\n"
     ]
    },
    {
     "ename": "AttributeError",
     "evalue": "module 'tensorflow' has no attribute 'name_scope'",
     "output_type": "error",
     "traceback": [
      "\u001b[1;31m---------------------------------------------------------------------------\u001b[0m",
      "\u001b[1;31mAttributeError\u001b[0m                            Traceback (most recent call last)",
      "\u001b[1;32m<ipython-input-39-efac853b50c1>\u001b[0m in \u001b[0;36m<module>\u001b[1;34m\u001b[0m\n\u001b[0;32m      2\u001b[0m \u001b[1;32mimport\u001b[0m \u001b[0mmatplotlib\u001b[0m\u001b[1;33m.\u001b[0m\u001b[0mpyplot\u001b[0m \u001b[1;32mas\u001b[0m \u001b[0mplt\u001b[0m\u001b[1;33m\u001b[0m\u001b[1;33m\u001b[0m\u001b[0m\n\u001b[0;32m      3\u001b[0m \u001b[1;33m\u001b[0m\u001b[0m\n\u001b[1;32m----> 4\u001b[1;33m \u001b[1;32mimport\u001b[0m \u001b[0mkeras\u001b[0m\u001b[1;33m\u001b[0m\u001b[1;33m\u001b[0m\u001b[0m\n\u001b[0m\u001b[0;32m      5\u001b[0m \u001b[1;32mfrom\u001b[0m \u001b[0mkeras\u001b[0m\u001b[1;33m.\u001b[0m\u001b[0mdatasets\u001b[0m \u001b[1;32mimport\u001b[0m \u001b[0mmnist\u001b[0m\u001b[1;33m\u001b[0m\u001b[1;33m\u001b[0m\u001b[0m\n\u001b[0;32m      6\u001b[0m \u001b[1;32mfrom\u001b[0m \u001b[0mkeras\u001b[0m\u001b[1;33m.\u001b[0m\u001b[0mmodels\u001b[0m \u001b[1;32mimport\u001b[0m \u001b[0mSequential\u001b[0m\u001b[1;33m\u001b[0m\u001b[1;33m\u001b[0m\u001b[0m\n",
      "\u001b[1;32m~\\Anaconda3\\lib\\site-packages\\keras\\__init__.py\u001b[0m in \u001b[0;36m<module>\u001b[1;34m\u001b[0m\n\u001b[0;32m      1\u001b[0m \u001b[1;32mfrom\u001b[0m \u001b[0m__future__\u001b[0m \u001b[1;32mimport\u001b[0m \u001b[0mabsolute_import\u001b[0m\u001b[1;33m\u001b[0m\u001b[1;33m\u001b[0m\u001b[0m\n\u001b[0;32m      2\u001b[0m \u001b[1;33m\u001b[0m\u001b[0m\n\u001b[1;32m----> 3\u001b[1;33m \u001b[1;32mfrom\u001b[0m \u001b[1;33m.\u001b[0m \u001b[1;32mimport\u001b[0m \u001b[0mutils\u001b[0m\u001b[1;33m\u001b[0m\u001b[1;33m\u001b[0m\u001b[0m\n\u001b[0m\u001b[0;32m      4\u001b[0m \u001b[1;32mfrom\u001b[0m \u001b[1;33m.\u001b[0m \u001b[1;32mimport\u001b[0m \u001b[0mactivations\u001b[0m\u001b[1;33m\u001b[0m\u001b[1;33m\u001b[0m\u001b[0m\n\u001b[0;32m      5\u001b[0m \u001b[1;32mfrom\u001b[0m \u001b[1;33m.\u001b[0m \u001b[1;32mimport\u001b[0m \u001b[0mapplications\u001b[0m\u001b[1;33m\u001b[0m\u001b[1;33m\u001b[0m\u001b[0m\n",
      "\u001b[1;32m~\\Anaconda3\\lib\\site-packages\\keras\\utils\\__init__.py\u001b[0m in \u001b[0;36m<module>\u001b[1;34m\u001b[0m\n\u001b[0;32m      4\u001b[0m \u001b[1;32mfrom\u001b[0m \u001b[1;33m.\u001b[0m \u001b[1;32mimport\u001b[0m \u001b[0mdata_utils\u001b[0m\u001b[1;33m\u001b[0m\u001b[1;33m\u001b[0m\u001b[0m\n\u001b[0;32m      5\u001b[0m \u001b[1;32mfrom\u001b[0m \u001b[1;33m.\u001b[0m \u001b[1;32mimport\u001b[0m \u001b[0mio_utils\u001b[0m\u001b[1;33m\u001b[0m\u001b[1;33m\u001b[0m\u001b[0m\n\u001b[1;32m----> 6\u001b[1;33m \u001b[1;32mfrom\u001b[0m \u001b[1;33m.\u001b[0m \u001b[1;32mimport\u001b[0m \u001b[0mconv_utils\u001b[0m\u001b[1;33m\u001b[0m\u001b[1;33m\u001b[0m\u001b[0m\n\u001b[0m\u001b[0;32m      7\u001b[0m \u001b[1;32mfrom\u001b[0m \u001b[1;33m.\u001b[0m \u001b[1;32mimport\u001b[0m \u001b[0mlosses_utils\u001b[0m\u001b[1;33m\u001b[0m\u001b[1;33m\u001b[0m\u001b[0m\n\u001b[0;32m      8\u001b[0m \u001b[1;32mfrom\u001b[0m \u001b[1;33m.\u001b[0m \u001b[1;32mimport\u001b[0m \u001b[0mmetrics_utils\u001b[0m\u001b[1;33m\u001b[0m\u001b[1;33m\u001b[0m\u001b[0m\n",
      "\u001b[1;32m~\\Anaconda3\\lib\\site-packages\\keras\\utils\\conv_utils.py\u001b[0m in \u001b[0;36m<module>\u001b[1;34m\u001b[0m\n\u001b[0;32m      7\u001b[0m \u001b[1;32mfrom\u001b[0m \u001b[0msix\u001b[0m\u001b[1;33m.\u001b[0m\u001b[0mmoves\u001b[0m \u001b[1;32mimport\u001b[0m \u001b[0mrange\u001b[0m\u001b[1;33m\u001b[0m\u001b[1;33m\u001b[0m\u001b[0m\n\u001b[0;32m      8\u001b[0m \u001b[1;32mimport\u001b[0m \u001b[0mnumpy\u001b[0m \u001b[1;32mas\u001b[0m \u001b[0mnp\u001b[0m\u001b[1;33m\u001b[0m\u001b[1;33m\u001b[0m\u001b[0m\n\u001b[1;32m----> 9\u001b[1;33m \u001b[1;32mfrom\u001b[0m \u001b[1;33m.\u001b[0m\u001b[1;33m.\u001b[0m \u001b[1;32mimport\u001b[0m \u001b[0mbackend\u001b[0m \u001b[1;32mas\u001b[0m \u001b[0mK\u001b[0m\u001b[1;33m\u001b[0m\u001b[1;33m\u001b[0m\u001b[0m\n\u001b[0m\u001b[0;32m     10\u001b[0m \u001b[1;33m\u001b[0m\u001b[0m\n\u001b[0;32m     11\u001b[0m \u001b[1;33m\u001b[0m\u001b[0m\n",
      "\u001b[1;32m~\\Anaconda3\\lib\\site-packages\\keras\\backend\\__init__.py\u001b[0m in \u001b[0;36m<module>\u001b[1;34m\u001b[0m\n\u001b[1;32m----> 1\u001b[1;33m \u001b[1;32mfrom\u001b[0m \u001b[1;33m.\u001b[0m\u001b[0mload_backend\u001b[0m \u001b[1;32mimport\u001b[0m \u001b[0mepsilon\u001b[0m\u001b[1;33m\u001b[0m\u001b[1;33m\u001b[0m\u001b[0m\n\u001b[0m\u001b[0;32m      2\u001b[0m \u001b[1;32mfrom\u001b[0m \u001b[1;33m.\u001b[0m\u001b[0mload_backend\u001b[0m \u001b[1;32mimport\u001b[0m \u001b[0mset_epsilon\u001b[0m\u001b[1;33m\u001b[0m\u001b[1;33m\u001b[0m\u001b[0m\n\u001b[0;32m      3\u001b[0m \u001b[1;32mfrom\u001b[0m \u001b[1;33m.\u001b[0m\u001b[0mload_backend\u001b[0m \u001b[1;32mimport\u001b[0m \u001b[0mfloatx\u001b[0m\u001b[1;33m\u001b[0m\u001b[1;33m\u001b[0m\u001b[0m\n\u001b[0;32m      4\u001b[0m \u001b[1;32mfrom\u001b[0m \u001b[1;33m.\u001b[0m\u001b[0mload_backend\u001b[0m \u001b[1;32mimport\u001b[0m \u001b[0mset_floatx\u001b[0m\u001b[1;33m\u001b[0m\u001b[1;33m\u001b[0m\u001b[0m\n\u001b[0;32m      5\u001b[0m \u001b[1;32mfrom\u001b[0m \u001b[1;33m.\u001b[0m\u001b[0mload_backend\u001b[0m \u001b[1;32mimport\u001b[0m \u001b[0mcast_to_floatx\u001b[0m\u001b[1;33m\u001b[0m\u001b[1;33m\u001b[0m\u001b[0m\n",
      "\u001b[1;32m~\\Anaconda3\\lib\\site-packages\\keras\\backend\\load_backend.py\u001b[0m in \u001b[0;36m<module>\u001b[1;34m\u001b[0m\n\u001b[0;32m     88\u001b[0m \u001b[1;32melif\u001b[0m \u001b[0m_BACKEND\u001b[0m \u001b[1;33m==\u001b[0m \u001b[1;34m'tensorflow'\u001b[0m\u001b[1;33m:\u001b[0m\u001b[1;33m\u001b[0m\u001b[1;33m\u001b[0m\u001b[0m\n\u001b[0;32m     89\u001b[0m     \u001b[0msys\u001b[0m\u001b[1;33m.\u001b[0m\u001b[0mstderr\u001b[0m\u001b[1;33m.\u001b[0m\u001b[0mwrite\u001b[0m\u001b[1;33m(\u001b[0m\u001b[1;34m'Using TensorFlow backend.\\n'\u001b[0m\u001b[1;33m)\u001b[0m\u001b[1;33m\u001b[0m\u001b[1;33m\u001b[0m\u001b[0m\n\u001b[1;32m---> 90\u001b[1;33m     \u001b[1;32mfrom\u001b[0m \u001b[1;33m.\u001b[0m\u001b[0mtensorflow_backend\u001b[0m \u001b[1;32mimport\u001b[0m \u001b[1;33m*\u001b[0m\u001b[1;33m\u001b[0m\u001b[1;33m\u001b[0m\u001b[0m\n\u001b[0m\u001b[0;32m     91\u001b[0m \u001b[1;32melse\u001b[0m\u001b[1;33m:\u001b[0m\u001b[1;33m\u001b[0m\u001b[1;33m\u001b[0m\u001b[0m\n\u001b[0;32m     92\u001b[0m     \u001b[1;31m# Try and load external backend.\u001b[0m\u001b[1;33m\u001b[0m\u001b[1;33m\u001b[0m\u001b[1;33m\u001b[0m\u001b[0m\n",
      "\u001b[1;32m~\\Anaconda3\\lib\\site-packages\\keras\\backend\\tensorflow_backend.py\u001b[0m in \u001b[0;36m<module>\u001b[1;34m\u001b[0m\n\u001b[0;32m     54\u001b[0m \u001b[0mget_graph\u001b[0m \u001b[1;33m=\u001b[0m \u001b[0mtf_keras_backend\u001b[0m\u001b[1;33m.\u001b[0m\u001b[0mget_graph\u001b[0m\u001b[1;33m\u001b[0m\u001b[1;33m\u001b[0m\u001b[0m\n\u001b[0;32m     55\u001b[0m \u001b[1;31m# learning_phase_scope = tf_keras_backend.learning_phase_scope  # TODO\u001b[0m\u001b[1;33m\u001b[0m\u001b[1;33m\u001b[0m\u001b[1;33m\u001b[0m\u001b[0m\n\u001b[1;32m---> 56\u001b[1;33m \u001b[0mname_scope\u001b[0m \u001b[1;33m=\u001b[0m \u001b[0mtf\u001b[0m\u001b[1;33m.\u001b[0m\u001b[0mname_scope\u001b[0m\u001b[1;33m\u001b[0m\u001b[1;33m\u001b[0m\u001b[0m\n\u001b[0m\u001b[0;32m     57\u001b[0m \u001b[1;33m\u001b[0m\u001b[0m\n\u001b[0;32m     58\u001b[0m \u001b[1;33m\u001b[0m\u001b[0m\n",
      "\u001b[1;31mAttributeError\u001b[0m: module 'tensorflow' has no attribute 'name_scope'"
     ]
    }
   ],
   "source": [
    "%matplotlib inline\n",
    "import matplotlib.pyplot as plt\n",
    "\n",
    "import keras\n",
    "from keras.datasets import mnist\n",
    "from keras.models import Sequential\n",
    "from keras.layers import Dense, Dropout, Flatten\n",
    "from keras.layers import Conv2D, MaxPooling2D\n",
    "from keras import backend as K\n",
    "\n",
    "plt.imshow(X_train[5])\n",
    "plt.grid(False)\n",
    "plt.show()\n",
    "plt.imshow(X_train[6])\n",
    "plt.grid(False)\n",
    "plt.show()"
   ]
  },
  {
   "cell_type": "code",
   "execution_count": 40,
   "metadata": {},
   "outputs": [
    {
     "ename": "NameError",
     "evalue": "name 'RMSprop' is not defined",
     "output_type": "error",
     "traceback": [
      "\u001b[1;31m---------------------------------------------------------------------------\u001b[0m",
      "\u001b[1;31mNameError\u001b[0m                                 Traceback (most recent call last)",
      "\u001b[1;32m<ipython-input-40-9228f8fa2968>\u001b[0m in \u001b[0;36m<module>\u001b[1;34m\u001b[0m\n\u001b[0;32m      6\u001b[0m \u001b[0mVERBOSE\u001b[0m \u001b[1;33m=\u001b[0m \u001b[1;36m1\u001b[0m\u001b[1;33m\u001b[0m\u001b[1;33m\u001b[0m\u001b[0m\n\u001b[0;32m      7\u001b[0m \u001b[0mVALIDATION_SPLIT\u001b[0m \u001b[1;33m=\u001b[0m \u001b[1;36m0.2\u001b[0m\u001b[1;33m\u001b[0m\u001b[1;33m\u001b[0m\u001b[0m\n\u001b[1;32m----> 8\u001b[1;33m \u001b[0mOPTIM\u001b[0m \u001b[1;33m=\u001b[0m \u001b[0mRMSprop\u001b[0m\u001b[1;33m(\u001b[0m\u001b[1;33m)\u001b[0m\u001b[1;33m\u001b[0m\u001b[1;33m\u001b[0m\u001b[0m\n\u001b[0m",
      "\u001b[1;31mNameError\u001b[0m: name 'RMSprop' is not defined"
     ]
    }
   ],
   "source": [
    "IMG_CHANNELS = 3\n",
    "IMG_ROWS = 32\n",
    "IMG_COLS = 32\n",
    "BATCH_SIZE = 128\n",
    "NB_EPOCH = 40\n",
    "VERBOSE = 1\n",
    "VALIDATION_SPLIT = 0.2\n",
    "OPTIM = RMSprop()"
   ]
  },
  {
   "cell_type": "code",
   "execution_count": 6,
   "metadata": {},
   "outputs": [
    {
     "name": "stdout",
     "output_type": "stream",
     "text": [
      "WARNING:tensorflow:From C:\\Users\\ICT01_09\\Anaconda3\\lib\\site-packages\\keras\\backend\\tensorflow_backend.py:4070: The name tf.nn.max_pool is deprecated. Please use tf.nn.max_pool2d instead.\n",
      "\n"
     ]
    }
   ],
   "source": [
    "from keras.layers import Activation\n",
    "\n",
    "model = Sequential()\n",
    "\n",
    "# residual망의 영향\n",
    "# 32x32x3(kernel) =>  32x32x32 (padding이 same이라서) \n",
    "model.add(Conv2D(32, kernel_size = 3, padding = 'same', input_shape = (IMG_ROWS, IMG_COLS, IMG_CHANNELS)))\n",
    "model.add(Activation('relu'))\n",
    "model.add(Conv2D(32, kernel_size = 3, padding='same'))\n",
    "model.add(Activation('relu'))\n",
    "model.add(MaxPooling2D(pool_size = (2,2)))\n",
    "model.add(Dropout(0.25))"
   ]
  },
  {
   "cell_type": "code",
   "execution_count": 7,
   "metadata": {
    "scrolled": true
   },
   "outputs": [
    {
     "name": "stderr",
     "output_type": "stream",
     "text": [
      "C:\\Users\\ICT01_09\\Anaconda3\\lib\\site-packages\\ipykernel_launcher.py:3: UserWarning: Update your `Conv2D` call to the Keras 2 API: `Conv2D(64, (3, 3))`\n",
      "  This is separate from the ipykernel package so we can avoid doing imports until\n"
     ]
    }
   ],
   "source": [
    "model.add(Conv2D(64, kernel_size = 3, padding = 'same'))\n",
    "model.add(Activation('relu'))\n",
    "model.add(Conv2D(64, 3,3))\n",
    "model.add(Activation('relu'))\n",
    "model.add(MaxPooling2D(pool_size = (2,2)))\n",
    "model.add(Dropout(0.25))"
   ]
  },
  {
   "cell_type": "code",
   "execution_count": 8,
   "metadata": {},
   "outputs": [
    {
     "name": "stdout",
     "output_type": "stream",
     "text": [
      "Model: \"sequential_1\"\n",
      "_________________________________________________________________\n",
      "Layer (type)                 Output Shape              Param #   \n",
      "=================================================================\n",
      "conv2d_1 (Conv2D)            (None, 32, 32, 32)        896       \n",
      "_________________________________________________________________\n",
      "activation_1 (Activation)    (None, 32, 32, 32)        0         \n",
      "_________________________________________________________________\n",
      "conv2d_2 (Conv2D)            (None, 32, 32, 32)        9248      \n",
      "_________________________________________________________________\n",
      "activation_2 (Activation)    (None, 32, 32, 32)        0         \n",
      "_________________________________________________________________\n",
      "max_pooling2d_1 (MaxPooling2 (None, 16, 16, 32)        0         \n",
      "_________________________________________________________________\n",
      "dropout_1 (Dropout)          (None, 16, 16, 32)        0         \n",
      "_________________________________________________________________\n",
      "conv2d_3 (Conv2D)            (None, 16, 16, 64)        18496     \n",
      "_________________________________________________________________\n",
      "activation_3 (Activation)    (None, 16, 16, 64)        0         \n",
      "_________________________________________________________________\n",
      "conv2d_4 (Conv2D)            (None, 14, 14, 64)        36928     \n",
      "_________________________________________________________________\n",
      "activation_4 (Activation)    (None, 14, 14, 64)        0         \n",
      "_________________________________________________________________\n",
      "max_pooling2d_2 (MaxPooling2 (None, 7, 7, 64)          0         \n",
      "_________________________________________________________________\n",
      "dropout_2 (Dropout)          (None, 7, 7, 64)          0         \n",
      "_________________________________________________________________\n",
      "flatten_1 (Flatten)          (None, 3136)              0         \n",
      "_________________________________________________________________\n",
      "dense_1 (Dense)              (None, 512)               1606144   \n",
      "_________________________________________________________________\n",
      "activation_5 (Activation)    (None, 512)               0         \n",
      "_________________________________________________________________\n",
      "dropout_3 (Dropout)          (None, 512)               0         \n",
      "_________________________________________________________________\n",
      "dense_2 (Dense)              (None, 10)                5130      \n",
      "_________________________________________________________________\n",
      "activation_6 (Activation)    (None, 10)                0         \n",
      "=================================================================\n",
      "Total params: 1,676,842\n",
      "Trainable params: 1,676,842\n",
      "Non-trainable params: 0\n",
      "_________________________________________________________________\n"
     ]
    }
   ],
   "source": [
    "model.add(Flatten())\n",
    "model.add(Dense(512))\n",
    "model.add(Activation('relu'))\n",
    "model.add(Dropout(0.5))\n",
    "model.add(Dense(NB_CLASSES))\n",
    "model.add(Activation('softmax'))\n",
    "model.summary()\n",
    "\n",
    "\n",
    "model.compile(loss = 'categorical_crossentropy', optimizer = OPTIM, metrics = ['accuracy'])"
   ]
  },
  {
   "cell_type": "code",
   "execution_count": 9,
   "metadata": {
    "scrolled": true
   },
   "outputs": [
    {
     "name": "stdout",
     "output_type": "stream",
     "text": [
      "WARNING:tensorflow:From C:\\Users\\ICT01_09\\Anaconda3\\lib\\site-packages\\keras\\backend\\tensorflow_backend.py:422: The name tf.global_variables is deprecated. Please use tf.compat.v1.global_variables instead.\n",
      "\n",
      "Train on 40000 samples, validate on 10000 samples\n",
      "Epoch 1/10\n",
      "40000/40000 [==============================] - 59s 1ms/step - loss: 1.7803 - accuracy: 0.3581 - val_loss: 1.3732 - val_accuracy: 0.5040\n",
      "Epoch 2/10\n",
      "40000/40000 [==============================] - 59s 1ms/step - loss: 1.3199 - accuracy: 0.5348 - val_loss: 1.1495 - val_accuracy: 0.6150\n",
      "Epoch 3/10\n",
      "40000/40000 [==============================] - 58s 1ms/step - loss: 1.1147 - accuracy: 0.6063 - val_loss: 1.1759 - val_accuracy: 0.5815\n",
      "Epoch 4/10\n",
      "40000/40000 [==============================] - 58s 1ms/step - loss: 0.9814 - accuracy: 0.6594 - val_loss: 0.9617 - val_accuracy: 0.6674\n",
      "Epoch 5/10\n",
      "40000/40000 [==============================] - 58s 1ms/step - loss: 0.8876 - accuracy: 0.6869 - val_loss: 0.9411 - val_accuracy: 0.6686\n",
      "Epoch 6/10\n",
      "40000/40000 [==============================] - 59s 1ms/step - loss: 0.8254 - accuracy: 0.7134 - val_loss: 0.8067 - val_accuracy: 0.7203\n",
      "Epoch 7/10\n",
      "40000/40000 [==============================] - 58s 1ms/step - loss: 0.7598 - accuracy: 0.7358 - val_loss: 0.7770 - val_accuracy: 0.7301\n",
      "Epoch 8/10\n",
      "40000/40000 [==============================] - 58s 1ms/step - loss: 0.7075 - accuracy: 0.7547 - val_loss: 0.7896 - val_accuracy: 0.7292\n",
      "Epoch 9/10\n",
      "40000/40000 [==============================] - 58s 1ms/step - loss: 0.6695 - accuracy: 0.7687 - val_loss: 0.7101 - val_accuracy: 0.7550\n",
      "Epoch 10/10\n",
      "40000/40000 [==============================] - 64s 2ms/step - loss: 0.6336 - accuracy: 0.7820 - val_loss: 0.7419 - val_accuracy: 0.7472\n"
     ]
    }
   ],
   "source": [
    "# 모델 피팅\n",
    "history = model.fit(X_train, Y_train, batch_size = BATCH_SIZE, epochs = NB_EPOCH, \n",
    "                    validation_split = VALIDATION_SPLIT, verbose = VERBOSE)"
   ]
  },
  {
   "cell_type": "code",
   "execution_count": 10,
   "metadata": {},
   "outputs": [
    {
     "name": "stdout",
     "output_type": "stream",
     "text": [
      "10000/10000 [==============================] - 5s 533us/step\n",
      "\n",
      "Test score: 0.7576467494964599\n",
      "\n",
      "Test accuracy: 0.7501999735832214\n"
     ]
    }
   ],
   "source": [
    "score = model.evaluate(X_test, Y_test, batch_size = BATCH_SIZE, verbose = VERBOSE)\n",
    "print('\\nTest score:', score[0])\n",
    "print('\\nTest accuracy:', score[1])"
   ]
  },
  {
   "cell_type": "code",
   "execution_count": 12,
   "metadata": {},
   "outputs": [],
   "source": [
    "from keras.datasets import mnist\n",
    "from keras.preprocessing.image import ImageDataGenerator\n",
    "from matplotlib import pyplot\n",
    "from keras import backend as K\n",
    "\n",
    "datagen = ImageDataGenerator(   # 똑같은 데이터 : random 순서\n",
    "    featurewise_center = False, \n",
    "    samplewise_center = False, \n",
    "    featurewise_std_normalization=False,\n",
    "    samplewise_std_normalization = False, \n",
    "    zca_whitening=False,  # 이미지 PCA 노이즈 제거\n",
    "    rotation_range = 0, \n",
    "    width_shift_range=0.1, height_shift_range=0.1,\n",
    "    horizontal_flip = True, vertical_flip = False)\n",
    "\n",
    "\n",
    "datagen.fit(X_train)"
   ]
  },
  {
   "cell_type": "code",
   "execution_count": 14,
   "metadata": {},
   "outputs": [
    {
     "name": "stderr",
     "output_type": "stream",
     "text": [
      "C:\\Users\\ICT01_09\\Anaconda3\\lib\\site-packages\\ipykernel_launcher.py:2: UserWarning: The semantics of the Keras 2 argument `steps_per_epoch` is not the same as the Keras 1 argument `samples_per_epoch`. `steps_per_epoch` is the number of batches to draw from the generator at each epoch. Basically steps_per_epoch = samples_per_epoch/batch_size. Similarly `nb_val_samples`->`validation_steps` and `val_samples`->`steps` arguments have changed. Update your method calls accordingly.\n",
      "  \n",
      "C:\\Users\\ICT01_09\\Anaconda3\\lib\\site-packages\\ipykernel_launcher.py:2: UserWarning: Update your `fit_generator` call to the Keras 2 API: `fit_generator(<keras.pre..., verbose=1, steps_per_epoch=390, epochs=10)`\n",
      "  \n"
     ]
    },
    {
     "name": "stdout",
     "output_type": "stream",
     "text": [
      "Epoch 1/10\n",
      "390/390 [==============================] - 71s 182ms/step - loss: 0.9002 - accuracy: 0.6896\n",
      "Epoch 2/10\n",
      "390/390 [==============================] - 71s 183ms/step - loss: 0.8673 - accuracy: 0.6994\n",
      "Epoch 3/10\n",
      "390/390 [==============================] - 69s 177ms/step - loss: 0.8490 - accuracy: 0.7089\n",
      "Epoch 4/10\n",
      "390/390 [==============================] - 67s 173ms/step - loss: 0.8276 - accuracy: 0.7133\n",
      "Epoch 5/10\n",
      "390/390 [==============================] - 66s 170ms/step - loss: 0.8123 - accuracy: 0.7247\n",
      "Epoch 6/10\n",
      "390/390 [==============================] - 66s 170ms/step - loss: 0.8074 - accuracy: 0.7234\n",
      "Epoch 7/10\n",
      "390/390 [==============================] - 66s 170ms/step - loss: 0.8030 - accuracy: 0.7275s - loss: 0.8026 - accuracy: 0.\n",
      "Epoch 8/10\n",
      "390/390 [==============================] - 66s 169ms/step - loss: 0.7886 - accuracy: 0.7350\n",
      "Epoch 9/10\n",
      "390/390 [==============================] - 68s 173ms/step - loss: 0.7878 - accuracy: 0.7334\n",
      "Epoch 10/10\n",
      "390/390 [==============================] - 67s 173ms/step - loss: 0.7957 - accuracy: 0.7317\n"
     ]
    },
    {
     "data": {
      "text/plain": [
       "<keras.callbacks.callbacks.History at 0x1fab323a408>"
      ]
     },
     "execution_count": 14,
     "metadata": {},
     "output_type": "execute_result"
    }
   ],
   "source": [
    "model.fit_generator(datagen.flow(X_train, Y_train, batch_size = BATCH_SIZE), samples_per_epoch = X_train.shape[0], \n",
    "                   nb_epoch=NB_EPOCH, verbose = VERBOSE)"
   ]
  },
  {
   "cell_type": "code",
   "execution_count": 15,
   "metadata": {},
   "outputs": [],
   "source": [
    "# json으로 모델 저장\n",
    "\n",
    "model_json = model.to_json()\n",
    "open('cifar10_architecture.json', 'w').write(model_json)\n",
    "model.save_weights('cifar10_weights.h5', overwrite=True)"
   ]
  },
  {
   "cell_type": "code",
   "execution_count": 21,
   "metadata": {},
   "outputs": [
    {
     "name": "stdout",
     "output_type": "stream",
     "text": [
      "Loaded model from disk\n"
     ]
    }
   ],
   "source": [
    "# 모델 읽어오기\n",
    "\n",
    "from keras.models import model_from_json\n",
    "\n",
    "json_file = open('cifar10_architecture.json','r')\n",
    "loaded_model_json = json_file.read()\n",
    "\n",
    "json_file.close()\n",
    "\n",
    "loaded_model = model_from_json(loaded_model_json)\n",
    "loaded_model.load_weights(\"cifar10_weights.h5\")\n",
    "\n",
    "print(\"Loaded model from disk\")"
   ]
  },
  {
   "cell_type": "code",
   "execution_count": null,
   "metadata": {},
   "outputs": [],
   "source": []
  },
  {
   "cell_type": "code",
   "execution_count": 29,
   "metadata": {},
   "outputs": [
    {
     "ename": "NameError",
     "evalue": "name 'datagen' is not defined",
     "output_type": "error",
     "traceback": [
      "\u001b[1;31m---------------------------------------------------------------------------\u001b[0m",
      "\u001b[1;31mNameError\u001b[0m                                 Traceback (most recent call last)",
      "\u001b[1;32m<ipython-input-29-5e6c5a424b62>\u001b[0m in \u001b[0;36m<module>\u001b[1;34m\u001b[0m\n\u001b[0;32m      1\u001b[0m \u001b[1;32mimport\u001b[0m \u001b[0mtensorflow\u001b[0m \u001b[1;32mas\u001b[0m \u001b[0mtf\u001b[0m\u001b[1;33m\u001b[0m\u001b[1;33m\u001b[0m\u001b[0m\n\u001b[0;32m      2\u001b[0m \u001b[1;33m\u001b[0m\u001b[0m\n\u001b[1;32m----> 3\u001b[1;33m \u001b[0mscore\u001b[0m \u001b[1;33m=\u001b[0m \u001b[0mdatagen\u001b[0m\u001b[1;33m.\u001b[0m\u001b[0mevaluate\u001b[0m\u001b[1;33m(\u001b[0m\u001b[0mx_test\u001b[0m\u001b[1;33m,\u001b[0m \u001b[0my_test\u001b[0m\u001b[1;33m,\u001b[0m \u001b[0mverbose\u001b[0m\u001b[1;33m=\u001b[0m\u001b[1;36m0\u001b[0m\u001b[1;33m)\u001b[0m\u001b[1;33m\u001b[0m\u001b[1;33m\u001b[0m\u001b[0m\n\u001b[0m",
      "\u001b[1;31mNameError\u001b[0m: name 'datagen' is not defined"
     ]
    }
   ],
   "source": []
  },
  {
   "cell_type": "markdown",
   "metadata": {},
   "source": [
    "문제       \n",
    "1.accuracy graph를 출력해보시오       \n",
    "2.이미지 cat, dog 를 다운로드 한 다음 위의 모델로 예측해 보시오"
   ]
  },
  {
   "cell_type": "code",
   "execution_count": 30,
   "metadata": {},
   "outputs": [
    {
     "ename": "NameError",
     "evalue": "name 'history' is not defined",
     "output_type": "error",
     "traceback": [
      "\u001b[1;31m---------------------------------------------------------------------------\u001b[0m",
      "\u001b[1;31mNameError\u001b[0m                                 Traceback (most recent call last)",
      "\u001b[1;32m<ipython-input-30-b0efccb3e971>\u001b[0m in \u001b[0;36m<module>\u001b[1;34m\u001b[0m\n\u001b[1;32m----> 1\u001b[1;33m \u001b[0mplt\u001b[0m\u001b[1;33m.\u001b[0m\u001b[0mplot\u001b[0m\u001b[1;33m(\u001b[0m\u001b[0mhistory\u001b[0m\u001b[1;33m.\u001b[0m\u001b[0mhistory\u001b[0m\u001b[1;33m[\u001b[0m\u001b[1;34m'accuracy'\u001b[0m\u001b[1;33m]\u001b[0m\u001b[1;33m)\u001b[0m\u001b[1;33m\u001b[0m\u001b[1;33m\u001b[0m\u001b[0m\n\u001b[0m\u001b[0;32m      2\u001b[0m \u001b[0mplt\u001b[0m\u001b[1;33m.\u001b[0m\u001b[0mplot\u001b[0m\u001b[1;33m(\u001b[0m\u001b[0mhistory\u001b[0m\u001b[1;33m.\u001b[0m\u001b[0mhistory\u001b[0m\u001b[1;33m[\u001b[0m\u001b[1;34m'val_acc'\u001b[0m\u001b[1;33m]\u001b[0m\u001b[1;33m)\u001b[0m\u001b[1;33m\u001b[0m\u001b[1;33m\u001b[0m\u001b[0m\n\u001b[0;32m      3\u001b[0m \u001b[0mplt\u001b[0m\u001b[1;33m.\u001b[0m\u001b[0mtitle\u001b[0m\u001b[1;33m(\u001b[0m\u001b[1;34m'model accuracy'\u001b[0m\u001b[1;33m)\u001b[0m\u001b[1;33m\u001b[0m\u001b[1;33m\u001b[0m\u001b[0m\n\u001b[0;32m      4\u001b[0m \u001b[0mplt\u001b[0m\u001b[1;33m.\u001b[0m\u001b[0mylabel\u001b[0m\u001b[1;33m(\u001b[0m\u001b[1;34m'accuracy'\u001b[0m\u001b[1;33m)\u001b[0m\u001b[1;33m\u001b[0m\u001b[1;33m\u001b[0m\u001b[0m\n\u001b[0;32m      5\u001b[0m \u001b[0mplt\u001b[0m\u001b[1;33m.\u001b[0m\u001b[0mxlabel\u001b[0m\u001b[1;33m(\u001b[0m\u001b[1;34m'epoch'\u001b[0m\u001b[1;33m)\u001b[0m\u001b[1;33m\u001b[0m\u001b[1;33m\u001b[0m\u001b[0m\n",
      "\u001b[1;31mNameError\u001b[0m: name 'history' is not defined"
     ]
    }
   ],
   "source": [
    "plt.plot(history.history['accuracy'])\n",
    "plt.plot(history.history['val_acc'])\n",
    "plt.title('model accuracy')\n",
    "plt.ylabel('accuracy')\n",
    "plt.xlabel('epoch')\n",
    "plt.legend(['train', 'test'], loc = 'upper left')\n",
    "plt.show()"
   ]
  },
  {
   "cell_type": "code",
   "execution_count": 45,
   "metadata": {},
   "outputs": [
    {
     "name": "stderr",
     "output_type": "stream",
     "text": [
      "Using TensorFlow backend.\n"
     ]
    },
    {
     "ename": "AttributeError",
     "evalue": "module 'tensorflow' has no attribute 'name_scope'",
     "output_type": "error",
     "traceback": [
      "\u001b[1;31m---------------------------------------------------------------------------\u001b[0m",
      "\u001b[1;31mAttributeError\u001b[0m                            Traceback (most recent call last)",
      "\u001b[1;32m<ipython-input-45-fc2a9a988222>\u001b[0m in \u001b[0;36m<module>\u001b[1;34m\u001b[0m\n\u001b[0;32m      2\u001b[0m \u001b[1;32mfrom\u001b[0m \u001b[0mimageio\u001b[0m \u001b[1;32mimport\u001b[0m \u001b[0mimread\u001b[0m\u001b[1;33m\u001b[0m\u001b[1;33m\u001b[0m\u001b[0m\n\u001b[0;32m      3\u001b[0m \u001b[1;32mfrom\u001b[0m \u001b[0mskimage\u001b[0m\u001b[1;33m.\u001b[0m\u001b[0mtransform\u001b[0m \u001b[1;32mimport\u001b[0m \u001b[0mresize\u001b[0m\u001b[1;33m\u001b[0m\u001b[1;33m\u001b[0m\u001b[0m\n\u001b[1;32m----> 4\u001b[1;33m \u001b[1;32mfrom\u001b[0m \u001b[0mkeras\u001b[0m\u001b[1;33m.\u001b[0m\u001b[0mmodels\u001b[0m \u001b[1;32mimport\u001b[0m \u001b[0mmodel_from_json\u001b[0m\u001b[1;33m\u001b[0m\u001b[1;33m\u001b[0m\u001b[0m\n\u001b[0m\u001b[0;32m      5\u001b[0m \u001b[0mimg_names\u001b[0m \u001b[1;33m=\u001b[0m \u001b[1;33m[\u001b[0m\u001b[1;34m'cat.jpg'\u001b[0m\u001b[1;33m,\u001b[0m \u001b[1;34m'dog.jpg'\u001b[0m\u001b[1;33m]\u001b[0m\u001b[1;33m\u001b[0m\u001b[1;33m\u001b[0m\u001b[0m\n\u001b[0;32m      6\u001b[0m imgs = [resize(imread(img_name), (32, 32)).astype('float32')\n",
      "\u001b[1;32m~\\Anaconda3\\lib\\site-packages\\keras\\__init__.py\u001b[0m in \u001b[0;36m<module>\u001b[1;34m\u001b[0m\n\u001b[0;32m      1\u001b[0m \u001b[1;32mfrom\u001b[0m \u001b[0m__future__\u001b[0m \u001b[1;32mimport\u001b[0m \u001b[0mabsolute_import\u001b[0m\u001b[1;33m\u001b[0m\u001b[1;33m\u001b[0m\u001b[0m\n\u001b[0;32m      2\u001b[0m \u001b[1;33m\u001b[0m\u001b[0m\n\u001b[1;32m----> 3\u001b[1;33m \u001b[1;32mfrom\u001b[0m \u001b[1;33m.\u001b[0m \u001b[1;32mimport\u001b[0m \u001b[0mutils\u001b[0m\u001b[1;33m\u001b[0m\u001b[1;33m\u001b[0m\u001b[0m\n\u001b[0m\u001b[0;32m      4\u001b[0m \u001b[1;32mfrom\u001b[0m \u001b[1;33m.\u001b[0m \u001b[1;32mimport\u001b[0m \u001b[0mactivations\u001b[0m\u001b[1;33m\u001b[0m\u001b[1;33m\u001b[0m\u001b[0m\n\u001b[0;32m      5\u001b[0m \u001b[1;32mfrom\u001b[0m \u001b[1;33m.\u001b[0m \u001b[1;32mimport\u001b[0m \u001b[0mapplications\u001b[0m\u001b[1;33m\u001b[0m\u001b[1;33m\u001b[0m\u001b[0m\n",
      "\u001b[1;32m~\\Anaconda3\\lib\\site-packages\\keras\\utils\\__init__.py\u001b[0m in \u001b[0;36m<module>\u001b[1;34m\u001b[0m\n\u001b[0;32m      4\u001b[0m \u001b[1;32mfrom\u001b[0m \u001b[1;33m.\u001b[0m \u001b[1;32mimport\u001b[0m \u001b[0mdata_utils\u001b[0m\u001b[1;33m\u001b[0m\u001b[1;33m\u001b[0m\u001b[0m\n\u001b[0;32m      5\u001b[0m \u001b[1;32mfrom\u001b[0m \u001b[1;33m.\u001b[0m \u001b[1;32mimport\u001b[0m \u001b[0mio_utils\u001b[0m\u001b[1;33m\u001b[0m\u001b[1;33m\u001b[0m\u001b[0m\n\u001b[1;32m----> 6\u001b[1;33m \u001b[1;32mfrom\u001b[0m \u001b[1;33m.\u001b[0m \u001b[1;32mimport\u001b[0m \u001b[0mconv_utils\u001b[0m\u001b[1;33m\u001b[0m\u001b[1;33m\u001b[0m\u001b[0m\n\u001b[0m\u001b[0;32m      7\u001b[0m \u001b[1;32mfrom\u001b[0m \u001b[1;33m.\u001b[0m \u001b[1;32mimport\u001b[0m \u001b[0mlosses_utils\u001b[0m\u001b[1;33m\u001b[0m\u001b[1;33m\u001b[0m\u001b[0m\n\u001b[0;32m      8\u001b[0m \u001b[1;32mfrom\u001b[0m \u001b[1;33m.\u001b[0m \u001b[1;32mimport\u001b[0m \u001b[0mmetrics_utils\u001b[0m\u001b[1;33m\u001b[0m\u001b[1;33m\u001b[0m\u001b[0m\n",
      "\u001b[1;32m~\\Anaconda3\\lib\\site-packages\\keras\\utils\\conv_utils.py\u001b[0m in \u001b[0;36m<module>\u001b[1;34m\u001b[0m\n\u001b[0;32m      7\u001b[0m \u001b[1;32mfrom\u001b[0m \u001b[0msix\u001b[0m\u001b[1;33m.\u001b[0m\u001b[0mmoves\u001b[0m \u001b[1;32mimport\u001b[0m \u001b[0mrange\u001b[0m\u001b[1;33m\u001b[0m\u001b[1;33m\u001b[0m\u001b[0m\n\u001b[0;32m      8\u001b[0m \u001b[1;32mimport\u001b[0m \u001b[0mnumpy\u001b[0m \u001b[1;32mas\u001b[0m \u001b[0mnp\u001b[0m\u001b[1;33m\u001b[0m\u001b[1;33m\u001b[0m\u001b[0m\n\u001b[1;32m----> 9\u001b[1;33m \u001b[1;32mfrom\u001b[0m \u001b[1;33m.\u001b[0m\u001b[1;33m.\u001b[0m \u001b[1;32mimport\u001b[0m \u001b[0mbackend\u001b[0m \u001b[1;32mas\u001b[0m \u001b[0mK\u001b[0m\u001b[1;33m\u001b[0m\u001b[1;33m\u001b[0m\u001b[0m\n\u001b[0m\u001b[0;32m     10\u001b[0m \u001b[1;33m\u001b[0m\u001b[0m\n\u001b[0;32m     11\u001b[0m \u001b[1;33m\u001b[0m\u001b[0m\n",
      "\u001b[1;32m~\\Anaconda3\\lib\\site-packages\\keras\\backend\\__init__.py\u001b[0m in \u001b[0;36m<module>\u001b[1;34m\u001b[0m\n\u001b[1;32m----> 1\u001b[1;33m \u001b[1;32mfrom\u001b[0m \u001b[1;33m.\u001b[0m\u001b[0mload_backend\u001b[0m \u001b[1;32mimport\u001b[0m \u001b[0mepsilon\u001b[0m\u001b[1;33m\u001b[0m\u001b[1;33m\u001b[0m\u001b[0m\n\u001b[0m\u001b[0;32m      2\u001b[0m \u001b[1;32mfrom\u001b[0m \u001b[1;33m.\u001b[0m\u001b[0mload_backend\u001b[0m \u001b[1;32mimport\u001b[0m \u001b[0mset_epsilon\u001b[0m\u001b[1;33m\u001b[0m\u001b[1;33m\u001b[0m\u001b[0m\n\u001b[0;32m      3\u001b[0m \u001b[1;32mfrom\u001b[0m \u001b[1;33m.\u001b[0m\u001b[0mload_backend\u001b[0m \u001b[1;32mimport\u001b[0m \u001b[0mfloatx\u001b[0m\u001b[1;33m\u001b[0m\u001b[1;33m\u001b[0m\u001b[0m\n\u001b[0;32m      4\u001b[0m \u001b[1;32mfrom\u001b[0m \u001b[1;33m.\u001b[0m\u001b[0mload_backend\u001b[0m \u001b[1;32mimport\u001b[0m \u001b[0mset_floatx\u001b[0m\u001b[1;33m\u001b[0m\u001b[1;33m\u001b[0m\u001b[0m\n\u001b[0;32m      5\u001b[0m \u001b[1;32mfrom\u001b[0m \u001b[1;33m.\u001b[0m\u001b[0mload_backend\u001b[0m \u001b[1;32mimport\u001b[0m \u001b[0mcast_to_floatx\u001b[0m\u001b[1;33m\u001b[0m\u001b[1;33m\u001b[0m\u001b[0m\n",
      "\u001b[1;32m~\\Anaconda3\\lib\\site-packages\\keras\\backend\\load_backend.py\u001b[0m in \u001b[0;36m<module>\u001b[1;34m\u001b[0m\n\u001b[0;32m     88\u001b[0m \u001b[1;32melif\u001b[0m \u001b[0m_BACKEND\u001b[0m \u001b[1;33m==\u001b[0m \u001b[1;34m'tensorflow'\u001b[0m\u001b[1;33m:\u001b[0m\u001b[1;33m\u001b[0m\u001b[1;33m\u001b[0m\u001b[0m\n\u001b[0;32m     89\u001b[0m     \u001b[0msys\u001b[0m\u001b[1;33m.\u001b[0m\u001b[0mstderr\u001b[0m\u001b[1;33m.\u001b[0m\u001b[0mwrite\u001b[0m\u001b[1;33m(\u001b[0m\u001b[1;34m'Using TensorFlow backend.\\n'\u001b[0m\u001b[1;33m)\u001b[0m\u001b[1;33m\u001b[0m\u001b[1;33m\u001b[0m\u001b[0m\n\u001b[1;32m---> 90\u001b[1;33m     \u001b[1;32mfrom\u001b[0m \u001b[1;33m.\u001b[0m\u001b[0mtensorflow_backend\u001b[0m \u001b[1;32mimport\u001b[0m \u001b[1;33m*\u001b[0m\u001b[1;33m\u001b[0m\u001b[1;33m\u001b[0m\u001b[0m\n\u001b[0m\u001b[0;32m     91\u001b[0m \u001b[1;32melse\u001b[0m\u001b[1;33m:\u001b[0m\u001b[1;33m\u001b[0m\u001b[1;33m\u001b[0m\u001b[0m\n\u001b[0;32m     92\u001b[0m     \u001b[1;31m# Try and load external backend.\u001b[0m\u001b[1;33m\u001b[0m\u001b[1;33m\u001b[0m\u001b[1;33m\u001b[0m\u001b[0m\n",
      "\u001b[1;32m~\\Anaconda3\\lib\\site-packages\\keras\\backend\\tensorflow_backend.py\u001b[0m in \u001b[0;36m<module>\u001b[1;34m\u001b[0m\n\u001b[0;32m     54\u001b[0m \u001b[0mget_graph\u001b[0m \u001b[1;33m=\u001b[0m \u001b[0mtf_keras_backend\u001b[0m\u001b[1;33m.\u001b[0m\u001b[0mget_graph\u001b[0m\u001b[1;33m\u001b[0m\u001b[1;33m\u001b[0m\u001b[0m\n\u001b[0;32m     55\u001b[0m \u001b[1;31m# learning_phase_scope = tf_keras_backend.learning_phase_scope  # TODO\u001b[0m\u001b[1;33m\u001b[0m\u001b[1;33m\u001b[0m\u001b[1;33m\u001b[0m\u001b[0m\n\u001b[1;32m---> 56\u001b[1;33m \u001b[0mname_scope\u001b[0m \u001b[1;33m=\u001b[0m \u001b[0mtf\u001b[0m\u001b[1;33m.\u001b[0m\u001b[0mname_scope\u001b[0m\u001b[1;33m\u001b[0m\u001b[1;33m\u001b[0m\u001b[0m\n\u001b[0m\u001b[0;32m     57\u001b[0m \u001b[1;33m\u001b[0m\u001b[0m\n\u001b[0;32m     58\u001b[0m \u001b[1;33m\u001b[0m\u001b[0m\n",
      "\u001b[1;31mAttributeError\u001b[0m: module 'tensorflow' has no attribute 'name_scope'"
     ]
    }
   ],
   "source": [
    "import numpy as np\n",
    "from imageio import imread\n",
    "from skimage.transform import resize\n",
    "from keras.models import model_from_json\n",
    "img_names = ['cat.jpg', 'dog.jpg']\n",
    "imgs = [resize(imread(img_name), (32, 32)).astype('float32')\n",
    "       for img_name in img_names]\n",
    "imgs = np.array(imgs) /255\n",
    "predictions = model.predict_classese(imgs)\n",
    "print(predictions)"
   ]
  },
  {
   "cell_type": "code",
   "execution_count": null,
   "metadata": {},
   "outputs": [],
   "source": []
  },
  {
   "cell_type": "code",
   "execution_count": null,
   "metadata": {},
   "outputs": [],
   "source": []
  },
  {
   "cell_type": "code",
   "execution_count": null,
   "metadata": {},
   "outputs": [],
   "source": [
    "# 전이 (transfer learning) 학습 Application\n",
    "- 반지도 학습 ( 일부 데이터의 라벨이 없음): KNN, Trenductive SVM\n",
    "- (이미 남이 만들어진 가중치)\n",
    "- 가중치 활용 : 그대로 적용\n",
    "- 가중치 중 일부만 활용\n",
    "- FFNN 부분만 학습해서 사용"
   ]
  },
  {
   "cell_type": "code",
   "execution_count": null,
   "metadata": {},
   "outputs": [],
   "source": [
    "# pre-trained, fine-tuning(FFNN 부분만 특정 Domain knowledge)"
   ]
  },
  {
   "cell_type": "code",
   "execution_count": null,
   "metadata": {},
   "outputs": [],
   "source": []
  },
  {
   "cell_type": "code",
   "execution_count": 16,
   "metadata": {},
   "outputs": [
    {
     "name": "stdout",
     "output_type": "stream",
     "text": [
      "PIL image size (224, 224)\n"
     ]
    },
    {
     "data": {
      "image/png": "[encoded data removed]",
      "text/plain": [
       "<Figure size 432x288 with 1 Axes>"
      ]
     },
     "metadata": {
      "needs_background": "light"
     },
     "output_type": "display_data"
    },
    {
     "name": "stdout",
     "output_type": "stream",
     "text": [
      "numpy array size (224, 224, 3)\n",
      "image array size (1, 224, 224, 3)\n",
      "Downloading data from https://github.com/fchollet/deep-learning-models/releases/download/v0.2/resnet50_weights_tf_dim_ordering_tf_kernels.h5\n",
      "102858752/102853048 [==============================] - 12s 0us/step\n",
      "WARNING:tensorflow:From C:\\Users\\ICT01_09\\Anaconda3\\envs\\tf_test\\lib\\site-packages\\keras\\backend\\tensorflow_backend.py:422: The name tf.global_variables is deprecated. Please use tf.compat.v1.global_variables instead.\n",
      "\n",
      "[[('n07753592', 'banana', 0.9993026), ('n07749582', 'lemon', 0.00014120796), ('n07716358', 'zucchini', 0.00013493975), ('n07720875', 'bell_pepper', 7.893238e-05), ('n07747607', 'orange', 7.704725e-05)]]\n"
     ]
    },
    {
     "data": {
      "image/png": "[encoded data removed]",
      "text/plain": [
       "<Figure size 432x288 with 1 Axes>"
      ]
     },
     "metadata": {
      "needs_background": "light"
     },
     "output_type": "display_data"
    }
   ],
   "source": [
    "import PIL\n",
    "from keras.preprocessing.image import load_img, img_to_array\n",
    "from keras.applications.imagenet_utils import decode_predictions\n",
    "import numpy as np\n",
    "from keras.applications.resnet50 import ResNet50\n",
    "from keras.applications import resnet50\n",
    "filename = 'banana.jpg'\n",
    "original = load_img(filename, target_size=(224,224))\n",
    "print('PIL image size', original.size)\n",
    "plt.imshow(original)\n",
    "plt.show()\n",
    "numpy_image = img_to_array(original)\n",
    "plt.imshow(np.uint8(numpy_image))\n",
    "print('numpy array size' , numpy_image.shape)\n",
    "image_batch=np.expand_dims(numpy_image, axis=0)\n",
    "print('image array size' , image_batch.shape)\n",
    "#prepare the image for the resnet50 model\n",
    "precessed_image = resnet50.preprocess_input(image_batch.copy())\n",
    "resnet_model = resnet50.ResNet50(weights = 'imagenet')\n",
    "predictions = resnet_model.predict(precessed_image)\n",
    "label = decode_predictions(predictions)\n",
    "print(label)"
   ]
  },
  {
   "cell_type": "code",
   "execution_count": null,
   "metadata": {},
   "outputs": [],
   "source": [
    "# tf.keras\n",
    "# fine-tuning : FFNN 부분만 학습\n",
    "# "
   ]
  },
  {
   "cell_type": "code",
   "execution_count": 37,
   "metadata": {},
   "outputs": [],
   "source": [
    "from numpy.random import randn\n",
    "import pathlib\n",
    "import random\n",
    "import matplotlib.pyplot as plt\n",
    "import tensorflow as tf\n",
    "import numpy as np\n",
    "from matplotlib.image import imread\n",
    "from keras.preprocessing import image\n",
    "\n",
    "#assert tf.executing_eagerly()\n",
    "#tf.enable_eager_execution()\n",
    "AUTOTUNE = tf.data.experimental.AUTOTUNE\n",
    "\n",
    "data_dir = 'C:/Users/ICT01_09/Documents/jeju_h/전달/flowers/flower_photos'\n",
    "data_dir = pathlib.Path(data_dir)\n",
    "label_names ={'daisy':0,'dandelion':1,'roses':2,'sunflowers':3,'tulips':4}\n",
    "label_key=['daisy','dandelion','roses','sunflowers','tulips']"
   ]
  },
  {
   "cell_type": "code",
   "execution_count": 38,
   "metadata": {},
   "outputs": [],
   "source": [
    "all_images = list(data_dir.glob('*/*'))  # 파일명 로딩\n",
    "all_images = [str(path) for path in all_images]\n",
    "random.shuffle(all_images)\n",
    "\n",
    "# 이미지 주소 라벨 할당\n",
    "# 디렉토리의 경로를 관리하는 라이브러리\n",
    "all_labels=[label_names[pathlib.Path(path).parent.name] for path in all_images]\n",
    "data_size = len(all_images)\n",
    "\n",
    "train_test_split=(int)(data_size*0.2)  # 20 : 80 \n",
    "\n",
    "x_train = all_images[train_test_split:]\n",
    "x_test = all_images[:train_test_split]\n",
    "y_train = all_labels[train_test_split:]\n",
    "y_test = all_labels[:train_test_split]\n",
    "\n",
    "img_size = 160\n",
    "batch_size = 32"
   ]
  },
  {
   "cell_type": "code",
   "execution_count": 40,
   "metadata": {},
   "outputs": [],
   "source": [
    "def _parse_data(x,y):\n",
    "    image = tf.read_file(x)  # 파일에는 헤더파일(압축방법)\n",
    "    image = tf.image.decode_jpeg(image, channels= 3)  # color\n",
    "    image = tf.cast(image,tf.float32)  \n",
    "    image = (image/127.5) -1   # 이미지를 절반으로 나누면 0~2 -1 => -1~1 사이로 만들어주려고\n",
    "    # 이미지 사이즈 통일 160x160\n",
    "    image = tf.image.resize(image, (img_size, img_size))\n",
    "    return image,y \n",
    "\n",
    "def _input_fn(x,y):\n",
    "    # 가장 기본단위 요소로 분해\n",
    "    ds = tf.data.Dataset.from_tensor_slices((x,y))\n",
    "    # from_tensor_slices  : dataset을 생성\n",
    "    \n",
    "    ds = ds.map(_parse_data)\n",
    "    # map : 함수를 적용할때 (데이터마다)\n",
    "    \n",
    "    # buffer : 거쳐가는 기억공간\n",
    "    ds = ds.shuffle(buffer_size=data_size) # 데이터가 shuffle 될ㄹ수 있는 충분한 공간확보\n",
    "    ds = ds.repeat()  # 데이터가 부족하면 처음부터 다시 시작하기 위해서 리핏\n",
    "    ds = ds.batch(batch_size) # 미니배치\n",
    "    ds = ds.prefetch(buffer_size=AUTOTUNE)  # 미니배치 사이즈를 어떤 사이즈(몇배)가 유리할지 결정은 자동으로 결정해라\n",
    "    return ds                               # 32(미니배치)x3(자동)  ..or 32x5...  etc\n",
    "\n",
    "train_ds = _input_fn(x_train,y_train)\n",
    "validation_ds = _input_fn(x_test, y_test)"
   ]
  },
  {
   "cell_type": "code",
   "execution_count": 42,
   "metadata": {},
   "outputs": [
    {
     "name": "stdout",
     "output_type": "stream",
     "text": [
      "WARNING:tensorflow:From C:\\Users\\ICT01_09\\Anaconda3\\envs\\tf_test\\lib\\site-packages\\tensorflow\\python\\ops\\init_ops.py:1251: calling VarianceScaling.__init__ (from tensorflow.python.ops.init_ops) with dtype is deprecated and will be removed in a future version.\n",
      "Instructions for updating:\n",
      "Call initializer instance with the dtype argument instead of passing it to the constructor\n",
      "Downloading data from https://github.com/fchollet/deep-learning-models/releases/download/v0.1/vgg16_weights_tf_dim_ordering_tf_kernels_notop.h5\n",
      "58892288/58889256 [==============================] - 18s 0us/step\n"
     ]
    }
   ],
   "source": [
    "IMG_SHAPE = (img_size,img_size,3)\n",
    "# include_top = flase : \n",
    "VGG16_MODEL = tf.keras.applications.VGG16(input_shape = IMG_SHAPE,\n",
    "                                         include_top=False,\n",
    "                                         weights='imagenet')\n",
    "\n",
    " # include_top=False : pooling 으로 1000개 분류하기 전에 모델셋팅 가져오기"
   ]
  },
  {
   "cell_type": "code",
   "execution_count": 44,
   "metadata": {},
   "outputs": [],
   "source": [
    "VGG16_MODEL.trainable =False\n",
    "# flatten 가중치 -> false  니까 학습안한다는 뜻\n",
    "\n",
    "global_average_layer = tf.keras.layers.GlobalAveragePooling2D()\n",
    "# ffnn 의 가중치는 학습\n",
    "prediction_layer = tf.keras.layers.Dense(len(label_names),activation='softmax')"
   ]
  },
  {
   "cell_type": "code",
   "execution_count": 45,
   "metadata": {},
   "outputs": [],
   "source": [
    "model = tf.keras.Sequential([ VGG16_MODEL, global_average_layer, prediction_layer])\n",
    "\n",
    "# model (vgg16 가중치 + ffnn 가중치 학습)"
   ]
  },
  {
   "cell_type": "code",
   "execution_count": 46,
   "metadata": {},
   "outputs": [],
   "source": [
    "# tf.train.AdamOptimizer()\n",
    "# sparse : 희소행렬 (많은 걸 나눌때)\n",
    "# 00000000000000000000000000000000000000000000000000000000000000000000000000000000000000000000000000000000001000000000000000 \n",
    "# 열개로 나눌때는 희소가 아님(천개정도 나눌때가 희소)\n",
    "# 0000000100   <- 희소 아님\n",
    "\n",
    "model.compile(optimizer = tf.train.AdamOptimizer(), loss = tf.keras.losses.sparse_categorical_crossentropy, metrics = ['accuracy'])"
   ]
  },
  {
   "cell_type": "code",
   "execution_count": 49,
   "metadata": {},
   "outputs": [
    {
     "name": "stdout",
     "output_type": "stream",
     "text": [
      "Epoch 1/100\n",
      "2/2 [==============================] - 17s 8s/step - loss: 1.6296 - acc: 0.1562\n",
      "Epoch 2/100\n",
      "2/2 [==============================] - 9s 4s/step - loss: 1.6474 - acc: 0.1250\n",
      "Epoch 3/100\n",
      "2/2 [==============================] - 9s 4s/step - loss: 1.6268 - acc: 0.2969\n",
      "Epoch 4/100\n",
      "2/2 [==============================] - 9s 4s/step - loss: 1.5894 - acc: 0.2969\n",
      "Epoch 5/100\n",
      "2/2 [==============================] - 9s 4s/step - loss: 1.5949 - acc: 0.2969\n",
      "Epoch 6/100\n",
      "2/2 [==============================] - 9s 4s/step - loss: 1.5719 - acc: 0.3750\n",
      "Epoch 7/100\n",
      "2/2 [==============================] - 9s 4s/step - loss: 1.6015 - acc: 0.2969\n",
      "Epoch 8/100\n",
      "2/2 [==============================] - 9s 4s/step - loss: 1.4813 - acc: 0.4219\n",
      "Epoch 9/100\n",
      "2/2 [==============================] - 8s 4s/step - loss: 1.4622 - acc: 0.4688\n",
      "Epoch 10/100\n",
      "2/2 [==============================] - 9s 4s/step - loss: 1.5065 - acc: 0.3750\n",
      "Epoch 11/100\n",
      "2/2 [==============================] - 8s 4s/step - loss: 1.4605 - acc: 0.4531\n",
      "Epoch 12/100\n",
      "2/2 [==============================] - 9s 4s/step - loss: 1.4646 - acc: 0.4219\n",
      "Epoch 13/100\n",
      "2/2 [==============================] - 9s 4s/step - loss: 1.4325 - acc: 0.4531\n",
      "Epoch 14/100\n",
      "2/2 [==============================] - 9s 4s/step - loss: 1.5126 - acc: 0.3594\n",
      "Epoch 15/100\n",
      "2/2 [==============================] - 9s 4s/step - loss: 1.4392 - acc: 0.5000\n",
      "Epoch 16/100\n",
      "2/2 [==============================] - 9s 4s/step - loss: 1.4776 - acc: 0.4062\n",
      "Epoch 17/100\n",
      "2/2 [==============================] - 9s 4s/step - loss: 1.4267 - acc: 0.4531\n",
      "Epoch 18/100\n",
      "2/2 [==============================] - 9s 4s/step - loss: 1.4028 - acc: 0.4844\n",
      "Epoch 19/100\n",
      "2/2 [==============================] - 9s 4s/step - loss: 1.4509 - acc: 0.4219\n",
      "Epoch 20/100\n",
      "2/2 [==============================] - 9s 4s/step - loss: 1.3793 - acc: 0.5625\n",
      "Epoch 21/100\n",
      "2/2 [==============================] - 9s 4s/step - loss: 1.3324 - acc: 0.5469\n",
      "Epoch 22/100\n",
      "2/2 [==============================] - 9s 4s/step - loss: 1.3806 - acc: 0.5469\n",
      "Epoch 23/100\n",
      "2/2 [==============================] - 9s 4s/step - loss: 1.3011 - acc: 0.6406\n",
      "Epoch 24/100\n",
      "2/2 [==============================] - 9s 4s/step - loss: 1.3628 - acc: 0.5781\n",
      "Epoch 25/100\n",
      "2/2 [==============================] - 9s 4s/step - loss: 1.3375 - acc: 0.5469\n",
      "Epoch 26/100\n",
      "2/2 [==============================] - 9s 4s/step - loss: 1.3646 - acc: 0.4844\n",
      "Epoch 27/100\n",
      "2/2 [==============================] - 9s 4s/step - loss: 1.3670 - acc: 0.5000\n",
      "Epoch 28/100\n",
      "2/2 [==============================] - 9s 4s/step - loss: 1.3335 - acc: 0.6250\n",
      "Epoch 29/100\n",
      "2/2 [==============================] - 9s 4s/step - loss: 1.3319 - acc: 0.5156\n",
      "Epoch 30/100\n",
      "2/2 [==============================] - 9s 4s/step - loss: 1.2620 - acc: 0.5312\n",
      "Epoch 31/100\n",
      "2/2 [==============================] - 9s 4s/step - loss: 1.2917 - acc: 0.5156\n",
      "Epoch 32/100\n",
      "2/2 [==============================] - 9s 4s/step - loss: 1.3069 - acc: 0.5469\n",
      "Epoch 33/100\n",
      "2/2 [==============================] - 9s 4s/step - loss: 1.2548 - acc: 0.5938\n",
      "Epoch 34/100\n",
      "2/2 [==============================] - 9s 4s/step - loss: 1.2956 - acc: 0.5000\n",
      "Epoch 35/100\n",
      "2/2 [==============================] - 9s 4s/step - loss: 1.1825 - acc: 0.6719\n",
      "Epoch 36/100\n",
      "2/2 [==============================] - 9s 4s/step - loss: 1.1546 - acc: 0.6406\n",
      "Epoch 37/100\n",
      "2/2 [==============================] - 9s 4s/step - loss: 1.2398 - acc: 0.6406\n",
      "Epoch 38/100\n",
      "2/2 [==============================] - 8s 4s/step - loss: 1.2308 - acc: 0.5469\n",
      "Epoch 39/100\n",
      "2/2 [==============================] - 9s 4s/step - loss: 1.1313 - acc: 0.6406\n",
      "Epoch 40/100\n",
      "2/2 [==============================] - 9s 4s/step - loss: 1.2048 - acc: 0.5625\n",
      "Epoch 41/100\n",
      "2/2 [==============================] - 9s 4s/step - loss: 1.2466 - acc: 0.6250\n",
      "Epoch 42/100\n",
      "2/2 [==============================] - 9s 4s/step - loss: 1.2436 - acc: 0.6406\n",
      "Epoch 43/100\n",
      "2/2 [==============================] - 9s 4s/step - loss: 1.2387 - acc: 0.5938\n",
      "Epoch 44/100\n",
      "2/2 [==============================] - 9s 4s/step - loss: 1.1327 - acc: 0.7031\n",
      "Epoch 45/100\n",
      "2/2 [==============================] - 9s 4s/step - loss: 1.2123 - acc: 0.6562\n",
      "Epoch 46/100\n",
      "2/2 [==============================] - 9s 4s/step - loss: 1.1671 - acc: 0.6250\n",
      "Epoch 47/100\n",
      "2/2 [==============================] - 8s 4s/step - loss: 1.2558 - acc: 0.5781\n",
      "Epoch 48/100\n",
      "2/2 [==============================] - 9s 4s/step - loss: 1.0746 - acc: 0.7500\n",
      "Epoch 49/100\n",
      "2/2 [==============================] - 9s 4s/step - loss: 1.2107 - acc: 0.6094\n",
      "Epoch 50/100\n",
      "2/2 [==============================] - 9s 4s/step - loss: 1.1149 - acc: 0.7031\n",
      "Epoch 51/100\n",
      "2/2 [==============================] - 9s 4s/step - loss: 1.1088 - acc: 0.7344\n",
      "Epoch 52/100\n",
      "2/2 [==============================] - 9s 4s/step - loss: 1.1322 - acc: 0.6875\n",
      "Epoch 53/100\n",
      "2/2 [==============================] - 9s 4s/step - loss: 1.0704 - acc: 0.7188\n",
      "Epoch 54/100\n",
      "2/2 [==============================] - 9s 4s/step - loss: 1.1957 - acc: 0.5625\n",
      "Epoch 55/100\n",
      "2/2 [==============================] - 9s 4s/step - loss: 1.0279 - acc: 0.7812\n",
      "Epoch 56/100\n",
      "2/2 [==============================] - 9s 4s/step - loss: 1.1685 - acc: 0.6094\n",
      "Epoch 57/100\n",
      "2/2 [==============================] - 9s 4s/step - loss: 1.0759 - acc: 0.6094\n",
      "Epoch 58/100\n",
      "2/2 [==============================] - 9s 4s/step - loss: 1.0929 - acc: 0.6719\n",
      "Epoch 59/100\n",
      "2/2 [==============================] - 9s 4s/step - loss: 1.0346 - acc: 0.6719\n",
      "Epoch 60/100\n",
      "2/2 [==============================] - 9s 4s/step - loss: 1.0881 - acc: 0.6406\n",
      "Epoch 61/100\n",
      "2/2 [==============================] - 9s 4s/step - loss: 1.0438 - acc: 0.6562\n",
      "Epoch 62/100\n",
      "2/2 [==============================] - 9s 4s/step - loss: 0.9911 - acc: 0.7188\n",
      "Epoch 63/100\n",
      "2/2 [==============================] - 9s 4s/step - loss: 1.1528 - acc: 0.6250\n",
      "Epoch 64/100\n",
      "2/2 [==============================] - 9s 4s/step - loss: 1.1423 - acc: 0.6562\n",
      "Epoch 65/100\n",
      "2/2 [==============================] - 9s 4s/step - loss: 1.1057 - acc: 0.6094\n",
      "Epoch 66/100\n",
      "2/2 [==============================] - 9s 4s/step - loss: 1.0782 - acc: 0.7031\n",
      "Epoch 67/100\n",
      "2/2 [==============================] - 8s 4s/step - loss: 0.9433 - acc: 0.8125\n",
      "Epoch 68/100\n",
      "2/2 [==============================] - 9s 4s/step - loss: 0.9722 - acc: 0.8281\n",
      "Epoch 69/100\n",
      "2/2 [==============================] - 9s 4s/step - loss: 1.0285 - acc: 0.6875\n",
      "Epoch 70/100\n",
      "2/2 [==============================] - 9s 4s/step - loss: 1.0118 - acc: 0.7656\n",
      "Epoch 71/100\n",
      "2/2 [==============================] - 9s 4s/step - loss: 1.1326 - acc: 0.6250\n",
      "Epoch 72/100\n",
      "2/2 [==============================] - 9s 4s/step - loss: 1.0286 - acc: 0.6719\n",
      "Epoch 73/100\n",
      "2/2 [==============================] - 9s 4s/step - loss: 1.1258 - acc: 0.6250\n",
      "Epoch 74/100\n",
      "2/2 [==============================] - 8s 4s/step - loss: 0.9866 - acc: 0.7344\n",
      "Epoch 75/100\n",
      "2/2 [==============================] - 9s 4s/step - loss: 1.1556 - acc: 0.5781\n",
      "Epoch 76/100\n",
      "2/2 [==============================] - 9s 4s/step - loss: 1.0250 - acc: 0.6406\n",
      "Epoch 77/100\n",
      "2/2 [==============================] - 9s 4s/step - loss: 1.0023 - acc: 0.7031\n",
      "Epoch 78/100\n",
      "2/2 [==============================] - 9s 4s/step - loss: 0.9560 - acc: 0.7344\n",
      "Epoch 79/100\n",
      "2/2 [==============================] - 9s 4s/step - loss: 0.8812 - acc: 0.7812\n",
      "Epoch 80/100\n",
      "2/2 [==============================] - 9s 4s/step - loss: 0.9053 - acc: 0.7656\n",
      "Epoch 81/100\n",
      "2/2 [==============================] - 9s 4s/step - loss: 1.1319 - acc: 0.6094\n",
      "Epoch 82/100\n",
      "2/2 [==============================] - 9s 4s/step - loss: 0.9030 - acc: 0.7969\n",
      "Epoch 83/100\n",
      "2/2 [==============================] - 9s 4s/step - loss: 1.0251 - acc: 0.6406\n",
      "Epoch 84/100\n",
      "2/2 [==============================] - 9s 4s/step - loss: 0.9775 - acc: 0.7656\n",
      "Epoch 85/100\n",
      "2/2 [==============================] - 9s 4s/step - loss: 0.9918 - acc: 0.6875\n",
      "Epoch 86/100\n",
      "2/2 [==============================] - 9s 4s/step - loss: 0.8731 - acc: 0.7500\n",
      "Epoch 87/100\n",
      "2/2 [==============================] - 9s 4s/step - loss: 0.9981 - acc: 0.6562\n",
      "Epoch 88/100\n",
      "2/2 [==============================] - 9s 4s/step - loss: 1.1022 - acc: 0.6406\n",
      "Epoch 89/100\n",
      "2/2 [==============================] - 9s 4s/step - loss: 0.9950 - acc: 0.6719\n",
      "Epoch 90/100\n"
     ]
    },
    {
     "name": "stdout",
     "output_type": "stream",
     "text": [
      "2/2 [==============================] - 9s 4s/step - loss: 1.0588 - acc: 0.6250\n",
      "Epoch 91/100\n",
      "2/2 [==============================] - 9s 4s/step - loss: 0.7263 - acc: 0.8750\n",
      "Epoch 92/100\n",
      "2/2 [==============================] - 9s 4s/step - loss: 0.9093 - acc: 0.7500\n",
      "Epoch 93/100\n",
      "2/2 [==============================] - 9s 4s/step - loss: 0.9056 - acc: 0.7031\n",
      "Epoch 94/100\n",
      "2/2 [==============================] - 9s 4s/step - loss: 0.9070 - acc: 0.7500\n",
      "Epoch 95/100\n",
      "2/2 [==============================] - 8s 4s/step - loss: 1.0094 - acc: 0.7031\n",
      "Epoch 96/100\n",
      "2/2 [==============================] - 9s 4s/step - loss: 0.9370 - acc: 0.7031\n",
      "Epoch 97/100\n",
      "2/2 [==============================] - 9s 4s/step - loss: 1.0833 - acc: 0.5781\n",
      "Epoch 98/100\n",
      "2/2 [==============================] - 9s 4s/step - loss: 0.9153 - acc: 0.7188\n",
      "Epoch 99/100\n",
      "2/2 [==============================] - 8s 4s/step - loss: 0.8764 - acc: 0.7812\n",
      "Epoch 100/100\n",
      "2/2 [==============================] - 9s 4s/step - loss: 0.9731 - acc: 0.6719\n"
     ]
    }
   ],
   "source": [
    "history = model.fit(train_ds, epochs = 100, steps_per_epoch=2)"
   ]
  },
  {
   "cell_type": "code",
   "execution_count": 57,
   "metadata": {},
   "outputs": [
    {
     "ename": "KeyError",
     "evalue": "'val_accuracy'",
     "output_type": "error",
     "traceback": [
      "\u001b[1;31m---------------------------------------------------------------------------\u001b[0m",
      "\u001b[1;31mKeyError\u001b[0m                                  Traceback (most recent call last)",
      "\u001b[1;32m<ipython-input-57-fd3e52df845a>\u001b[0m in \u001b[0;36m<module>\u001b[1;34m\u001b[0m\n\u001b[0;32m      1\u001b[0m \u001b[0mplt\u001b[0m\u001b[1;33m.\u001b[0m\u001b[0mplot\u001b[0m\u001b[1;33m(\u001b[0m\u001b[0mhistory\u001b[0m\u001b[1;33m.\u001b[0m\u001b[0mhistory\u001b[0m\u001b[1;33m[\u001b[0m\u001b[1;34m'acc'\u001b[0m\u001b[1;33m]\u001b[0m\u001b[1;33m)\u001b[0m\u001b[1;33m\u001b[0m\u001b[1;33m\u001b[0m\u001b[0m\n\u001b[1;32m----> 2\u001b[1;33m \u001b[0mplt\u001b[0m\u001b[1;33m.\u001b[0m\u001b[0mplot\u001b[0m\u001b[1;33m(\u001b[0m\u001b[0mhistory\u001b[0m\u001b[1;33m.\u001b[0m\u001b[0mhistory\u001b[0m\u001b[1;33m[\u001b[0m\u001b[1;34m'val_accuracy'\u001b[0m\u001b[1;33m]\u001b[0m\u001b[1;33m)\u001b[0m\u001b[1;33m\u001b[0m\u001b[1;33m\u001b[0m\u001b[0m\n\u001b[0m\u001b[0;32m      3\u001b[0m \u001b[0mplt\u001b[0m\u001b[1;33m.\u001b[0m\u001b[0mtitle\u001b[0m\u001b[1;33m(\u001b[0m\u001b[1;34m'model accuracy'\u001b[0m\u001b[1;33m)\u001b[0m\u001b[1;33m\u001b[0m\u001b[1;33m\u001b[0m\u001b[0m\n\u001b[0;32m      4\u001b[0m \u001b[0mplt\u001b[0m\u001b[1;33m.\u001b[0m\u001b[0mylabel\u001b[0m\u001b[1;33m(\u001b[0m\u001b[1;34m'accuracy'\u001b[0m\u001b[1;33m)\u001b[0m\u001b[1;33m\u001b[0m\u001b[1;33m\u001b[0m\u001b[0m\n\u001b[0;32m      5\u001b[0m \u001b[0mplt\u001b[0m\u001b[1;33m.\u001b[0m\u001b[0mlegend\u001b[0m\u001b[1;33m(\u001b[0m\u001b[1;33m[\u001b[0m\u001b[1;34m'train'\u001b[0m\u001b[1;33m,\u001b[0m \u001b[1;34m'test'\u001b[0m\u001b[1;33m]\u001b[0m\u001b[1;33m,\u001b[0m \u001b[0mloc\u001b[0m \u001b[1;33m=\u001b[0m \u001b[1;34m'uppper left'\u001b[0m\u001b[1;33m)\u001b[0m\u001b[1;33m\u001b[0m\u001b[1;33m\u001b[0m\u001b[0m\n",
      "\u001b[1;31mKeyError\u001b[0m: 'val_accuracy'"
     ]
    },
    {
     "data": {
      "image/png": "[encoded data removed]",
      "text/plain": [
       "<Figure size 432x288 with 1 Axes>"
      ]
     },
     "metadata": {
      "needs_background": "light"
     },
     "output_type": "display_data"
    }
   ],
   "source": [
    "plt.plot(history.history['acc'])\n",
    "plt.plot(history.history['val_accuracy'])\n",
    "plt.title('model accuracy')\n",
    "plt.ylabel('accuracy')\n",
    "plt.legend(['train', 'test'], loc = 'uppper left')\n",
    "plt.show()"
   ]
  },
  {
   "cell_type": "code",
   "execution_count": null,
   "metadata": {},
   "outputs": [],
   "source": []
  },
  {
   "cell_type": "code",
   "execution_count": null,
   "metadata": {},
   "outputs": [],
   "source": []
  },
  {
   "cell_type": "code",
   "execution_count": null,
   "metadata": {},
   "outputs": [],
   "source": []
  },
  {
   "cell_type": "code",
   "execution_count": null,
   "metadata": {},
   "outputs": [],
   "source": []
  }
 ],
 "metadata": {
  "kernelspec": {
   "display_name": "Python 3",
   "language": "python",
   "name": "python3"
  },
  "language_info": {
   "codemirror_mode": {
    "name": "ipython",
    "version": 3
   },
   "file_extension": ".py",
   "mimetype": "text/x-python",
   "name": "python",
   "nbconvert_exporter": "python",
   "pygments_lexer": "ipython3",
   "version": "3.7.6"
  },
  "toc": {
   "base_numbering": 1,
   "nav_menu": {},
   "number_sections": true,
   "sideBar": true,
   "skip_h1_title": false,
   "title_cell": "Table of Contents",
   "title_sidebar": "Contents",
   "toc_cell": false,
   "toc_position": {},
   "toc_section_display": true,
   "toc_window_display": false
  }
 },
 "nbformat": 4,
 "nbformat_minor": 2
}
