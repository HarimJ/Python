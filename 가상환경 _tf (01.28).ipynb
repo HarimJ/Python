{
 "cells": [
  {
   "cell_type": "markdown",
   "metadata": {},
   "source": [
    "# 딥러닝(신경망)  Tensorfow"
   ]
  },
  {
   "cell_type": "markdown",
   "metadata": {},
   "source": [
    "# 가상환경\n",
    "conda create --name tf_test python anaconda activate tf_test\n",
    "\n",
    "conda update conda conda update pip\n",
    "\n",
    "그다음은 conda install ~~ 내가 할것들 ( 확인하는거 )\n",
    "\n",
    "그 다음 conda install tensorflow=1.14.0\n",
    "\n",
    "jupyter kernel install"
   ]
  },
  {
   "cell_type": "code",
   "execution_count": 2,
   "metadata": {},
   "outputs": [
    {
     "name": "stderr",
     "output_type": "stream",
     "text": [
      "C:\\Users\\ICT01_17\\Anaconda3\\envs\\tf_test\\lib\\site-packages\\tensorflow\\python\\framework\\dtypes.py:516: FutureWarning: Passing (type, 1) or '1type' as a synonym of type is deprecated; in a future version of numpy, it will be understood as (type, (1,)) / '(1,)type'.\n",
      "  _np_qint8 = np.dtype([(\"qint8\", np.int8, 1)])\n",
      "C:\\Users\\ICT01_17\\Anaconda3\\envs\\tf_test\\lib\\site-packages\\tensorflow\\python\\framework\\dtypes.py:517: FutureWarning: Passing (type, 1) or '1type' as a synonym of type is deprecated; in a future version of numpy, it will be understood as (type, (1,)) / '(1,)type'.\n",
      "  _np_quint8 = np.dtype([(\"quint8\", np.uint8, 1)])\n",
      "C:\\Users\\ICT01_17\\Anaconda3\\envs\\tf_test\\lib\\site-packages\\tensorflow\\python\\framework\\dtypes.py:518: FutureWarning: Passing (type, 1) or '1type' as a synonym of type is deprecated; in a future version of numpy, it will be understood as (type, (1,)) / '(1,)type'.\n",
      "  _np_qint16 = np.dtype([(\"qint16\", np.int16, 1)])\n",
      "C:\\Users\\ICT01_17\\Anaconda3\\envs\\tf_test\\lib\\site-packages\\tensorflow\\python\\framework\\dtypes.py:519: FutureWarning: Passing (type, 1) or '1type' as a synonym of type is deprecated; in a future version of numpy, it will be understood as (type, (1,)) / '(1,)type'.\n",
      "  _np_quint16 = np.dtype([(\"quint16\", np.uint16, 1)])\n",
      "C:\\Users\\ICT01_17\\Anaconda3\\envs\\tf_test\\lib\\site-packages\\tensorflow\\python\\framework\\dtypes.py:520: FutureWarning: Passing (type, 1) or '1type' as a synonym of type is deprecated; in a future version of numpy, it will be understood as (type, (1,)) / '(1,)type'.\n",
      "  _np_qint32 = np.dtype([(\"qint32\", np.int32, 1)])\n",
      "C:\\Users\\ICT01_17\\Anaconda3\\envs\\tf_test\\lib\\site-packages\\tensorflow\\python\\framework\\dtypes.py:525: FutureWarning: Passing (type, 1) or '1type' as a synonym of type is deprecated; in a future version of numpy, it will be understood as (type, (1,)) / '(1,)type'.\n",
      "  np_resource = np.dtype([(\"resource\", np.ubyte, 1)])\n"
     ]
    },
    {
     "name": "stdout",
     "output_type": "stream",
     "text": [
      "1.14.0\n"
     ]
    },
    {
     "name": "stderr",
     "output_type": "stream",
     "text": [
      "C:\\Users\\ICT01_17\\Anaconda3\\envs\\tf_test\\lib\\site-packages\\tensorboard\\compat\\tensorflow_stub\\dtypes.py:541: FutureWarning: Passing (type, 1) or '1type' as a synonym of type is deprecated; in a future version of numpy, it will be understood as (type, (1,)) / '(1,)type'.\n",
      "  _np_qint8 = np.dtype([(\"qint8\", np.int8, 1)])\n",
      "C:\\Users\\ICT01_17\\Anaconda3\\envs\\tf_test\\lib\\site-packages\\tensorboard\\compat\\tensorflow_stub\\dtypes.py:542: FutureWarning: Passing (type, 1) or '1type' as a synonym of type is deprecated; in a future version of numpy, it will be understood as (type, (1,)) / '(1,)type'.\n",
      "  _np_quint8 = np.dtype([(\"quint8\", np.uint8, 1)])\n",
      "C:\\Users\\ICT01_17\\Anaconda3\\envs\\tf_test\\lib\\site-packages\\tensorboard\\compat\\tensorflow_stub\\dtypes.py:543: FutureWarning: Passing (type, 1) or '1type' as a synonym of type is deprecated; in a future version of numpy, it will be understood as (type, (1,)) / '(1,)type'.\n",
      "  _np_qint16 = np.dtype([(\"qint16\", np.int16, 1)])\n",
      "C:\\Users\\ICT01_17\\Anaconda3\\envs\\tf_test\\lib\\site-packages\\tensorboard\\compat\\tensorflow_stub\\dtypes.py:544: FutureWarning: Passing (type, 1) or '1type' as a synonym of type is deprecated; in a future version of numpy, it will be understood as (type, (1,)) / '(1,)type'.\n",
      "  _np_quint16 = np.dtype([(\"quint16\", np.uint16, 1)])\n",
      "C:\\Users\\ICT01_17\\Anaconda3\\envs\\tf_test\\lib\\site-packages\\tensorboard\\compat\\tensorflow_stub\\dtypes.py:545: FutureWarning: Passing (type, 1) or '1type' as a synonym of type is deprecated; in a future version of numpy, it will be understood as (type, (1,)) / '(1,)type'.\n",
      "  _np_qint32 = np.dtype([(\"qint32\", np.int32, 1)])\n",
      "C:\\Users\\ICT01_17\\Anaconda3\\envs\\tf_test\\lib\\site-packages\\tensorboard\\compat\\tensorflow_stub\\dtypes.py:550: FutureWarning: Passing (type, 1) or '1type' as a synonym of type is deprecated; in a future version of numpy, it will be understood as (type, (1,)) / '(1,)type'.\n",
      "  np_resource = np.dtype([(\"resource\", np.ubyte, 1)])\n"
     ]
    }
   ],
   "source": [
    "import tensorflow as tf\n",
    "print(tf.__version__)"
   ]
  },
  {
   "cell_type": "markdown",
   "metadata": {},
   "source": [
    "# 분산처리\n",
    "\n",
    "- constant - 상수\n",
    "- varialbe - 변수 (가중치 저장\n",
    "- placeholder - 주입변수 (외부에서 데이터 넘겨준다 - 예측한다)  : 미니배치\n",
    "               \n",
    "\n",
    "feeding 할때는 f o r문으로 한다 (반복해야해서)\n",
    "               \n",
    " - 미니배치사이즈로 로 작은 데이터를 계속해서 넣어서 큰 데이터를 만든다                \n",
    " - 파일을 만들어서 Q에 집어넣는다. (데이터가 많을 때) : 큰 데이터를 q에 넣고 placeholder에 넣어준다.   \n",
    " - Q는 fifo (first in first out) 으로 데이터를 넣고 빼고 사용\n",
    "               \n",
    "Graph - 노드(계산하는 연산) 와 엣지(노드와 노드에서 데이터를 주고받는것 - 텐서가 처리한다)\n",
    "               \n",
    "텐서 : 다차원 배열    / 분산처리 가능\n",
    "     : 대용량 데이터 사용하기          \n",
    "               \n",
    "모든 노드의 계산이 다 완료되어서 도착해야 텐서에 도착한다...               \n",
    "\n",
    "분산처리 : 동기화 문제가 제일 중요. \n",
    "               \n",
    "sesion : 연결처리"
   ]
  },
  {
   "cell_type": "code",
   "execution_count": 4,
   "metadata": {},
   "outputs": [
    {
     "name": "stdout",
     "output_type": "stream",
     "text": [
      "b'Hello. Tensorflow!'\n",
      "Tensor(\"Const:0\", shape=(), dtype=string)\n"
     ]
    }
   ],
   "source": [
    "# 데이터 타입\n",
    "import tensorflow as tf\n",
    "hello = tf.constant('Hello. Tensorflow!')\n",
    "# tensorflow constant, variable, placeholder \n",
    "\n",
    "sess = tf.Session()\n",
    "print(sess.run(hello)) # tensorflow 의 데이터는 직접 확인니 불가\n",
    "print(hello) # numpy 데이터로 변경  : tensorflow 에서 실행되고 그 결과는 numpy로 보여진다"
   ]
  },
  {
   "cell_type": "code",
   "execution_count": 8,
   "metadata": {},
   "outputs": [
    {
     "name": "stdout",
     "output_type": "stream",
     "text": [
      "<tf.Variable 'y:0' shape=() dtype=int32_ref>\n"
     ]
    }
   ],
   "source": [
    "# 이름 - 메모리 저장\n",
    "\n",
    "x = tf.constant(35, name = 'x')  \n",
    "# x 라는 이름을 주는 이유\n",
    "# 모델의 그라프 구조 확인\n",
    "# 모델을 그대로 저장(가중치) 할 때 메모리 위치를 확인하기 위해서\n",
    "y = tf. Variable(x + 5, name = 'y') # 변수가 있는 경우 - 반드시 초기화를 해준다\n",
    "\n",
    "print(y)\n",
    "\n",
    "# 메모리 위치를 저장할 수 없다 (윈도우가 저장한다) 대신 이름을 저장해 놓으면 tensorflow 가 이름과 위치를 연결해서 저장한다. \n",
    "# 그래서 나중에 이름을 불러오면 된다. "
   ]
  },
  {
   "cell_type": "code",
   "execution_count": 9,
   "metadata": {},
   "outputs": [
    {
     "name": "stdout",
     "output_type": "stream",
     "text": [
      "40\n"
     ]
    }
   ],
   "source": [
    "# 초기화  \n",
    "model = tf.global_variables_initializer()  # 변수 초기화\n",
    "# --------------------- 여기까지 모델 만들기 -------------------\n",
    "\n",
    "# 학습 시키는 과정\n",
    "with tf.Session() as session :    # 모델 돌리기\n",
    "    session.run(model)\n",
    "    print(session.run(y))"
   ]
  },
  {
   "cell_type": "code",
   "execution_count": 10,
   "metadata": {},
   "outputs": [
    {
     "name": "stdout",
     "output_type": "stream",
     "text": [
      "[5 7 9]\n"
     ]
    }
   ],
   "source": [
    "# 팬다스에서 데이터 초기화 (list, dict) # 요소끼리 계산 (배열연산)\n",
    "a = tf.constant([1,2,3], name = 'a')  # GPU 공간\n",
    "b = tf.constant([4,5,6], name = 'b')\n",
    "add_op = a + b\n",
    "\n",
    "with tf.Session() as session:\n",
    "    print(session.run(add_op))"
   ]
  },
  {
   "cell_type": "markdown",
   "metadata": {},
   "source": [
    "# Graph"
   ]
  },
  {
   "cell_type": "code",
   "execution_count": 12,
   "metadata": {},
   "outputs": [],
   "source": [
    "# 1. 골결만들기\n",
    "# 자료구조: Graph로 구성 - 골결(구조) 형성\n",
    "\n",
    "a = tf.placeholder(tf.int16) # 데이터 없이 공간만 확보\n",
    "b = tf.placeholder(tf.int16)\n",
    "add = tf.add(a,b)\n",
    "mul = tf.multiply(a,b)\n",
    "total = tf.multiply(add, mul)  # add, totla 이 들어와야 할수 있다"
   ]
  },
  {
   "cell_type": "code",
   "execution_count": 14,
   "metadata": {},
   "outputs": [
    {
     "name": "stdout",
     "output_type": "stream",
     "text": [
      "feed 변수곱 : 30\n"
     ]
    }
   ],
   "source": [
    "# 2. 호줄하기\n",
    "# with 안에서 sess 이라는 이름으로 돌리고 끝나면 자동으로 초기화 \n",
    "\n",
    "with tf.Session() as sess:\n",
    "#    print(\"feed 변수합 : %i\" % sess.run(add, feed_dict = {a:2, b:3})) # 데이터 주입 호출 add\n",
    "#    print(\"feed 변수곱 : %i\" % sess.run(mul, feed_dict = {a:2, b:3}))\n",
    "    print(\"feed 변수곱 : %i\" % sess.run(total, feed_dict = {a:2, b:3}))  # 위에 add, mul 없어도 total 만 호출해도 호춯된다 \n",
    "    \n",
    "    \n",
    "# graph 구조로 연결되서 run으로 호출된다 "
   ]
  },
  {
   "cell_type": "markdown",
   "metadata": {},
   "source": [
    "# matrix multiply"
   ]
  },
  {
   "cell_type": "code",
   "execution_count": 22,
   "metadata": {},
   "outputs": [
    {
     "name": "stdout",
     "output_type": "stream",
     "text": [
      "[[12.]]\n"
     ]
    }
   ],
   "source": [
    "matrix1 = tf.constant([[3.,3.]]) # 1X2\n",
    "matrix2 = tf.constant([[2.],[2.]]) # 2X1 => 1x1\n",
    "product = tf.matmul(matrix1, matrix2)   # matrix multiply\n",
    "# product에는 결과가 들어가있지 않는다. \n",
    "# session 에 서 실행되고  run 에서 출력한다\n",
    "\n",
    "with tf.Session() as sess:  # 실행부\n",
    "    result = sess.run(product)\n",
    "    print(result)"
   ]
  },
  {
   "cell_type": "code",
   "execution_count": 23,
   "metadata": {},
   "outputs": [],
   "source": [
    "zeros = tf.zeros([2,2])   # 0로 만듬\n",
    "ones = tf.ones([6])   # 1로 만듬\n",
    "# 균등분포\n",
    "uniform = tf.random_uniform([3,3,3], minval = 0.0, maxval = 10)\n",
    "# 정규분포\n",
    "normal = tf.truncated_normal([2,2], mean = 0.0, stddev = 2.0)\n",
    "# 표준편차 2배냐의 것으로 초기화\n",
    "trunc =tf.truncated_normal([2,2], mean = 5.0, stddev = 1.0)\n",
    "random_var = tf.Variable(tf.truncated_normal([2,2]))"
   ]
  },
  {
   "cell_type": "code",
   "execution_count": 24,
   "metadata": {},
   "outputs": [
    {
     "name": "stdout",
     "output_type": "stream",
     "text": [
      "[[5.626925  6.006896 ]\n",
      " [4.7371492 4.5674567]]\n",
      "변수초기화 [[-0.13445058  1.0250793 ]\n",
      " [ 0.2185448   0.28938532]]\n"
     ]
    }
   ],
   "source": [
    "init = tf.global_variables_initializer()\n",
    "sess = tf.Session()\n",
    "print(sess.run(trunc))\n",
    "\n",
    "sess.run(init) # 변수초기화\n",
    "print(\"변수초기화\", sess.run(random_var))"
   ]
  },
  {
   "cell_type": "code",
   "execution_count": 28,
   "metadata": {},
   "outputs": [
    {
     "name": "stdout",
     "output_type": "stream",
     "text": [
      "<class 'tensorflow.python.framework.tensor_shape.TensorShape'>\n",
      "(6, 2)\n",
      "(2, 6)\n"
     ]
    }
   ],
   "source": [
    "import tensorflow as tf\n",
    "my_tensor = tf.constant(0, shape = [6,2])  # 6X2 행렬 => 값을 바꿀수 없는 상수화\n",
    "my_static_shape = my_tensor.get_shape()\n",
    "print(type(my_static_shape))  # class\n",
    "print(my_static_shape)   # 내용은 run으로 확인. 차수는 get_shape 함수로 확인\n",
    "\n",
    "# 전치하기\n",
    "my_tensor_transposed = tf.transpose(my_tensor)\n",
    "print(my_tensor_transposed.get_shape())"
   ]
  },
  {
   "cell_type": "code",
   "execution_count": 30,
   "metadata": {},
   "outputs": [
    {
     "name": "stdout",
     "output_type": "stream",
     "text": [
      "[0. 0.]\n"
     ]
    }
   ],
   "source": [
    "import tensorflow as tf\n",
    "tf.InteractiveSession()  # 대화형 세션\n",
    "tf.zeros(2)\n",
    "a = tf.zeros(2)\n",
    "print(a.eval())  #  대화형 세션을 사용할땐 eval을 사용해서 출력 (run 을 안써도 된다. )"
   ]
  },
  {
   "cell_type": "code",
   "execution_count": 36,
   "metadata": {},
   "outputs": [],
   "source": [
    "def showvalue(t):\n",
    "    sess = tf.InteractiveSession()\n",
    "    tf.global_variables_initializer().run()\n",
    "    print(t.eval())\n",
    "    sess.close()"
   ]
  },
  {
   "cell_type": "code",
   "execution_count": 37,
   "metadata": {},
   "outputs": [
    {
     "name": "stdout",
     "output_type": "stream",
     "text": [
      "[ 3.5 10.1]\n",
      "[-8  5 17]\n"
     ]
    }
   ],
   "source": [
    "c2, c3 = tf.constant([1.2, 5.6]), tf.constant([-4,-1,7])\n",
    "v2, v3 = tf.constant([2.3, 4.5]), tf.constant([-2,3,5])\n",
    "showvalue(tf.add_n([c2, v2]))\n",
    "showvalue(tf.add_n([c3, v3, v3]))  # 여러개가 가능핟ㅎㅀㄱ"
   ]
  },
  {
   "cell_type": "code",
   "execution_count": null,
   "metadata": {},
   "outputs": [],
   "source": [
    "#  2x + y + z = 1\n",
    "#  4x + 3y + 4z = 2\n",
    "# -4x + 2y + 2z = -6\n",
    "\n",
    "# A dot x = [1,2,-6]   # 행렬 나누기 => 역행렬\n",
    "        y  \n",
    "        z\n",
    "# 3x3  3x1  => 3x1"
   ]
  },
  {
   "cell_type": "code",
   "execution_count": 49,
   "metadata": {},
   "outputs": [
    {
     "name": "stdout",
     "output_type": "stream",
     "text": [
      "[[ 2.  1.  1.]\n",
      " [ 4.  3.  4.]\n",
      " [-4.  2.  2.]]\n",
      "\n",
      " [[ 1.]\n",
      " [ 2.]\n",
      " [-6.]]\n",
      "\n",
      "\n",
      " 계수 [[ 1.0000001]\n",
      " [-2.0000002]\n",
      " [ 1.0000001]]\n",
      "\n",
      " [[ 1.0000001]\n",
      " [-2.0000002]\n",
      " [ 1.0000001]]\n",
      "\n",
      "\n",
      "\n",
      "\n",
      "[1.0000001]\n",
      "\n",
      "[[ 1.0000001]\n",
      " [ 2.       ]\n",
      " [-6.000001 ]]\n"
     ]
    }
   ],
   "source": [
    "sess= tf.Session()\n",
    "x = tf.constant([2.0, 1.0, 1.0, 4, 3, 4, -4, 2 ,2], shape=[3, 3])\n",
    "print(sess.run(x))\n",
    "\n",
    "y= tf.constant([1.0, 2, -6], shape=[3, 1])\n",
    "print('\\n',sess.run(y))\n",
    "\n",
    "# 역행렬 ( 행렬 )\n",
    "z = tf.matrix_solve( x, y) # 앞에 오는 매개변수 x의 역행렬을 구하고 y 에 행렬곱을 해줌\n",
    "result =sess.run(z)\n",
    "print('\\n\\n',\"계수\", result)\n",
    "print('\\n',sess.run(z))\n",
    "\n",
    "print('\\n\\n\\n')\n",
    "print( 2.0 * result[0] + 1.0 * result[1] + 1.0 * result[2])\n",
    "\n",
    "print()\n",
    "print(sess.run(tf.matmul(x,z)))"
   ]
  },
  {
   "cell_type": "code",
   "execution_count": 50,
   "metadata": {},
   "outputs": [
    {
     "name": "stdout",
     "output_type": "stream",
     "text": [
      "해 : [[ 1.0000002]\n",
      " [-2.0000005]\n",
      " [ 1.0000002]]\n"
     ]
    }
   ],
   "source": [
    "# matrix_inverse = matrix_solve\n",
    "\n",
    "x_1 = tf.matrix_inverse(x)\n",
    "z = tf.matmul(x_1, y)\n",
    "print(\"해 :\", sess.run(z))"
   ]
  },
  {
   "cell_type": "markdown",
   "metadata": {},
   "source": [
    "singular value decomposition"
   ]
  },
  {
   "cell_type": "code",
   "execution_count": 54,
   "metadata": {},
   "outputs": [
    {
     "name": "stdout",
     "output_type": "stream",
     "text": [
      "[9.508034   0.77286935]\n",
      "\n",
      "[[-0.38631773 -0.92236584]\n",
      " [-0.92236584  0.38631773]]\n",
      "\n",
      "[[-0.42866713  0.8059641 ]\n",
      " [-0.56630695  0.1123824 ]\n",
      " [-0.70394677 -0.58119917]]\n"
     ]
    }
   ],
   "source": [
    "# 특이행렬분해 (singular value decomposition) : 정방행렬이 아닐경우 가능 (행렬이 다를 때)\n",
    "# PCA 할 때 -  고유값분해 eigenvalue + eigenvector : 정방행렬 (행과열의 같은 행렬)\n",
    "\n",
    "a = tf.constant([1,2,3,4,5,6], shape = [2,3])\n",
    "a = tf.to_float(a)\n",
    "# 행과 열의 특징을 별도로 뽑음\n",
    "# 정방행렬\n",
    "# truncate : \n",
    "s,u,v = tf.svd(a)  # singular value 이럴때는 3개로 나눠준다 => u (2x2), s(1X2), v(3x2)\n",
    "\n",
    "# ㄴs 는 u,v 를 연결시킨다..\n",
    "\n",
    "print(sess.run(s));print()\n",
    "print(sess.run(u));print()\n",
    "print(sess.run(v))"
   ]
  },
  {
   "cell_type": "code",
   "execution_count": 55,
   "metadata": {},
   "outputs": [
    {
     "name": "stdout",
     "output_type": "stream",
     "text": [
      "[[1 0 0 0]\n",
      " [0 2 0 0]\n",
      " [0 0 3 0]\n",
      " [0 0 0 4]]\n"
     ]
    }
   ],
   "source": [
    "diagonal = [1,2,3,4]\n",
    "dia = tf.diag(diagonal) # 대각행렬 -> one-hot-encoding\n",
    "print(sess.run(dia))"
   ]
  },
  {
   "cell_type": "code",
   "execution_count": 65,
   "metadata": {},
   "outputs": [
    {
     "name": "stdout",
     "output_type": "stream",
     "text": [
      "[1 2 3 4]\n",
      "10\n"
     ]
    }
   ],
   "source": [
    "print(sess.run(tf.diag_part(dia)))\n",
    "print(sess.run(tf.trace(dia)))   # 대각요소의 값을 더해줌"
   ]
  },
  {
   "cell_type": "code",
   "execution_count": 66,
   "metadata": {},
   "outputs": [
    {
     "data": {
      "text/plain": [
       "array([[ 58,  64],\n",
       "       [139, 154]])"
      ]
     },
     "execution_count": 66,
     "metadata": {},
     "output_type": "execute_result"
    }
   ],
   "source": [
    "import numpy as np\n",
    "a = tf.constant([1,2,3,4,5,6], shape = [2,3])\n",
    "b = tf.constant([7,8,9,10,11,12], shape = [3,2])\n",
    "c = tf.matmul(a,b)\n",
    "sess.run(c)  # 2x2"
   ]
  },
  {
   "cell_type": "code",
   "execution_count": 67,
   "metadata": {},
   "outputs": [
    {
     "name": "stdout",
     "output_type": "stream",
     "text": [
      "[[[ 1  2  3]\n",
      "  [ 4  5  6]]\n",
      "\n",
      " [[ 7  8  9]\n",
      "  [10 11 12]]]\n",
      "[[[13 14]\n",
      "  [15 16]\n",
      "  [17 18]]\n",
      "\n",
      " [[19 20]\n",
      "  [21 22]\n",
      "  [23 24]]]\n"
     ]
    },
    {
     "data": {
      "text/plain": [
       "array([[[ 94, 100],\n",
       "        [229, 244]],\n",
       "\n",
       "       [[508, 532],\n",
       "        [697, 730]]])"
      ]
     },
     "execution_count": 67,
     "metadata": {},
     "output_type": "execute_result"
    }
   ],
   "source": [
    "# 행렬: 행과 열을 확인하고 앞의 것은 개수 어떻게 층을 이루고 있는가 를 얘기한다\n",
    "# [2,2,2, 2,3] => 2*2*2 해서 2x3 행렬이 8개. \n",
    "a = tf.constant(np.arange(1,13, dtype = np.int32), shape= [2,2,3])  # 2,3 만 판단  (2x3이 2개 있다는 뜻) # 행렬을 중심으로 하고 데이터 표현\n",
    "print(sess.run(a))                                                  # 위아래 두개만 맞춰주면 곱하기 가능 ? \n",
    "\n",
    "b = tf.constant(np.arange(13,25, dtype = np.int32), shape = [2,3,2])# 3,2 만 보기 \n",
    "print(sess.run(b))\n",
    "\n",
    "c = tf.matmul(a,b)\n",
    "sess.run(c)"
   ]
  },
  {
   "cell_type": "code",
   "execution_count": 70,
   "metadata": {},
   "outputs": [
    {
     "name": "stdout",
     "output_type": "stream",
     "text": [
      "[[[[ 1  2  3]\n",
      "   [ 4  5  6]]\n",
      "\n",
      "  [[ 7  8  9]\n",
      "   [10 11 12]]]\n",
      "\n",
      "\n",
      " [[[13 14 15]\n",
      "   [16 17 18]]\n",
      "\n",
      "  [[19 20 21]\n",
      "   [22 23 24]]]]\n",
      "\n",
      "[[[[25 26]\n",
      "   [27 28]\n",
      "   [29 30]]\n",
      "\n",
      "  [[31 32]\n",
      "   [33 34]\n",
      "   [35 36]]]\n",
      "\n",
      "\n",
      " [[[37 38]\n",
      "   [39 40]\n",
      "   [41 42]]\n",
      "\n",
      "  [[43 44]\n",
      "   [45 46]\n",
      "   [47 48]]]]\n",
      "\n"
     ]
    },
    {
     "data": {
      "text/plain": [
       "array([[[[ 166,  172],\n",
       "         [ 409,  424]],\n",
       "\n",
       "        [[ 796,  820],\n",
       "         [1093, 1126]]],\n",
       "\n",
       "\n",
       "       [[[1642, 1684],\n",
       "         [1993, 2044]],\n",
       "\n",
       "        [[2704, 2764],\n",
       "         [3109, 3178]]]])"
      ]
     },
     "execution_count": 70,
     "metadata": {},
     "output_type": "execute_result"
    }
   ],
   "source": [
    "# 문제()\n",
    "\n",
    "a = tf.constant(np.arange(1,25, dtype = np.int32), shape= [2,2,2,3]) \n",
    "print(sess.run(a));print()                                                    \n",
    "\n",
    "b = tf.constant(np.arange(25,49, dtype = np.int32), shape = [2,2,3,2])\n",
    "print(sess.run(b));print()  \n",
    "\n",
    "c = tf.matmul(a,b)\n",
    "sess.run(c)\n",
    "\n",
    "# 2x2x2\n",
    "# 2x2 => 4개"
   ]
  },
  {
   "cell_type": "code",
   "execution_count": 79,
   "metadata": {},
   "outputs": [
    {
     "name": "stdout",
     "output_type": "stream",
     "text": [
      "[[[[  14   32]\n",
      "   [  32   77]]\n",
      "\n",
      "  [[ 194  266]\n",
      "   [ 266  365]]]\n",
      "\n",
      "\n",
      " [[[ 590  716]\n",
      "   [ 716  869]]\n",
      "\n",
      "  [[1202 1382]\n",
      "   [1382 1589]]]]\n",
      "\n"
     ]
    }
   ],
   "source": [
    "# a를 제곱한다면 : 자기자신을 제곱하려면 전치\n",
    "\n",
    "d = tf.matmul(a, tf.transpose(a, perm = [0,1,3,2]))\n",
    "print(sess.run(d))\n",
    "print()\n",
    "\n",
    "# 다른방법 (같은결과)\n",
    "# d2 = tf.matmul(a,a, transpose_b = True)  # 전치해서 자기 제곱\n",
    "# print(sess.run(d2))"
   ]
  },
  {
   "cell_type": "code",
   "execution_count": 80,
   "metadata": {},
   "outputs": [
    {
     "name": "stdout",
     "output_type": "stream",
     "text": [
      "[2 2 3]\n"
     ]
    },
    {
     "data": {
      "text/plain": [
       "array([[[ 1,  7],\n",
       "        [ 4, 10]],\n",
       "\n",
       "       [[ 2,  8],\n",
       "        [ 5, 11]],\n",
       "\n",
       "       [[ 3,  9],\n",
       "        [ 6, 12]]])"
      ]
     },
     "execution_count": 80,
     "metadata": {},
     "output_type": "execute_result"
    }
   ],
   "source": [
    "                           # 0 1 2 \n",
    "x = tf.constant([[[1,2,3], # 2x2x3  => 제곱이 되려면 2x3x2 (전치:행과열바꿈) <- 순서 : 0 2 1\n",
    "                [4,5,6]],\n",
    "               [[7,8,9],\n",
    "                [10,11,12]]])\n",
    "print(sess.run(tf.shape(x)))\n",
    "sess.run(tf.transpose(x)) # 3x2x2 => 순서 : 2 1 0 (디폴트값 : 면과 열이 바뀜)\n",
    "\n",
    "\n",
    " # 0:면, 1: 행, 2 : 열 , 4: .."
   ]
  },
  {
   "cell_type": "code",
   "execution_count": 81,
   "metadata": {},
   "outputs": [
    {
     "data": {
      "text/plain": [
       "array([[[ 1,  7],\n",
       "        [ 2,  8],\n",
       "        [ 3,  9]],\n",
       "\n",
       "       [[ 4, 10],\n",
       "        [ 5, 11],\n",
       "        [ 6, 12]]])"
      ]
     },
     "execution_count": 81,
     "metadata": {},
     "output_type": "execute_result"
    }
   ],
   "source": [
    "y = tf.transpose(x, perm=[0,2,1])\n",
    "sess.run(tf.transpose(y))"
   ]
  },
  {
   "cell_type": "code",
   "execution_count": 84,
   "metadata": {},
   "outputs": [
    {
     "data": {
      "text/plain": [
       "array([[[ 14,  32],\n",
       "        [ 32,  77]],\n",
       "\n",
       "       [[194, 266],\n",
       "        [266, 365]]])"
      ]
     },
     "execution_count": 84,
     "metadata": {},
     "output_type": "execute_result"
    }
   ],
   "source": [
    "sess.run(tf.matmul(x, tf.transpose(x,perm = [0,2,1])))"
   ]
  },
  {
   "cell_type": "code",
   "execution_count": 85,
   "metadata": {},
   "outputs": [
    {
     "data": {
      "text/plain": [
       "array([[[[[[1]],\n",
       "\n",
       "          [[2]],\n",
       "\n",
       "          [[3]]]],\n",
       "\n",
       "\n",
       "\n",
       "        [[[[4]],\n",
       "\n",
       "          [[5]],\n",
       "\n",
       "          [[6]]]]]])"
      ]
     },
     "execution_count": 85,
     "metadata": {},
     "output_type": "execute_result"
    }
   ],
   "source": [
    "# 6차원 만들기\n",
    "\n",
    "t = [1,2,3,4,5,6]\n",
    "t = tf.reshape(t,[1,2,1,3,1,1])   # 1 은 차수를 높이는것 뿐... 2,3 만있으면 6개가 되니까..\n",
    "sess.run(t)\n",
    "\n",
    "# [1,2,1,3,1,1]\n",
    "     2라서 []가 4개\n",
    "    \n",
    "# [] 하나면 열, [[]] 두개면 행, [[[]]] 세개면 면.   그리고 2세트라서 마지막 [] 한개 더"
   ]
  },
  {
   "cell_type": "code",
   "execution_count": 86,
   "metadata": {},
   "outputs": [
    {
     "name": "stdout",
     "output_type": "stream",
     "text": [
      "t의 차원은 [1 2 1 3 1 1]\n"
     ]
    }
   ],
   "source": [
    "print(\"t의 차원은\", sess.run(tf.shape(t)))"
   ]
  },
  {
   "cell_type": "code",
   "execution_count": 87,
   "metadata": {},
   "outputs": [
    {
     "name": "stdout",
     "output_type": "stream",
     "text": [
      "차원의 수를 축소할 때 [2 3]\n"
     ]
    }
   ],
   "source": [
    "print(\"차원의 수를 축소할 때\", sess.run(tf.shape(tf.squeeze(t))))\n",
    "\n",
    "# [1 2 1 3 1 1] 에서 요소가 1인것들은 다 삭제 해서 2,3 만 남음"
   ]
  },
  {
   "cell_type": "code",
   "execution_count": 94,
   "metadata": {},
   "outputs": [
    {
     "name": "stdout",
     "output_type": "stream",
     "text": [
      "[[ 1  2  3  4  5  6]\n",
      " [ 7  8  9 10 11 12]]\n",
      "\n",
      "[[[ 1  2  3]\n",
      "  [ 4  5  6]]\n",
      "\n",
      " [[ 7  8  9]\n",
      "  [10 11 12]]]\n"
     ]
    }
   ],
   "source": [
    "# reshape에서  - (마이너스)의 의미\n",
    "\n",
    "tensor = [1,2,3,4,5,6,7,8,9,10,11,12]\n",
    "\n",
    "print(sess.run(tf.reshape(tensor, [2,-1]))) # - : 계산으로 채워라\n",
    "\n",
    "print()\n",
    "tf.reshape(tensor, [-1,6]) # \n",
    "print(sess.run(tf.reshape(tensor, [2,-1,3]))) # ..? 2가 들어간다"
   ]
  },
  {
   "cell_type": "code",
   "execution_count": 91,
   "metadata": {},
   "outputs": [
    {
     "name": "stdout",
     "output_type": "stream",
     "text": [
      "Tensor(\"ExpandDims:0\", shape=(1, 1, 2, 1, 3, 1, 1), dtype=int32)\n"
     ]
    }
   ],
   "source": [
    "# t: 1,1,2,1,3,1\n",
    "print(tf.expand_dims(t,0))  # 차원 확대  (뒤에 1 이 더 추가됨)"
   ]
  },
  {
   "cell_type": "code",
   "execution_count": 95,
   "metadata": {},
   "outputs": [
    {
     "name": "stdout",
     "output_type": "stream",
     "text": [
      "[[0 0 0 0 0 0 0]\n",
      " [0 0 1 2 3 0 0]\n",
      " [0 0 4 5 6 0 0]\n",
      " [0 0 0 0 0 0 0]]\n"
     ]
    }
   ],
   "source": [
    "# padding 충전재\n",
    "t = [[1,2,3], [4,5,6]]  # 2x3 => 4x7\n",
    "paddings = [[1,1,],[2,2]]   # 행을 위에 한개, 아래에 한개,  열을 왼쪽에 2개, 오른쪽에 2개\n",
    "print(sess.run(tf.pad(t,paddings, \"CONSTANT\")))  # constant :0 으로 채워라"
   ]
  },
  {
   "cell_type": "code",
   "execution_count": 96,
   "metadata": {},
   "outputs": [
    {
     "name": "stdout",
     "output_type": "stream",
     "text": [
      "[[5 4 5 6 5]\n",
      " [2 1 2 3 2]\n",
      " [5 4 5 6 5]\n",
      " [2 1 2 3 2]]\n"
     ]
    }
   ],
   "source": [
    "paddings = [[1,1,],[1,1]]  # 4x5\n",
    "print(sess.run(tf.pad(t,paddings, \"REFLECT\")))\n",
    "\n",
    "# 가운데 1,2,3\n",
    "#        4,5,6 중심으로 반사로 123이 아래로 456이 위로"
   ]
  },
  {
   "cell_type": "code",
   "execution_count": 99,
   "metadata": {},
   "outputs": [
    {
     "name": "stdout",
     "output_type": "stream",
     "text": [
      "[[1 1 2 3 3]\n",
      " [1 1 2 3 3]\n",
      " [4 4 5 6 6]\n",
      " [4 4 5 6 6]]\n"
     ]
    }
   ],
   "source": [
    "print(sess.run(tf.pad(t,paddings, \"SYMMETRIC\")))\n",
    "\n",
    "# 가운데 중심으로 위로 같은거 아래로 같은거"
   ]
  },
  {
   "cell_type": "markdown",
   "metadata": {},
   "source": [
    "# 방정식 해 풀기\n",
    "\n",
    "다차원 방정식의 해\n",
    "  - 무작위 대입법\n",
    "  - 역행렬을 구함\n",
    "  - 입출력 데이터만 : 계수 결정 (가중치 학습을 통해서 학습)\n"
   ]
  },
  {
   "cell_type": "code",
   "execution_count": 100,
   "metadata": {},
   "outputs": [
    {
     "data": {
      "text/plain": [
       "100"
      ]
     },
     "execution_count": 100,
     "metadata": {},
     "output_type": "execute_result"
    }
   ],
   "source": [
    "# 데이터로부터 규칙을 발견 => 분류와 예측을 하기 위해서\n",
    "\n",
    "import numpy as np\n",
    "import tensorflow as tf\n",
    "\n",
    "# 데이터 생성 => minibatch => feeding 해주기\n",
    "x_data = np.random.rand(100).astype(np.float32) # 랜덤으로 \n",
    "y_data = x_data * 0.1 + 0.3   # 선형방정식 으로 만듬 (어떻게 0.1, 0.3 을 알아냈는지 알아보자)\n",
    "len(y_data)"
   ]
  },
  {
   "cell_type": "code",
   "execution_count": 124,
   "metadata": {},
   "outputs": [],
   "source": [
    "# 가중치와 bias\n",
    "# 가중치 : 설명력\n",
    "# bias : activation 결정 (어떤 기준치를 정해줘서 그 이상, 이하 활성화)\n",
    "# 가중치에는 꼭 바이어스가 한개씩 결합한다\n",
    "\n",
    "W = tf.Variable(tf.random_uniform([1], -1.0, 1.0)) # 균등분포 (uniform) 으로 초기화\n",
    "b = tf.Variable(tf.zeros([1]))  # bias(바이어스)\n",
    "sess = tf.Session()\n",
    "\n",
    "# 수식 만들기\n",
    "# 가중치 * x_data + bias \n",
    "y = W * x_data + b   # 예측"
   ]
  },
  {
   "cell_type": "code",
   "execution_count": 125,
   "metadata": {},
   "outputs": [
    {
     "name": "stdout",
     "output_type": "stream",
     "text": [
      "0 [0.15862174] [0.39314353]\n",
      "20 [0.10093172] [0.29945713]\n",
      "40 [0.10026722] [0.29984432]\n",
      "60 [0.10007663] [0.29995537]\n",
      "80 [0.10002198] [0.2999872]\n",
      "100 [0.10000629] [0.29999635]\n",
      "120 [0.10000182] [0.29999897]\n",
      "140 [0.10000053] [0.2999997]\n",
      "160 [0.10000015] [0.29999992]\n",
      "180 [0.10000014] [0.29999992]\n",
      "200 [0.10000014] [0.29999992]\n"
     ]
    }
   ],
   "source": [
    "# loss function : MSE : 2차원인 경유 포물선을 이루고 최적점은 한개 \n",
    "\n",
    "loss = tf.reduce_mean(tf.square(y - y_data))  # (예측치 - 실제) 제곱해서 reduce: 합해서 mean : 평균을 내라\n",
    "\n",
    "\n",
    "# 경사하강법 : GradientDescentOptimizer\n",
    "# 기울기 : 미분을 이용해서 - 이면 가중치에 차를 더해주고 \n",
    "#                          + 이면 가중치에 감하는 연산\n",
    "optimizer = tf.train.GradientDescentOptimizer(0.5)  # learningrate : 학습률 (0.5)\n",
    "train = optimizer.minimize(loss)  #  minimize : 최적화 (MSE가 가장 작게하는 값으로 해라)\n",
    "# 여기까지가 작업할 graph 완성\n",
    "\n",
    "\n",
    "init = tf.global_variables_initializer()  # 세션을 실행하기 전에만(순서 상관없음) 초기화 해주면 된다.  <- 하나의 빈 칸을 만들고 값들 넣어주기\n",
    "sess.run(init)  # 초기화 (variable 에 있는 가중치를)\n",
    "\n",
    "\n",
    "\n",
    "for step in range(201):  # 200번 회전\n",
    "    sess.run(train)\n",
    "    if step % 20 == 0:   # 20번 마다 출력\n",
    "        print(step, sess.run(W), sess.run(b))  # x_data * 0.1 + 0.3\n",
    "        \n",
    "# y 수식으로 실행"
   ]
  },
  {
   "cell_type": "markdown",
   "metadata": {},
   "source": [
    "# placeholder\n",
    "주입변수로 데이터 받기"
   ]
  },
  {
   "cell_type": "code",
   "execution_count": 126,
   "metadata": {},
   "outputs": [
    {
     "name": "stdout",
     "output_type": "stream",
     "text": [
      "0 [0.00429481] [0.52927715]\n",
      "20 [0.05090631] [0.3286045]\n",
      "40 [0.08592021] [0.3082036]\n",
      "60 [0.09596199] [0.30235276]\n",
      "80 [0.09884192] [0.30067477]\n",
      "100 [0.09966787] [0.30019352]\n",
      "120 [0.09990475] [0.3000555]\n",
      "140 [0.09997267] [0.30001593]\n",
      "160 [0.09999216] [0.30000457]\n",
      "180 [0.09999775] [0.30000132]\n",
      "200 [0.09999937] [0.30000037]\n"
     ]
    }
   ],
   "source": [
    "# 주입변수로 데이터 받기\n",
    "\n",
    "x = tf.placeholder(tf.float32, name = 'x')\n",
    "y = tf.placeholder(tf.float32)\n",
    "\n",
    "W = tf.Variable(tf.random_uniform([1], -1.0, 1.0)) # 균등분포 (uniform) 으로 초기화\n",
    "b = tf.Variable(tf.zeros([1]))\n",
    "sess = tf.Session()\n",
    "y_model = W * x + b  # 예측\n",
    "\n",
    "\n",
    "loss = tf.reduce_mean(tf.square(y_model - y)) \n",
    "\n",
    "optimizer = tf.train.GradientDescentOptimizer(0.5) \n",
    "train = optimizer.minimize(loss) \n",
    "\n",
    "init = tf.global_variables_initializer() \n",
    "sess.run(init)\n",
    "\n",
    "for step in range(201): \n",
    "    sess.run(train, {x :x_data, y: y_data})\n",
    "    if step % 20 == 0: \n",
    "        print(step, sess.run(W), sess.run(b))\n"
   ]
  },
  {
   "cell_type": "code",
   "execution_count": 127,
   "metadata": {},
   "outputs": [],
   "source": [
    "predicted = sess.run(y_model, {x:[i for i in range(100)]})"
   ]
  },
  {
   "cell_type": "code",
   "execution_count": 128,
   "metadata": {},
   "outputs": [
    {
     "data": {
      "image/png": "[encoded data removed]",
      "text/plain": [
       "<Figure size 432x288 with 1 Axes>"
      ]
     },
     "metadata": {
      "needs_background": "light"
     },
     "output_type": "display_data"
    }
   ],
   "source": [
    "%matplotlib inline\n",
    "import matplotlib.pyplot as plt\n",
    "plt.plot(x_data, y_data, 'o', markersize = 5)\n",
    "plt.plot(predicted, 'r')\n",
    "plt.show()\n"
   ]
  },
  {
   "cell_type": "markdown",
   "metadata": {},
   "source": [
    "# TensorBoard"
   ]
  },
  {
   "cell_type": "code",
   "execution_count": 141,
   "metadata": {},
   "outputs": [],
   "source": [
    "from tensorflow.python.framework import ops\n",
    "import os\n",
    "ops.reset_default_graph()"
   ]
  },
  {
   "cell_type": "code",
   "execution_count": 142,
   "metadata": {},
   "outputs": [
    {
     "name": "stdout",
     "output_type": "stream",
     "text": [
      "[ 1.  9. 25. 49. 81.]\n",
      "[ 1.  9. 25. 49. 81.]\n",
      "[ 1.  9. 25. 49. 81.]\n",
      "[ 1.  9. 25. 49. 81.]\n",
      "[ 1.  9. 25. 49. 81.]\n"
     ]
    }
   ],
   "source": [
    "sess = tf.Session()\n",
    "x_vals = np.array([1., 3., 5., 7., 9.]) # float 때문에 1., 3., 이렇게 씀 ( 메모리 작게 하기위해)\n",
    "y_vals = np.array([1., 3., 5., 7., 9.])\n",
    "x_data = tf.placeholder(tf.float32)\n",
    "y_data = tf.placeholder(tf.float32)\n",
    "\n",
    "# m = tf.constant(3.)\n",
    "prod = tf.multiply(x_data, y_data)\n",
    "\n",
    "for x_val in x_vals:\n",
    "    print(sess.run(prod, feed_dict = {x_data: x_vals, y_data: y_vals}))\n",
    "    "
   ]
  },
  {
   "cell_type": "code",
   "execution_count": 143,
   "metadata": {},
   "outputs": [],
   "source": [
    "merged = tf.summary.merge_all()\n",
    "if not os.path.exists(\"c://tmp/tensorboard_logs/\"):\n",
    "    os.makedirs('c://tmp/tensorboard_logs/')\n",
    "    \n",
    "my_writer = tf.summary.FileWriter('c://tmp/tensorboard_logs/', sess.graph)\n",
    "\n",
    "# 그다음 아나콘다 cmd에서\n",
    "# tensorboard --logdir=/tmp 입력 후 \n",
    "# 크롬에서 localhost:6006  ( 주소 )"
   ]
  },
  {
   "cell_type": "code",
   "execution_count": null,
   "metadata": {},
   "outputs": [],
   "source": []
  },
  {
   "cell_type": "code",
   "execution_count": 153,
   "metadata": {},
   "outputs": [],
   "source": [
    "import numpy\n",
    "rng = numpy.random\n",
    "\n",
    "# 상수화 할 때  ( 수정할게 줄어들거 쉽게 고칠수 있다)\n",
    "learning_rate = 0.01\n",
    "training_epochs = 4000\n",
    "display_step = 50\n",
    "\n",
    "train_X = numpy.asarray([3.3,4.4,5.5,6.71,6.93,4.168,9.779,6.182,7.59,2.167,7.042,10.791,5.313,7.997,5.654,9.27,3.1])\n",
    "train_Y = numpy.asarray([1.7,2.76,2.09,3.19,1.694,1.573,3.366,2.596,2.53,1.221,2.827,3.465,1.65,2.904,2.42,2.94,1.3]) "
   ]
  },
  {
   "cell_type": "code",
   "execution_count": 154,
   "metadata": {},
   "outputs": [],
   "source": [
    "# data point : 관측치\n",
    "# 변수개수를 결정\n",
    "n_samples = train_X.shape[0] # 차수: 행(3,4) : 인덱스 접근\n",
    "X = tf.placeholder(\"float\")\n",
    "Y = tf.placeholder(\"float\")\n",
    "W = tf.Variable(rng.randn(), name = \"weight\")  # 가중치 : 설명\n",
    "b = tf.Variable(rng.randn(), name = \"bias\" )  # 바이어스 :  activation 활성화\n",
    "activation = tf.add(tf.multiply(X, W), b)     # 수식  y = ax + b\n",
    "# activation 이 node, X W b 가 edge\n",
    "\n",
    "# minibatch 사이즈를 맞추려고 2로 나눠준다\n",
    "# 여기서는 sum을 사용하니까 (위에서는 loss에서는 mean 사용) 2로 나눠서 mean과 같은 값\n",
    "cost = tf.reduce_sum(tf.pow(activation-Y,2))/(2*n_samples) # activation : 예측치, Y : 실제값 // pow : power (2: 제곱, 3:세제곱. 내가 정한대로)\n",
    "\n",
    "\n",
    "# 역전파 : optimizer도  hyper parameter \n",
    "optimizer = tf.train.GradientDescentOptimizer(learning_rate).minimize(cost) # hyper parameter  # momentum : 가던방향을 고려해서 \n",
    "init = tf.initialize_all_variables()\n"
   ]
  },
  {
   "cell_type": "code",
   "execution_count": 155,
   "metadata": {},
   "outputs": [
    {
     "name": "stdout",
     "output_type": "stream",
     "text": [
      "Epoch: 0001 cost=  3.736197 W= 0.6998162 b= 0.5005586\n",
      "Epoch: 0051 cost=  0.083944 W= 0.2963959 b= 0.46477383\n",
      "Epoch: 0101 cost=  0.083138 W= 0.2936123 b= 0.4847995\n",
      "Epoch: 0151 cost=  0.082425 W= 0.29099417 b= 0.50363296\n",
      "Epoch: 0201 cost=  0.081794 W= 0.28853202 b= 0.52134615\n",
      "Epoch: 0251 cost=  0.081237 W= 0.28621614 b= 0.5380064\n",
      "Epoch: 0301 cost=  0.080744 W= 0.28403795 b= 0.5536757\n",
      "Epoch: 0351 cost=  0.080308 W= 0.28198934 b= 0.5684136\n",
      "Epoch: 0401 cost=  0.079922 W= 0.2800625 b= 0.5822751\n",
      "Epoch: 0451 cost=  0.079581 W= 0.27825028 b= 0.59531265\n",
      "Epoch: 0501 cost=  0.079280 W= 0.27654582 b= 0.60757434\n",
      "Epoch: 0551 cost=  0.079013 W= 0.27494282 b= 0.6191061\n",
      "Epoch: 0601 cost=  0.078778 W= 0.27343526 b= 0.6299508\n",
      "Epoch: 0651 cost=  0.078570 W= 0.27201745 b= 0.6401505\n",
      "Epoch: 0701 cost=  0.078386 W= 0.27068394 b= 0.6497438\n",
      "Epoch: 0751 cost=  0.078223 W= 0.26942977 b= 0.65876627\n",
      "Epoch: 0801 cost=  0.078079 W= 0.26825014 b= 0.6672527\n",
      "Epoch: 0851 cost=  0.077952 W= 0.2671406 b= 0.67523444\n",
      "Epoch: 0901 cost=  0.077839 W= 0.26609698 b= 0.6827418\n",
      "Epoch: 0951 cost=  0.077740 W= 0.26511556 b= 0.6898024\n",
      "Epoch: 1001 cost=  0.077652 W= 0.2641924 b= 0.69644374\n",
      "Epoch: 1051 cost=  0.077575 W= 0.26332417 b= 0.70269024\n",
      "Epoch: 1101 cost=  0.077506 W= 0.26250735 b= 0.7085652\n",
      "Epoch: 1151 cost=  0.077446 W= 0.2617393 b= 0.7140911\n",
      "Epoch: 1201 cost=  0.077392 W= 0.26101685 b= 0.7192883\n",
      "Epoch: 1251 cost=  0.077345 W= 0.26033738 b= 0.7241762\n",
      "Epoch: 1301 cost=  0.077303 W= 0.25969842 b= 0.7287733\n",
      "Epoch: 1351 cost=  0.077266 W= 0.25909728 b= 0.73309773\n",
      "Epoch: 1401 cost=  0.077234 W= 0.258532 b= 0.7371644\n",
      "Epoch: 1451 cost=  0.077205 W= 0.25800022 b= 0.7409896\n",
      "Epoch: 1501 cost=  0.077179 W= 0.25750017 b= 0.74458706\n",
      "Epoch: 1551 cost=  0.077157 W= 0.2570298 b= 0.74797076\n",
      "Epoch: 1601 cost=  0.077137 W= 0.25658745 b= 0.7511531\n",
      "Epoch: 1651 cost=  0.077120 W= 0.2561714 b= 0.75414616\n",
      "Epoch: 1701 cost=  0.077104 W= 0.25578004 b= 0.75696117\n",
      "Epoch: 1751 cost=  0.077091 W= 0.25541192 b= 0.7596095\n",
      "Epoch: 1801 cost=  0.077079 W= 0.25506577 b= 0.7620998\n",
      "Epoch: 1851 cost=  0.077068 W= 0.2547402 b= 0.76444244\n",
      "Epoch: 1901 cost=  0.077059 W= 0.254434 b= 0.7666454\n",
      "Epoch: 1951 cost=  0.077050 W= 0.25414592 b= 0.76871717\n",
      "Epoch: 2001 cost=  0.077043 W= 0.25387496 b= 0.77066666\n",
      "Epoch: 2051 cost=  0.077037 W= 0.2536201 b= 0.7725\n",
      "Epoch: 2101 cost=  0.077031 W= 0.2533807 b= 0.7742229\n",
      "Epoch: 2151 cost=  0.077026 W= 0.25315517 b= 0.7758446\n",
      "Epoch: 2201 cost=  0.077022 W= 0.25294307 b= 0.7773704\n",
      "Epoch: 2251 cost=  0.077018 W= 0.25274363 b= 0.7788051\n",
      "Epoch: 2301 cost=  0.077014 W= 0.25255617 b= 0.7801535\n",
      "Epoch: 2351 cost=  0.077012 W= 0.2523799 b= 0.7814218\n",
      "Epoch: 2401 cost=  0.077009 W= 0.25221395 b= 0.78261554\n",
      "Epoch: 2451 cost=  0.077007 W= 0.2520579 b= 0.7837387\n",
      "Epoch: 2501 cost=  0.077005 W= 0.25191095 b= 0.7847952\n",
      "Epoch: 2551 cost=  0.077003 W= 0.25177297 b= 0.785788\n",
      "Epoch: 2601 cost=  0.077001 W= 0.25164363 b= 0.78671855\n",
      "Epoch: 2651 cost=  0.077000 W= 0.251522 b= 0.7875936\n",
      "Epoch: 2701 cost=  0.076999 W= 0.2514074 b= 0.7884179\n",
      "Epoch: 2751 cost=  0.076998 W= 0.2512999 b= 0.7891916\n",
      "Epoch: 2801 cost=  0.076997 W= 0.25119844 b= 0.7899218\n",
      "Epoch: 2851 cost=  0.076996 W= 0.25110304 b= 0.79060775\n",
      "Epoch: 2901 cost=  0.076995 W= 0.25101328 b= 0.7912535\n",
      "Epoch: 2951 cost=  0.076994 W= 0.25092894 b= 0.7918596\n",
      "Epoch: 3001 cost=  0.076994 W= 0.25084966 b= 0.79243034\n",
      "Epoch: 3051 cost=  0.076993 W= 0.2507753 b= 0.7929647\n",
      "Epoch: 3101 cost=  0.076993 W= 0.25070542 b= 0.7934677\n",
      "Epoch: 3151 cost=  0.076993 W= 0.2506394 b= 0.7939424\n",
      "Epoch: 3201 cost=  0.076992 W= 0.25057736 b= 0.79438883\n",
      "Epoch: 3251 cost=  0.076992 W= 0.250519 b= 0.7948088\n",
      "Epoch: 3301 cost=  0.076992 W= 0.25046414 b= 0.79520345\n",
      "Epoch: 3351 cost=  0.076992 W= 0.2504126 b= 0.79557437\n",
      "Epoch: 3401 cost=  0.076992 W= 0.2503641 b= 0.7959231\n",
      "Epoch: 3451 cost=  0.076991 W= 0.2503184 b= 0.79625213\n",
      "Epoch: 3501 cost=  0.076991 W= 0.25027475 b= 0.796566\n",
      "Epoch: 3551 cost=  0.076991 W= 0.2502346 b= 0.79685473\n",
      "Epoch: 3601 cost=  0.076991 W= 0.2501967 b= 0.79712754\n",
      "Epoch: 3651 cost=  0.076991 W= 0.25016102 b= 0.7973845\n",
      "Epoch: 3701 cost=  0.076991 W= 0.25012726 b= 0.7976272\n",
      "Epoch: 3751 cost=  0.076991 W= 0.25009537 b= 0.79785645\n",
      "Epoch: 3801 cost=  0.076991 W= 0.25006548 b= 0.7980721\n",
      "Epoch: 3851 cost=  0.076991 W= 0.2500373 b= 0.7982746\n",
      "Epoch: 3901 cost=  0.076991 W= 0.2500112 b= 0.79846156\n",
      "Epoch: 3951 cost=  0.076991 W= 0.24998668 b= 0.7986381\n",
      "최적화 종료\n",
      "cost= 0.07699064 W= 0.24996428 b= 0.7988002\n"
     ]
    },
    {
     "data": {
      "image/png": "[encoded data removed]",
      "text/plain": [
       "<Figure size 432x288 with 1 Axes>"
      ]
     },
     "metadata": {
      "needs_background": "light"
     },
     "output_type": "display_data"
    }
   ],
   "source": [
    "# 그라프 정의 :  node( 연산) + edge(데이터전달 : tensor(배열+행렬))\n",
    "# 전제조건 : GPU 가 존재 => 네트워크로 연결(cpu & gpu)\n",
    "# session 연결 : 실행한다.\n",
    "with tf.Session() as sess: # 실행부\n",
    "    sess.run(init)  # 실행되면 초기화시키고\n",
    "    for epoch in range(training_epochs):  # 반복횟수 (세대)\n",
    "        \n",
    "        # 미니배치 ( 데이터 하나씩 넣고 있다)\n",
    "        for (x, y) in zip(train_X, train_Y):\n",
    "            sess.run(optimizer, feed_dict = {X: x, Y:y})\n",
    "        \n",
    "        # cost :비용함수 (점점 감소해야한다 : 우하향)  // accuracy는 증가함수\n",
    "        if epoch % display_step == 0:\n",
    "            print(\"Epoch:\", '%04d' % (epoch+1), \"cost=\", \"{:9f}\".format(sess.run(cost, feed_dict={X:train_X, Y: train_Y})), \n",
    "                 \"W=\", sess.run(W), \"b=\", sess.run(b)) # 수렴값\n",
    "    print(\"최적화 종료\")\n",
    "    print(\"cost=\", sess.run(cost, feed_dict={X:train_X, Y: train_Y}),\"W=\", sess.run(W), \"b=\", sess.run(b)) \n",
    "    \n",
    "    plt.plot(train_X, train_Y, 'ro', label = \"Origianl Data\")\n",
    "    # predict 한 결과값 출력\n",
    "    plt.plot(train_X, sess.run(W) * train_X + sess.run(b), label = 'Fitted line')\n",
    "    plt.legend()\n",
    "    plt.show()"
   ]
  },
  {
   "cell_type": "code",
   "execution_count": 156,
   "metadata": {},
   "outputs": [],
   "source": [
    "# tensor -> 직접 시각화하는 것이 불가능 => numpy 포멧으로 변경해서 시각화\n",
    "import tensorflow as tf\n",
    "\n",
    "def run_variable(variable):\n",
    "    tf.global_variables_initializer()\n",
    "    with tf.Session() as sess:\n",
    "        return sess.run(variable)"
   ]
  },
  {
   "cell_type": "code",
   "execution_count": 162,
   "metadata": {},
   "outputs": [],
   "source": [
    "my_distraibution = tf.random_uniform((600,400), seed = 42) # 24  # 데이터 갯수에 따라서 균등분포가 되기도 하고 아니기도 하다\n",
    "uniform = run_variable(my_distraibution)"
   ]
  },
  {
   "cell_type": "code",
   "execution_count": 163,
   "metadata": {},
   "outputs": [
    {
     "data": {
      "image/png": "[encoded data removed]",
      "text/plain": [
       "<Figure size 432x288 with 1 Axes>"
      ]
     },
     "metadata": {
      "needs_background": "light"
     },
     "output_type": "display_data"
    }
   ],
   "source": [
    "from matplotlib import pyplot as plt\n",
    "plt.hist(uniform.flatten())  # flatten : 데이터의 메모리 저장 : 1차원으로 *******\n",
    "plt.show()"
   ]
  },
  {
   "cell_type": "code",
   "execution_count": null,
   "metadata": {},
   "outputs": [],
   "source": [
    "# activation 함수 : 활성화 함수 :  회귀냐 분류인가를 결정\n",
    " - 비선형 매핑 (선형대수 -> 비선형문제로 변경)\n",
    " - 가중치를 깊게하고 활성화함수 매핑으로 XOR 문제를 해결\n",
    " - 그라프를 꼭 리셋해줘야 사용가능하다. "
   ]
  },
  {
   "cell_type": "code",
   "execution_count": 165,
   "metadata": {},
   "outputs": [
    {
     "name": "stdout",
     "output_type": "stream",
     "text": [
      "[-10.          -9.7979798   -9.5959596   -9.39393939  -9.19191919\n",
      "  -8.98989899  -8.78787879  -8.58585859  -8.38383838  -8.18181818\n",
      "  -7.97979798  -7.77777778  -7.57575758  -7.37373737  -7.17171717\n",
      "  -6.96969697  -6.76767677  -6.56565657  -6.36363636  -6.16161616\n",
      "  -5.95959596  -5.75757576  -5.55555556  -5.35353535  -5.15151515\n",
      "  -4.94949495  -4.74747475  -4.54545455  -4.34343434  -4.14141414\n",
      "  -3.93939394  -3.73737374  -3.53535354  -3.33333333  -3.13131313\n",
      "  -2.92929293  -2.72727273  -2.52525253  -2.32323232  -2.12121212\n",
      "  -1.91919192  -1.71717172  -1.51515152  -1.31313131  -1.11111111\n",
      "  -0.90909091  -0.70707071  -0.50505051  -0.3030303   -0.1010101\n",
      "   0.1010101    0.3030303    0.50505051   0.70707071   0.90909091\n",
      "   1.11111111   1.31313131   1.51515152   1.71717172   1.91919192\n",
      "   2.12121212   2.32323232   2.52525253   2.72727273   2.92929293\n",
      "   3.13131313   3.33333333   3.53535354   3.73737374   3.93939394\n",
      "   4.14141414   4.34343434   4.54545455   4.74747475   4.94949495\n",
      "   5.15151515   5.35353535   5.55555556   5.75757576   5.95959596\n",
      "   6.16161616   6.36363636   6.56565657   6.76767677   6.96969697\n",
      "   7.17171717   7.37373737   7.57575758   7.77777778   7.97979798\n",
      "   8.18181818   8.38383838   8.58585859   8.78787879   8.98989899\n",
      "   9.19191919   9.39393939   9.5959596    9.7979798   10.        ]\n"
     ]
    }
   ],
   "source": [
    "import tensorflow as tf\n",
    "import numpy as np\n",
    "import matplotlib.pyplot as plt\n",
    "from tensorflow.python.framework import ops\n",
    "ops.reset_default_graph()\n",
    "sess = tf.Session()\n",
    "\n",
    "x_vals = np.linspace(start = -10, stop = 10, num = 100)\n",
    "print(x_vals)"
   ]
  },
  {
   "cell_type": "code",
   "execution_count": 168,
   "metadata": {},
   "outputs": [
    {
     "name": "stdout",
     "output_type": "stream",
     "text": [
      "[ 0.  3. 10.]\n",
      "[0.26894143 0.5        0.7310586 ]\n",
      "[-0.7615942  0.         0.7615942]\n",
      "[-0.63212055  0.          1.        ]\n",
      "[-0.9999546  -0.99994444 -0.999932   -0.99991677 -0.99989814 -0.99987534\n",
      " -0.99984743 -0.99981327 -0.99977147 -0.99972031 -0.99965769 -0.99958106\n",
      " -0.99948727 -0.99937248 -0.999232   -0.99906006 -0.99884964 -0.9985921\n",
      " -0.99827691 -0.99789116 -0.99741905 -0.99684124 -0.99613408 -0.99526861\n",
      " -0.99420938 -0.99291301 -0.99132643 -0.98938465 -0.98700817 -0.98409965\n",
      " -0.98053999 -0.97618343 -0.97085155 -0.96432601 -0.95633957 -0.94656519\n",
      " -0.9346026  -0.9199619  -0.90204355 -0.88011378 -0.85327452 -0.82042669\n",
      " -0.78022512 -0.73102351 -0.67080701 -0.59710968 -0.50691352 -0.3965249\n",
      " -0.26142329 -0.0960761   0.1010101   0.3030303   0.50505051  0.70707071\n",
      "  0.90909091  1.11111111  1.31313131  1.51515152  1.71717172  1.91919192\n",
      "  2.12121212  2.32323232  2.52525253  2.72727273  2.92929293  3.13131313\n",
      "  3.33333333  3.53535354  3.73737374  3.93939394  4.14141414  4.34343434\n",
      "  4.54545455  4.74747475  4.94949495  5.15151515  5.35353535  5.55555556\n",
      "  5.75757576  5.95959596  6.16161616  6.36363636  6.56565657  6.76767677\n",
      "  6.96969697  7.17171717  7.37373737  7.57575758  7.77777778  7.97979798\n",
      "  8.18181818  8.38383838  8.58585859  8.78787879  8.98989899  9.19191919\n",
      "  9.39393939  9.5959596   9.7979798  10.        ]\n",
      "[0.31326166 0.6931472  1.3132616 ]\n"
     ]
    },
    {
     "data": {
      "image/png": "[encoded data removed]",
      "text/plain": [
       "<Figure size 432x288 with 1 Axes>"
      ]
     },
     "metadata": {
      "needs_background": "light"
     },
     "output_type": "display_data"
    },
    {
     "data": {
      "image/png": "[encoded data removed]",
      "text/plain": [
       "<Figure size 432x288 with 1 Axes>"
      ]
     },
     "metadata": {
      "needs_background": "light"
     },
     "output_type": "display_data"
    }
   ],
   "source": [
    "print(sess.run(tf.nn.relu([-3., 3., 10.]))) # 0 ~ 00 (무한대)\n",
    "y_relu =sess.run(tf.nn.relu(x_vals))\n",
    "\n",
    "print(sess.run(tf.nn.sigmoid([-1.,0.,1.])))  # 0 ~ 1\n",
    "y_sigmoid = sess.run(tf.nn.sigmoid(x_vals))\n",
    "\n",
    "print(sess.run(tf.nn.tanh([-1.,0.,1.]))) # -1 ~1\n",
    "y_tanh = sess.run(tf.nn.tanh(x_vals))\n",
    "\n",
    "print(sess.run(tf.nn.elu([-1., 0., 1.]))) # -1 ~ 00 무한대까지 수정본\n",
    "y_elu = sess.run(tf.nn.elu(x_vals))\n",
    "print(y_elu)\n",
    "\n",
    "print(sess.run(tf.nn.softplus([-1., 0., 1.]))) # 각진 단점 보완 (relu 보완)\n",
    "y_softplus = sess.run(tf.nn.softplus(x_vals))\n",
    "\n",
    "plt.plot(x_vals, y_relu, 'b:', label='Relu', linewidth=2)\n",
    "plt.plot(x_vals, y_elu, 'k-', label='ExpLU', linewidth=0.5)\n",
    "plt.ylim([-1.5, 7])\n",
    "plt.legend(loc='upper left')\n",
    "plt.show()\n",
    "\n",
    "plt.plot(x_vals, y_sigmoid, 'r--', label='Sigmoid', linewidth=2)\n",
    "plt.plot(x_vals, y_tanh, 'b:', label='Tanh', linewidth=2)\n",
    "plt.ylim([-2, 2])\n",
    "plt.legend(loc='upper left')\n",
    "plt.show()"
   ]
  },
  {
   "cell_type": "code",
   "execution_count": 186,
   "metadata": {},
   "outputs": [],
   "source": [
    "ops.reset_default_graph()  # 그라프 초기화\n",
    "sess = tf.Session()  \n",
    "tf.set_random_seed(5)  # 시드의 초기값\n",
    "np.random.seed(42)\n",
    "batch_size = 50\n",
    "\n",
    "a1 = tf.Variable(tf.random_normal(shape=[1,1]))  # 가중치\n",
    "b1 = tf.Variable(tf.random_uniform(shape = [1,1]))  # bias\n",
    "\n",
    "a2 = tf.Variable(tf.random_normal(shape=[1,1]))\n",
    "b2 = tf.Variable(tf.random_uniform(shape = [1,1]))\n",
    "\n",
    "x = np.random.normal(2,0.1,500)  # 500개의 랜덤 데이터\n",
    "x_data = tf.placeholder(shape = [None, 1], dtype = tf.float32)  # none : 사이즈를 고정하지 않고 입력 데이터로부터 계산\n",
    "                                # 행데이터로 생성 [,1]"
   ]
  },
  {
   "cell_type": "code",
   "execution_count": 187,
   "metadata": {},
   "outputs": [
    {
     "name": "stdout",
     "output_type": "stream",
     "text": [
      "\n",
      " Sigmoid AND Relu 함수의 최적화 0.75\n"
     ]
    }
   ],
   "source": [
    "                                                                   # y = ax + b \n",
    "sigmoid_activation = tf.sigmoid(tf.add(tf.matmul(x_data, a1), b1)) # 그 값들을 sigmoid(0~1) 사이값으로 맵핑시키기\n",
    "relu_activation = tf.nn.relu(tf.add(tf.matmul(x_data, a2), b2))  # relu :(0 ~ 무한대) 값으로 맵핑\n",
    "\n",
    "\n",
    "# 0.75로 수렴과정\n",
    "# MSE\n",
    "loss1 = tf.reduce_mean(tf.square(tf.subtract(sigmoid_activation, 0.75)))\n",
    "loss2 = tf.reduce_mean(tf.square(tf.subtract(relu_activation, 0.75)))\n",
    "\n",
    "# 초기화\n",
    "init = tf.global_variables_initializer()\n",
    "# 호출\n",
    "sess.run(init)\n",
    "\n",
    "my_opt = tf.train.GradientDescentOptimizer(0.01)\n",
    "train_step_sigmoid = my_opt.minimize(loss1)\n",
    "train_step_relu = my_opt.minimize(loss2)\n",
    "print('\\n Sigmoid AND Relu 함수의 최적화 0.75')"
   ]
  },
  {
   "cell_type": "code",
   "execution_count": 188,
   "metadata": {},
   "outputs": [],
   "source": [
    "# 로스값 저장\n",
    "loss_vec_sigmoid = []\n",
    "loss_vec_relu = []"
   ]
  },
  {
   "cell_type": "code",
   "execution_count": 191,
   "metadata": {},
   "outputs": [
    {
     "name": "stdout",
     "output_type": "stream",
     "text": [
      "sigmoid=0.69237936\trelu = 0.7464815\n",
      "sigmoid=0.703098\trelu = 0.75015044\n",
      "sigmoid=0.71142083\trelu = 0.7532245\n",
      "sigmoid=0.71982867\trelu = 0.7486302\n",
      "sigmoid=0.7255859\trelu = 0.7484602\n",
      "sigmoid=0.72879195\trelu = 0.75285554\n",
      "sigmoid=0.7335839\trelu = 0.7472486\n",
      "sigmoid=0.73621553\trelu = 0.74973464\n",
      "sigmoid=0.7412111\trelu = 0.7381036\n",
      "sigmoid=0.74073\trelu = 0.7484976\n"
     ]
    }
   ],
   "source": [
    "for i in range(500) :  # 500번 돌기\n",
    "    # 500 -> 50 랜덤으로 뽑기 \n",
    "    rand_indices = np.random.choice(len(x), size= batch_size) # len(x):500개\n",
    "    x_vals = np.transpose([x[rand_indices]]) # 모양을 맞추기 위해서 전치\n",
    "    \n",
    "    sess.run(train_step_sigmoid, feed_dict = {x_data: x_vals})\n",
    "    sess.run(train_step_relu, feed_dict = {x_data: x_vals})\n",
    "    \n",
    "    loss_vec_sigmoid.append(sess.run(loss1, feed_dict = {x_data: x_vals}))\n",
    "    loss_vec_relu.append(sess.run(loss2, feed_dict = {x_data: x_vals}))\n",
    "    \n",
    "    sigmoid_output = np.mean(sess.run(sigmoid_activation, feed_dict={x_data: x_vals}))\n",
    "    relu_output = np.mean(sess.run(relu_activation, feed_dict = {x_data: x_vals}))\n",
    "    \n",
    "    if i %50 ==0:\n",
    "        print(\"sigmoid=\" + str(np.mean(sigmoid_output)) + '\\t'+ 'relu = ' + str(np.mean(relu_output)))"
   ]
  },
  {
   "cell_type": "code",
   "execution_count": 192,
   "metadata": {},
   "outputs": [
    {
     "data": {
      "image/png": "[encoded data removed]",
      "text/plain": [
       "<Figure size 432x288 with 1 Axes>"
      ]
     },
     "metadata": {
      "needs_background": "light"
     },
     "output_type": "display_data"
    }
   ],
   "source": [
    "plt.plot(loss_vec_sigmoid, 'k-', label='Sigmoid Activation')\n",
    "plt.plot(loss_vec_relu, 'r--', label='Relu Activation')\n",
    "plt.ylim([0, 1.0])\n",
    "plt.title(' loss per Generation')\n",
    "plt.xlabel('Generation')\n",
    "plt.ylabel('Loss')\n",
    "plt.legend(loc='upper right')\n",
    "plt.show() "
   ]
  },
  {
   "cell_type": "code",
   "execution_count": null,
   "metadata": {},
   "outputs": [],
   "source": []
  }
 ],
 "metadata": {
  "kernelspec": {
   "display_name": "Python 3",
   "language": "python",
   "name": "python3"
  },
  "language_info": {
   "codemirror_mode": {
    "name": "ipython",
    "version": 3
   },
   "file_extension": ".py",
   "mimetype": "text/x-python",
   "name": "python",
   "nbconvert_exporter": "python",
   "pygments_lexer": "ipython3",
   "version": "3.7.6"
  },
  "toc": {
   "base_numbering": 1,
   "nav_menu": {},
   "number_sections": true,
   "sideBar": true,
   "skip_h1_title": false,
   "title_cell": "Table of Contents",
   "title_sidebar": "Contents",
   "toc_cell": false,
   "toc_position": {},
   "toc_section_display": true,
   "toc_window_display": false
  }
 },
 "nbformat": 4,
 "nbformat_minor": 4
}
